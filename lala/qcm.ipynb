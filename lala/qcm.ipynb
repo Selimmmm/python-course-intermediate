{
 "cells": [
  {
   "cell_type": "markdown",
   "metadata": {},
   "source": [
    "## Question 1\n",
    "##### Qu'affiche la console à l'exécution de la cellule suivante ?\n",
    "##### What does the console display when the next cell is executed?"
   ]
  },
  {
   "cell_type": "code",
   "execution_count": 1,
   "metadata": {},
   "outputs": [
    {
     "name": "stdout",
     "output_type": "stream",
     "text": [
      "C\n"
     ]
    }
   ],
   "source": [
    "m = \"HETIC\"\n",
    "print(m[-1])"
   ]
  },
  {
   "cell_type": "markdown",
   "metadata": {},
   "source": [
    "##### Réponse A : C\n",
    "##### Réponse B : H\n",
    "##### Réponse C : E"
   ]
  },
  {
   "cell_type": "markdown",
   "metadata": {},
   "source": [
    "## Question 2\n",
    "##### Qu'affiche la console à l'exécution de la cellule suivante ?\n",
    "##### What does the console display when the next cell is executed?"
   ]
  },
  {
   "cell_type": "code",
   "execution_count": 2,
   "metadata": {},
   "outputs": [
    {
     "name": "stdout",
     "output_type": "stream",
     "text": [
      "6\n"
     ]
    }
   ],
   "source": [
    "l = [0, 1, 2, 3, 4, 5, 6, 7, 8, 9]\n",
    "sub_l = l[:len(l)-4]\n",
    "print(len(sub_l))"
   ]
  },
  {
   "cell_type": "markdown",
   "metadata": {},
   "source": [
    "##### Réponse A : 6\n",
    "##### Réponse B : 5\n",
    "##### Réponse C : 7"
   ]
  },
  {
   "cell_type": "markdown",
   "metadata": {},
   "source": [
    "## Question 3\n",
    "##### Qu'affiche la console à l'exécution de la cellule suivante ?\n",
    "##### What does the console display when the next cell is executed?"
   ]
  },
  {
   "cell_type": "code",
   "execution_count": null,
   "metadata": {},
   "outputs": [],
   "source": [
    "## Ajouter exemple 'strict'"
   ]
  },
  {
   "cell_type": "code",
   "execution_count": null,
   "metadata": {},
   "outputs": [],
   "source": [
    "# for n, letter in zip([1, 2], [\"a\", \"b\", \"c\"]):\n",
    "    print(n, letter)"
   ]
  },
  {
   "cell_type": "code",
   "execution_count": null,
   "metadata": {},
   "outputs": [],
   "source": [
    "letters = [\"a\", \"b\", \"c\", \"d\"]\n",
    "numbers = [1, 2, 3, 4]\n",
    "\n",
    "d = {}\n",
    "for l, n in zip(letters, numbers):\n",
    "    d[l] = n * 2 \n",
    "\n",
    "print(d[\"d\"])"
   ]
  },
  {
   "cell_type": "markdown",
   "metadata": {},
   "source": [
    "##### Réponse A : \"d\"\n",
    "##### Réponse B : 4\n",
    "##### Réponse C : 8"
   ]
  },
  {
   "cell_type": "markdown",
   "metadata": {},
   "source": [
    "## Question 4\n",
    "##### Qu'affiche la console à l'exécution de la cellule suivante ?\n",
    "##### What does the console display when the next cell is executed?"
   ]
  },
  {
   "cell_type": "code",
   "execution_count": 5,
   "metadata": {},
   "outputs": [
    {
     "name": "stdout",
     "output_type": "stream",
     "text": [
      "20\n"
     ]
    }
   ],
   "source": [
    "letters = [\"a\", \"b\", \"c\", \"d\"]\n",
    "numbers = [1, 2, 3, 4]\n",
    "\n",
    "d = {}\n",
    "for l, n in zip(letters, numbers):\n",
    "    d[l] = n * 2 \n",
    "\n",
    "print(sum(d.values()))"
   ]
  },
  {
   "cell_type": "markdown",
   "metadata": {},
   "source": [
    "##### Réponse A : \"abcd\"\n",
    "##### Réponse B : 10\n",
    "##### Réponse C : 20"
   ]
  },
  {
   "cell_type": "markdown",
   "metadata": {},
   "source": [
    "    \n",
    "    \n",
    "    \n",
    "    \n",
    "    "
   ]
  },
  {
   "cell_type": "markdown",
   "metadata": {},
   "source": [
    "## Question 5\n",
    "##### Qu'affiche la console à l'exécution de la cellule suivante ?\n",
    "##### What does the console display when the next cell is executed?"
   ]
  },
  {
   "cell_type": "code",
   "execution_count": 6,
   "metadata": {},
   "outputs": [
    {
     "name": "stdout",
     "output_type": "stream",
     "text": [
      "[True, False, True, False]\n"
     ]
    }
   ],
   "source": [
    "l = [True if int(x)==2 else False for x in \"2021\"]\n",
    "print(l)"
   ]
  },
  {
   "cell_type": "markdown",
   "metadata": {},
   "source": [
    "##### Réponse A : [False, True, False, True]\n",
    "##### Réponse B : [True, False, True, False]\n",
    "##### Réponse C : [True, True, True, True]"
   ]
  },
  {
   "cell_type": "markdown",
   "metadata": {},
   "source": [
    "## Question 6\n",
    "##### Qu'affiche la console à l'exécution de la cellule suivante ?\n",
    "##### What does the console display when the next cell is executed?"
   ]
  },
  {
   "cell_type": "code",
   "execution_count": 7,
   "metadata": {},
   "outputs": [
    {
     "name": "stdout",
     "output_type": "stream",
     "text": [
      "[False, True, False, False, False, True, False, False, True, False]\n",
      "3\n"
     ]
    }
   ],
   "source": [
    "l = [x == \"0\" for x in \"2021-01-01\"]\n",
    "print(l)\n",
    "print(sum(l))"
   ]
  },
  {
   "cell_type": "markdown",
   "metadata": {},
   "source": [
    "##### Réponse A : 0\n",
    "##### Réponse B : 3\n",
    "##### Réponse C : None"
   ]
  },
  {
   "cell_type": "markdown",
   "metadata": {},
   "source": [
    "## Question 7\n",
    "##### Qu'affiche la console à l'exécution de la cellule suivante ?\n",
    "##### What does the console display when the next cell is executed?"
   ]
  },
  {
   "cell_type": "code",
   "execution_count": 8,
   "metadata": {},
   "outputs": [
    {
     "name": "stdout",
     "output_type": "stream",
     "text": [
      "20.0\n"
     ]
    }
   ],
   "source": [
    "def calculer_remise(prix, remise):\n",
    "    return prix * (1 - remise)\n",
    "\n",
    "liste_prix = [10, 10, 20]\n",
    "remise = 0.5\n",
    "liste_prix_remises = [\n",
    "    calculer_remise(prix, remise) \n",
    "    for prix in liste_prix\n",
    "]\n",
    "print(sum(liste_prix_remises))"
   ]
  },
  {
   "cell_type": "markdown",
   "metadata": {},
   "source": [
    "##### Réponse A : 10\n",
    "##### Réponse B : 15\n",
    "##### Réponse C : 20"
   ]
  },
  {
   "cell_type": "markdown",
   "metadata": {},
   "source": [
    "## Question 8\n",
    "##### Qu'affiche la console à l'exécution de la cellule suivante ?\n",
    "##### What does the console display when the next cell is executed?"
   ]
  },
  {
   "cell_type": "code",
   "execution_count": 9,
   "metadata": {},
   "outputs": [
    {
     "data": {
      "text/plain": [
       "'dossier_n__100'"
      ]
     },
     "execution_count": 9,
     "metadata": {},
     "output_type": "execute_result"
    }
   ],
   "source": [
    "def format_name(string):\n",
    "    string = string.strip().lower().replace(\".\", \" \").replace(\" \", \"_\")\n",
    "    return string\n",
    "\n",
    "format_name(\"Dossier n. 100  \")"
   ]
  },
  {
   "cell_type": "markdown",
   "metadata": {},
   "source": [
    "##### Réponse A : 'dossier_n_100'\n",
    "##### Réponse B : 'dossier_n_100  '\n",
    "##### Réponse C : 'dossier_n__100'"
   ]
  },
  {
   "cell_type": "markdown",
   "metadata": {},
   "source": [
    "## Question 9\n",
    "##### Qu'affiche la console à l'exécution de la cellule suivante ?\n",
    "##### What does the console display when the next cell is executed?"
   ]
  },
  {
   "cell_type": "code",
   "execution_count": 10,
   "metadata": {},
   "outputs": [
    {
     "name": "stdout",
     "output_type": "stream",
     "text": [
      "[1, 3, 5]\n"
     ]
    }
   ],
   "source": [
    "l = []\n",
    "for x in range(10):\n",
    "    if x%2 == 0:\n",
    "        continue\n",
    "    elif x == 5:\n",
    "        l.append(x)\n",
    "        break\n",
    "    else:\n",
    "        l.append(x)\n",
    "print(l)"
   ]
  },
  {
   "cell_type": "markdown",
   "metadata": {},
   "source": [
    "##### Réponse A : [1, 3, 4, 7, 9]\n",
    "##### Réponse B : [1, 3, 5]\n",
    "##### Réponse C : [1, 3]"
   ]
  },
  {
   "cell_type": "markdown",
   "metadata": {},
   "source": [
    "## Question 10\n",
    "##### L'exécution de la cellule suivante déclenche-t-elle une erreur ? (Rappel : En Python diviser par 0 déclenche une erreur)\n",
    "##### Does executing the next cell trigger an error ? (In Python, dividing by 0 triggers an error)"
   ]
  },
  {
   "cell_type": "code",
   "execution_count": 11,
   "metadata": {},
   "outputs": [
    {
     "ename": "ZeroDivisionError",
     "evalue": "division by zero",
     "output_type": "error",
     "traceback": [
      "\u001b[0;31m---------------------------------------------------------------------------\u001b[0m",
      "\u001b[0;31mZeroDivisionError\u001b[0m                         Traceback (most recent call last)",
      "Input \u001b[0;32mIn [11]\u001b[0m, in \u001b[0;36m<module>\u001b[0;34m\u001b[0m\n\u001b[1;32m      3\u001b[0m \u001b[38;5;28;01mtry\u001b[39;00m:\n\u001b[0;32m----> 4\u001b[0m     \u001b[38;5;241;43m1\u001b[39;49m\u001b[43m \u001b[49m\u001b[38;5;241;43m/\u001b[39;49m\u001b[43m \u001b[49m\u001b[43mx\u001b[49m\n\u001b[1;32m      5\u001b[0m \u001b[38;5;28;01mexcept\u001b[39;00m:\n",
      "\u001b[0;31mZeroDivisionError\u001b[0m: division by zero",
      "\nDuring handling of the above exception, another exception occurred:\n",
      "\u001b[0;31mZeroDivisionError\u001b[0m                         Traceback (most recent call last)",
      "Input \u001b[0;32mIn [11]\u001b[0m, in \u001b[0;36m<module>\u001b[0;34m\u001b[0m\n\u001b[1;32m      4\u001b[0m     \u001b[38;5;241m1\u001b[39m \u001b[38;5;241m/\u001b[39m x\n\u001b[1;32m      5\u001b[0m \u001b[38;5;28;01mexcept\u001b[39;00m:\n\u001b[0;32m----> 6\u001b[0m     resultat \u001b[38;5;241m=\u001b[39m \u001b[38;5;241;43m1\u001b[39;49m\u001b[43m \u001b[49m\u001b[38;5;241;43m/\u001b[39;49m\u001b[43m \u001b[49m\u001b[43mx\u001b[49m\n\u001b[1;32m      7\u001b[0m     \u001b[38;5;28mprint\u001b[39m(\u001b[38;5;124m\"\u001b[39m\u001b[38;5;124mOn ne peut pas calculer\u001b[39m\u001b[38;5;124m\"\u001b[39m, resultat)\n",
      "\u001b[0;31mZeroDivisionError\u001b[0m: division by zero"
     ]
    }
   ],
   "source": [
    "l = []\n",
    "for x in range(10):\n",
    "    try:\n",
    "        1 / x\n",
    "    except:\n",
    "        resultat = 1 / x\n",
    "        print(\"On ne peut pas calculer\", resultat)"
   ]
  },
  {
   "cell_type": "markdown",
   "metadata": {},
   "source": [
    "##### Réponse A : Oui\n",
    "##### Réponse B : Non"
   ]
  },
  {
   "cell_type": "markdown",
   "metadata": {},
   "source": [
    "## Question 11\n",
    "##### L'exécution des deux cellules a-t-elle le même effet ? \n",
    "##### Does running both cells have the same effect?"
   ]
  },
  {
   "cell_type": "code",
   "execution_count": null,
   "metadata": {},
   "outputs": [],
   "source": [
    "file = open(\"file_example.txt\",\"w+\")\n",
    "file.write(\"Bonjour\")\n",
    "file.close() "
   ]
  },
  {
   "cell_type": "code",
   "execution_count": null,
   "metadata": {},
   "outputs": [],
   "source": [
    "with open(\"file_example.txt\",\"w+\") as file:\n",
    "    file.write(\"Bonjour\")"
   ]
  },
  {
   "cell_type": "markdown",
   "metadata": {},
   "source": [
    "##### Réponse A : Oui\n",
    "##### Réponse B : Non"
   ]
  },
  {
   "cell_type": "markdown",
   "metadata": {},
   "source": [
    "## Question 12\n",
    "##### Qu'affiche la console à l'exécution de la cellule suivante ?\n",
    "##### What does the console display when the next cell is executed?"
   ]
  },
  {
   "cell_type": "code",
   "execution_count": 14,
   "metadata": {},
   "outputs": [
    {
     "name": "stdout",
     "output_type": "stream",
     "text": [
      "0 hilbert\n",
      "1 gauss\n",
      "2 rolle\n",
      "0 hilbert\n",
      "1 gauss\n",
      "2 rolle\n"
     ]
    }
   ],
   "source": [
    "for i, j in zip(\n",
    "    range(3),\n",
    "    [\"hilbert\", \"gauss\", \"rolle\"]\n",
    "):\n",
    "    print(i, j)\n",
    "\n",
    "for i, j in enumerate([\"hilbert\", \"gauss\", \"rolle\"]):\n",
    "    print(i, j)\n"
   ]
  },
  {
   "cell_type": "code",
   "execution_count": 12,
   "metadata": {},
   "outputs": [
    {
     "name": "stdout",
     "output_type": "stream",
     "text": [
      "{0: 'hilbert'}\n"
     ]
    }
   ],
   "source": [
    "d = {}\n",
    "for i, j in enumerate([\"hilbert\", \"gauss\", \"rolle\"]):\n",
    "    if len(j) > 5:\n",
    "        d[i] = j\n",
    "print(d)"
   ]
  },
  {
   "cell_type": "markdown",
   "metadata": {},
   "source": [
    "##### Réponse A : {0: 'hilbert'}\n",
    "##### Réponse B : {'hilbert': 0}\n",
    "##### Réponse C : {0: 'hilbert', 1: 'gauss'}\n",
    "##### Réponse D : {'hilbert': 0, 'gauss':1}"
   ]
  },
  {
   "cell_type": "markdown",
   "metadata": {},
   "source": [
    "## Question 13\n",
    "##### Qu'affiche la console à l'exécution de la cellule suivante ?\n",
    "##### What does the console display when the next cell is executed?"
   ]
  },
  {
   "cell_type": "code",
   "execution_count": 15,
   "metadata": {},
   "outputs": [
    {
     "data": {
      "text/plain": [
       "False"
      ]
     },
     "execution_count": 15,
     "metadata": {},
     "output_type": "execute_result"
    }
   ],
   "source": [
    "def operation_logique(bool_1, bool_2):\n",
    "    return (bool_1 or bool_2) and not( bool_1 and bool_2)\n",
    "\n",
    "operation_logique(True, True)"
   ]
  },
  {
   "cell_type": "markdown",
   "metadata": {},
   "source": [
    "##### Réponse A : False\n",
    "##### Réponse B : True\n",
    "##### Réponse C : None"
   ]
  },
  {
   "cell_type": "markdown",
   "metadata": {},
   "source": [
    "## Question 14\n",
    "##### Qu'affiche la console à l'exécution de la cellule suivante ?\n",
    "##### What does the console display when the next cell is executed?"
   ]
  },
  {
   "cell_type": "code",
   "execution_count": 17,
   "metadata": {},
   "outputs": [
    {
     "name": "stdout",
     "output_type": "stream",
     "text": [
      "3\n"
     ]
    }
   ],
   "source": [
    "phrase = \"Python 3.9 est en version stable depuis le 5 octobre 2020. Nous attendons Python 4.\"\n",
    "ct = 0\n",
    "l = []\n",
    "while ct < len(phrase):\n",
    "    c = phrase[ct]\n",
    "#    if c.lower() != c:\n",
    "    if c.isupper():\n",
    "        l.append(c)\n",
    "    ct+=1\n",
    "print(len(l))"
   ]
  },
  {
   "cell_type": "markdown",
   "metadata": {},
   "source": [
    "##### Réponse A : 0\n",
    "##### Réponse B : 3\n",
    "##### Réponse C : 80"
   ]
  },
  {
   "cell_type": "markdown",
   "metadata": {},
   "source": [
    "## Question 15\n",
    "##### Qu'affiche la console à l'exécution de la cellule suivante ?\n",
    "##### What does the console display when the next cell is executed?"
   ]
  },
  {
   "cell_type": "markdown",
   "metadata": {},
   "source": [
    "0 - 1 - 2 - 3 - 4 - 5 - 6 - 7 - 8 - 9 - 10\n",
    "E->                                   <-€\n",
    "    E                               €\n",
    "\n",
    "    "
   ]
  },
  {
   "cell_type": "code",
   "execution_count": null,
   "metadata": {},
   "outputs": [],
   "source": [
    "class Train:\n",
    "    def __init__(self, nom, position):\n",
    "        self.nom = nom\n",
    "        self.position = position\n",
    "        \n",
    "    def avancer_nord_1_km(self):\n",
    "        self.position +=1\n",
    "        \n",
    "    def avancer_sud_1_km(self):\n",
    "        self.position -= 1\n",
    "        \n",
    "orient_express = Train(\"orient_express\", 0)\n",
    "eurostar = Train(\"eurostar\", 9)\n",
    "\n",
    "collision = False\n",
    "\n",
    "while not collision:\n",
    "    orient_express.avancer_nord_1_km()\n",
    "    eurostar.avancer_sud_1_km()\n",
    "    collision = orient_express.position == eurostar.position\n",
    "\n",
    "print(f\"Position de l'Eurostar au moment de la collision : {eurostar.position} km\")"
   ]
  },
  {
   "cell_type": "markdown",
   "metadata": {},
   "source": [
    "##### Réponse A : Position de l'Eurostar au moment de la collision : 0 km\n",
    "##### Réponse B : Position de l'Eurostar au moment de la collision : 1 km\n",
    "##### Réponse C : Position de l'Eurostar au moment de la collision : 2 km\n",
    "##### Réponse D : Position de l'Eurostar au moment de la collision : 3 km\n",
    "##### Réponse E : Position de l'Eurostar au moment de la collision : 4 km\n",
    "##### Réponse F : Position de l'Eurostar au moment de la collision : 5 km\n",
    "##### Réponse G : Position de l'Eurostar au moment de la collision : 6 km\n",
    "##### Réponse H : Position de l'Eurostar au moment de la collision : 7 km\n",
    "##### Réponse I : Position de l'Eurostar au moment de la collision : 8 km\n",
    "##### Réponse J : Position de l'Eurostar au moment de la collision : 9 km\n",
    "##### Réponse K : Position de l'Eurostar au moment de la collision : 10 km"
   ]
  },
  {
   "cell_type": "code",
   "execution_count": null,
   "metadata": {},
   "outputs": [],
   "source": []
  }
 ],
 "metadata": {
  "kernelspec": {
   "display_name": "Python 3 (ipykernel)",
   "language": "python",
   "name": "python3"
  },
  "language_info": {
   "codemirror_mode": {
    "name": "ipython",
    "version": 3
   },
   "file_extension": ".py",
   "mimetype": "text/x-python",
   "name": "python",
   "nbconvert_exporter": "python",
   "pygments_lexer": "ipython3",
   "version": "3.9.7"
  }
 },
 "nbformat": 4,
 "nbformat_minor": 4
}
