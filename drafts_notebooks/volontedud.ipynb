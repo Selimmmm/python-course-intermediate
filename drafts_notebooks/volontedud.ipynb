{
 "cells": [
  {
   "cell_type": "code",
   "execution_count": 39,
   "metadata": {},
   "outputs": [],
   "source": [
    "import requests\n",
    "from pprint import pprint\n",
    "import time\n",
    "time.sleep(5) ## Atttendre 5 secondes"
   ]
  },
  {
   "cell_type": "markdown",
   "metadata": {},
   "source": [
    "## URL "
   ]
  },
  {
   "cell_type": "code",
   "execution_count": 40,
   "metadata": {},
   "outputs": [],
   "source": [
    "url = \"http://www.volonte-d.com/perso/paille.php\""
   ]
  },
  {
   "cell_type": "markdown",
   "metadata": {},
   "source": [
    "## Type"
   ]
  },
  {
   "cell_type": "code",
   "execution_count": 41,
   "metadata": {},
   "outputs": [
    {
     "data": {
      "text/plain": [
       "requests.models.Response"
      ]
     },
     "execution_count": 41,
     "metadata": {},
     "output_type": "execute_result"
    }
   ],
   "source": [
    "response = requests.get(url)\n",
    "type(response)"
   ]
  },
  {
   "cell_type": "markdown",
   "metadata": {},
   "source": [
    "## Contenu"
   ]
  },
  {
   "cell_type": "code",
   "execution_count": 47,
   "metadata": {},
   "outputs": [
    {
     "name": "stdout",
     "output_type": "stream",
     "text": [
      "<class 'bytes'>\n",
      "<class 'str'>\n",
      "200\n"
     ]
    }
   ],
   "source": [
    "content = response.content\n",
    "print(type(content))\n",
    "\n",
    "text = response.text\n",
    "print(type(text))\n",
    "\n",
    "print(response.status_code)"
   ]
  },
  {
   "cell_type": "markdown",
   "metadata": {},
   "source": [
    "## Parcourir le code source avec bs4"
   ]
  },
  {
   "cell_type": "code",
   "execution_count": 44,
   "metadata": {},
   "outputs": [
    {
     "name": "stdout",
     "output_type": "stream",
     "text": [
      "<class 'bs4.BeautifulSoup'>\n"
     ]
    }
   ],
   "source": [
    "from bs4 import BeautifulSoup\n",
    "\n",
    "soup = BeautifulSoup(text) # spécifier le parser serait une bonne idée \n",
    "print(type(soup))"
   ]
  },
  {
   "cell_type": "code",
   "execution_count": 45,
   "metadata": {},
   "outputs": [
    {
     "data": {
      "text/plain": [
       "False"
      ]
     },
     "execution_count": 45,
     "metadata": {},
     "output_type": "execute_result"
    }
   ],
   "source": [
    "#  Si pas la division : None\n",
    "divs_crew[0].find(\"c\") is None"
   ]
  },
  {
   "cell_type": "code",
   "execution_count": 46,
   "metadata": {},
   "outputs": [
    {
     "name": "stdout",
     "output_type": "stream",
     "text": [
      "[<td align=\"center\" class=\"trsbas0\" height=\"36\"><b>Monkey D Luffy</b></td>, <td align=\"center\" class=\"trsbas0\" height=\"36\"><b>Roronoa<br/> Zoro</b></td>, <td align=\"center\" class=\"trsbas0\" height=\"36\"><b>Nami</b></td>, <td align=\"center\" class=\"trsbas0\" height=\"36\"><b>Usopp</b></td>, <td align=\"center\" class=\"trsbas0\" height=\"36\"><b>Sanji</b></td>, <td align=\"center\" class=\"trsbas0\" height=\"36\"><b>Tony Tony Chopper</b></td>, <td align=\"center\" class=\"trsbas0\" height=\"36\"><b>Nico Robin</b></td>, <td align=\"center\" class=\"trsbas0\" height=\"36\"><b>Franky</b></td>, <td align=\"center\" class=\"trsbas0\" height=\"36\"><b>Brook</b></td>, <td align=\"center\" class=\"trsbas0\" height=\"36\"><b>Jinbe</b></td>, <td align=\"center\" class=\"trsbas0\">\n",
      "<a href=\"flottechapeaupaille.php\">&gt;&gt; Cliquer ici &lt;&lt;</a>\n",
      "</td>]\n",
      "['Monkey D Luffy', 'Roronoa Zoro', 'Nami', 'Usopp', 'Sanji', 'Tony Tony Chopper', 'Nico Robin', 'Franky', 'Brook', 'Jinbe']\n"
     ]
    }
   ],
   "source": [
    "divs_crew = soup.find_all(\"td\", class_=\"trsbas0\")\n",
    "print(divs_crew)\n",
    "divs_crew = [div.find(\"b\").text for div in divs_crew if div.find(\"b\") is not None]\n",
    "print(divs_crew)"
   ]
  },
  {
   "cell_type": "code",
   "execution_count": 24,
   "metadata": {},
   "outputs": [
    {
     "data": {
      "text/plain": [
       "10"
      ]
     },
     "execution_count": 24,
     "metadata": {},
     "output_type": "execute_result"
    }
   ],
   "source": [
    "len(divs_crew)"
   ]
  },
  {
   "cell_type": "code",
   "execution_count": null,
   "metadata": {},
   "outputs": [],
   "source": []
  },
  {
   "cell_type": "code",
   "execution_count": null,
   "metadata": {},
   "outputs": [],
   "source": []
  },
  {
   "cell_type": "markdown",
   "metadata": {},
   "source": [
    "## Draft"
   ]
  },
  {
   "cell_type": "code",
   "execution_count": null,
   "metadata": {},
   "outputs": [],
   "source": [
    "url = \"http://www.volonte-d.com/perso/pirates.php\"\n",
    "\n",
    "\n",
    "divs_crew = soup.find_all(\"td\", class_=\"trsbas0\")\n",
    "print(divs_crew)\n",
    "divs_crew = [div.find(\"b\").text for div in divs_crew if div.find(\"b\") is not None]\n",
    "print(divs_crew)"
   ]
  }
 ],
 "metadata": {
  "kernelspec": {
   "display_name": "Python 3 (ipykernel)",
   "language": "python",
   "name": "python3"
  },
  "language_info": {
   "codemirror_mode": {
    "name": "ipython",
    "version": 3
   },
   "file_extension": ".py",
   "mimetype": "text/x-python",
   "name": "python",
   "nbconvert_exporter": "python",
   "pygments_lexer": "ipython3",
   "version": "3.9.7"
  }
 },
 "nbformat": 4,
 "nbformat_minor": 4
}
