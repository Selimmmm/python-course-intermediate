{
 "cells": [
  {
   "cell_type": "code",
   "execution_count": 1,
   "metadata": {},
   "outputs": [],
   "source": [
    "import requests\n",
    "\n"
   ]
  },
  {
   "cell_type": "markdown",
   "metadata": {},
   "source": [
    "# Test"
   ]
  },
  {
   "cell_type": "code",
   "execution_count": 129,
   "metadata": {},
   "outputs": [
    {
     "name": "stdout",
     "output_type": "stream",
     "text": [
      "406\n"
     ]
    }
   ],
   "source": [
    "url = \"https://www.lemonde.fr/recherche/?search_keywords=a&start_at=19/01/2000&end_at=31/08/2000&search_sort=relevance_desc&page=1\"\n",
    "response = requests.get(url)\n",
    "print(response.status_code)"
   ]
  },
  {
   "cell_type": "code",
   "execution_count": 147,
   "metadata": {},
   "outputs": [
    {
     "data": {
      "text/plain": [
       "dict_values([406, 200, 200, 406, 200, 200, 200, 200, 406])"
      ]
     },
     "execution_count": 147,
     "metadata": {},
     "output_type": "execute_result"
    }
   ],
   "source": [
    "class Retriever:\n",
    "    \n",
    "    \n",
    "    def __init__(self):\n",
    "        self.page_sources = {}\n",
    "        self.status_codes = {}\n",
    "\n",
    "    def get_url_for_page(self, i):\n",
    "        return f\"https://www.lemonde.fr/recherche/?search_keywords=a&start_at=01/09/2022&end_at=01/09/2022&search_sort=relevance_desc&page={i}\"\n",
    "    \n",
    "    def get_page_source(self, url):\n",
    "        return requests.get(url)\n",
    "    \n",
    "    def main(self):\n",
    "        for i in range(1, 10):\n",
    "            url = self.get_url_for_page(i)\n",
    "            response = self.get_page_source(url)\n",
    "            self.status_codes[i] = response.status_code\n",
    "            self.page_sources[i] = response.text\n",
    "               \n",
    "retriever = Retriever()\n",
    "retriever.main()\n",
    "retriever.status_codes.values()"
   ]
  },
  {
   "cell_type": "code",
   "execution_count": 148,
   "metadata": {},
   "outputs": [],
   "source": [
    "from bs4 import BeautifulSoup\n",
    "\n",
    "class Parser:\n",
    "    \n",
    "    def __init__(self):\n",
    "        pass\n",
    "        \n",
    "    def get_soup(self, page_source):\n",
    "        return BeautifulSoup(page_source)\n",
    "    \n",
    "    def get_articles(self, page_source):\n",
    "        return self.get_soup(page_source).find_all(\"section\", class_=\"teaser teaser--inline-picture\")\n",
    "    \n",
    "    def get_data(self, page_source):\n",
    "        data = []\n",
    "        for article in self.get_articles(page_source):\n",
    "            url = article.find(\"a\", class_=\"teaser__link\").get(\"href\")\n",
    "            print(url)\n",
    "            title = article.find(\"p\").text\n",
    "            date = article.find(\"span\", class_=\"meta__date\").text\n",
    "            data.append({\"url\": url, \"title\": title, \"date\": date})\n",
    "        return data    "
   ]
  },
  {
   "cell_type": "code",
   "execution_count": 155,
   "metadata": {},
   "outputs": [],
   "source": [
    "parser = Parser()"
   ]
  },
  {
   "cell_type": "code",
   "execution_count": 157,
   "metadata": {},
   "outputs": [
    {
     "data": {
      "text/plain": [
       "[]"
      ]
     },
     "execution_count": 157,
     "metadata": {},
     "output_type": "execute_result"
    }
   ],
   "source": [
    "parser.get_data(retriever.page_sources[2])"
   ]
  },
  {
   "cell_type": "code",
   "execution_count": null,
   "metadata": {},
   "outputs": [],
   "source": []
  },
  {
   "cell_type": "code",
   "execution_count": 149,
   "metadata": {},
   "outputs": [],
   "source": [
    "parser = Parser()\n",
    "\n",
    "data = []\n",
    "for page_source in retriever.page_sources.values():\n",
    "    #articles.extend(parser.get_articles(page_source))\n",
    "    data.extend(parser.get_data(page_source))"
   ]
  },
  {
   "cell_type": "code",
   "execution_count": 150,
   "metadata": {},
   "outputs": [
    {
     "data": {
      "text/plain": [
       "[]"
      ]
     },
     "execution_count": 150,
     "metadata": {},
     "output_type": "execute_result"
    }
   ],
   "source": [
    "data"
   ]
  },
  {
   "cell_type": "code",
   "execution_count": 151,
   "metadata": {},
   "outputs": [
    {
     "data": {
      "text/plain": [
       "[]"
      ]
     },
     "execution_count": 151,
     "metadata": {},
     "output_type": "execute_result"
    }
   ],
   "source": [
    "parser.get_data(page_source)"
   ]
  },
  {
   "cell_type": "code",
   "execution_count": 152,
   "metadata": {},
   "outputs": [],
   "source": [
    "from string import punctuation\n",
    "from collections import Counter\n",
    "\n",
    "class TitleAnalyser:\n",
    "    \n",
    "    def __init__(self, text):\n",
    "        self.text = text\n",
    "        \n",
    "    def clean_text(self, text):\n",
    "        for c in punctuation:\n",
    "            self.text = self.text.replace(c, \" \")    \n",
    "    \n",
    "    def count_words(self):\n",
    "        self.counts =  Counter(text.split(\" \")).most_common()\n",
    "        \n",
    "    def get_counts_for_words_longer_than(self, longer_than):\n",
    "        return [(w, c) for w, c in self.counts if len(w) > longer_than]\n",
    "            \n",
    "    \n",
    "    def main(self):\n",
    "        self.clean_text\n",
    "        self.count_words()\n",
    "        \n",
    "        \n",
    "        \n",
    "text = \" \".join([item[\"title\"] for item in data])\n",
    "        \n",
    "title_analyser = TitleAnalyser(text)        \n",
    "title_analyser.main()"
   ]
  },
  {
   "cell_type": "code",
   "execution_count": 153,
   "metadata": {},
   "outputs": [
    {
     "data": {
      "text/plain": [
       "[]"
      ]
     },
     "execution_count": 153,
     "metadata": {},
     "output_type": "execute_result"
    }
   ],
   "source": [
    "title_analyser.get_counts_for_words_longer_than(5)"
   ]
  },
  {
   "cell_type": "code",
   "execution_count": null,
   "metadata": {},
   "outputs": [],
   "source": []
  },
  {
   "cell_type": "code",
   "execution_count": null,
   "metadata": {},
   "outputs": [],
   "source": []
  },
  {
   "cell_type": "code",
   "execution_count": null,
   "metadata": {},
   "outputs": [],
   "source": []
  },
  {
   "cell_type": "code",
   "execution_count": null,
   "metadata": {},
   "outputs": [],
   "source": []
  },
  {
   "cell_type": "code",
   "execution_count": null,
   "metadata": {},
   "outputs": [],
   "source": []
  },
  {
   "cell_type": "code",
   "execution_count": null,
   "metadata": {},
   "outputs": [],
   "source": []
  },
  {
   "cell_type": "code",
   "execution_count": 154,
   "metadata": {},
   "outputs": [
    {
     "ename": "AttributeError",
     "evalue": "'Parser' object has no attribute 'data'",
     "output_type": "error",
     "traceback": [
      "\u001b[0;31m---------------------------------------------------------------------------\u001b[0m",
      "\u001b[0;31mAttributeError\u001b[0m                            Traceback (most recent call last)",
      "Input \u001b[0;32mIn [154]\u001b[0m, in \u001b[0;36m<module>\u001b[0;34m\u001b[0m\n\u001b[1;32m      2\u001b[0m c \u001b[38;5;241m=\u001b[39m MongoClient()\n\u001b[1;32m      3\u001b[0m db \u001b[38;5;241m=\u001b[39m c[\u001b[38;5;124m\"\u001b[39m\u001b[38;5;124mlivecampus\u001b[39m\u001b[38;5;124m\"\u001b[39m]\n\u001b[0;32m----> 5\u001b[0m \u001b[38;5;28;01mfor\u001b[39;00m item \u001b[38;5;129;01min\u001b[39;00m \u001b[43mparser\u001b[49m\u001b[38;5;241;43m.\u001b[39;49m\u001b[43mdata\u001b[49m:\n\u001b[1;32m      6\u001b[0m     db[\u001b[38;5;124m\"\u001b[39m\u001b[38;5;124mcollection_test\u001b[39m\u001b[38;5;124m\"\u001b[39m]\u001b[38;5;241m.\u001b[39minsert_one(item)\n",
      "\u001b[0;31mAttributeError\u001b[0m: 'Parser' object has no attribute 'data'"
     ]
    }
   ],
   "source": [
    "from pymongo import MongoClient\n",
    "c = MongoClient()\n",
    "db = c[\"livecampus\"]\n",
    "\n",
    "for item in parser.data:\n",
    "    db[\"collection_test\"].insert_one(item)"
   ]
  },
  {
   "cell_type": "code",
   "execution_count": 47,
   "metadata": {},
   "outputs": [
    {
     "name": "stdout",
     "output_type": "stream",
     "text": [
      "_id                               630f78600d3e98126e61ff56\n",
      "url      https://www.lemonde.fr/archives/article/2000/0...\n",
      "title    Recherche Article réservé aux abonnés Une char...\n",
      "Name: 0, dtype: object\n"
     ]
    }
   ],
   "source": [
    "import pandas as pd\n",
    "\n",
    "df = pd.DataFrame.from_records(db[\"collection_test\"].find())\n",
    "\n",
    "print(df.iloc[0])"
   ]
  },
  {
   "cell_type": "code",
   "execution_count": null,
   "metadata": {},
   "outputs": [],
   "source": []
  },
  {
   "cell_type": "code",
   "execution_count": 19,
   "metadata": {},
   "outputs": [
    {
     "data": {
      "text/plain": [
       "[<section class=\"teaser teaser--inline-picture\"> <a class=\"teaser__link\" href=\"https://www.lemonde.fr/archives/article/2000/08/29/attentat-une-charge-evaluee-a-2-kg-de-plastic-a-endommage-samedi-26-aout-en-plein-jour-les-locaux-de-la-direction-de-l-equipement-a-bastia_3638466_1819218.html\"> <span class=\"teaser__kicker teaser__kicker--premium\"></span> <span class=\"icon__premium\"><span class=\"sr-only\">Article réservé à nos abonnés</span></span> <h3 class=\"teaser__title\">ATTENTAT : une charge évaluée à 2 kg de plastic a endommagé samedi 26 août en plein jour les locaux de la Direction de l'équipement à Bastia</h3> <p class=\"teaser__desc\">Recherche Article réservé aux abonnés Une charge évaluée à 2 kg de plastic a endommagé samedi 26 août en plein jour les locaux de la Direction de l'équipement à Bastia (Haute-Corse). Il s'agit du quatrième attentat visant un établissement public depu</p> </a> <p class=\"meta__publisher meta--page\"> <span class=\"meta__date\">Publié le 29 août 2000 à 00h00 - Mis à jour le 29 août 2000 à 00h00</span> </p> </section>,\n",
       " <section class=\"teaser teaser--inline-picture\"> <a class=\"teaser__link\" href=\"https://www.lemonde.fr/archives/article/2000/08/26/famille-et-enfance-luc-machard-conseiller-referendaire-a-la-cour-des-comptes-a-ete-nomme-delegue-interministeriel-a-la-famille_3637805_1819218.html\"> <span class=\"teaser__kicker teaser__kicker--premium\"></span> <span class=\"icon__premium\"><span class=\"sr-only\">Article réservé à nos abonnés</span></span> <h3 class=\"teaser__title\">Famille et enfance : Luc Machard, conseiller référendaire à la Cour des comptes, a été nommé délégué interministériel à la famille</h3> <p class=\"teaser__desc\">Recherche Article réservé aux abonnés Luc Machard, conseiller référendaire à la Cour des comptes, a été nommé délégué interministériel à la famille par le conseil des ministres de jeudi 24 août, en remplacement de Pierre-Louis Rémy, qui avait demandé</p> </a> <p class=\"meta__publisher meta--page\"> <span class=\"meta__date\">Publié le 26 août 2000 à 00h00 - Mis à jour le 26 août 2000 à 00h00</span> </p> </section>,\n",
       " <section class=\"teaser teaser--inline-picture\"> <a class=\"teaser__link\" href=\"https://www.lemonde.fr/archives/article/2000/08/19/immigration-l-arrete-de-reconduite-a-la-frontiere-a-l-encontre-de-djamel-g-a-ete-annule_3608488_1819218.html\"> <span class=\"teaser__kicker teaser__kicker--premium\"></span> <span class=\"icon__premium\"><span class=\"sr-only\">Article réservé à nos abonnés</span></span> <h3 class=\"teaser__title\">IMMIGRATION : l'arrêté de reconduite à la frontière à l'encontre de Djamel G. a été annulé.</h3> <p class=\"teaser__desc\">Recherche Article réservé aux abonnés Le tribunal administratif de Versailles a annulé, jeudi 17 août, l'arrêté de reconduite à la frontière pris le 8 août par le préfet du Val-d'Oise à l'encontre de Djamel G., un Algérien de vingt-sept ans. Ce jeune</p> </a> <p class=\"meta__publisher meta--page\"> <span class=\"meta__date\">Publié le 19 août 2000 à 00h00 - Mis à jour le 19 août 2000 à 00h00</span> </p> </section>,\n",
       " <section class=\"teaser teaser--inline-picture\"> <a class=\"teaser__link\" href=\"https://www.lemonde.fr/archives/article/2000/08/18/ethers-de-glycol-de-10-000-a-15-000-salaries-de-renault-seraient-exposes-a-des-ethers-de-glycol-a-estime-mercredi-16-aout-la-coordination-cgt_3609690_1819218.html\"> <span class=\"teaser__kicker teaser__kicker--premium\"></span> <span class=\"icon__premium\"><span class=\"sr-only\">Article réservé à nos abonnés</span></span> <h3 class=\"teaser__title\">ETHERS DE GLYCOL : de 10 000 à 15 000 salariés de Renault seraient exposés à des éthers de glycol, a estimé, mercredi 16 août, la coordination CGT</h3> <p class=\"teaser__desc\">Recherche Article réservé aux abonnés De 10 000 à 15 000 salariés de Renault seraient exposés à des éthers de glycol, a estimé, mercredi 16 août, la coordination CGT des comités d'hygiène et de sécurité du constructeur automobile, accusant la directi</p> </a> <p class=\"meta__publisher meta--page\"> <span class=\"meta__date\">Publié le 18 août 2000 à 00h00 - Mis à jour le 18 août 2000 à 00h00</span> </p> </section>,\n",
       " <section class=\"teaser teaser--inline-picture\"> <a class=\"teaser__link\" href=\"https://www.lemonde.fr/archives/article/2000/08/17/salomon-smith-barney-arjun-sekhri-associe-a-ete-condamne-a-deux-ans-de-prison-a-new-york-pour-delit-d-initie_3609652_1819218.html\"> <span class=\"teaser__kicker teaser__kicker--premium\"></span> <span class=\"icon__premium\"><span class=\"sr-only\">Article réservé à nos abonnés</span></span> <h3 class=\"teaser__title\">SALOMON SMITH BARNEY : Arjun Sekhri, associé, a été condamné à deux ans de prison, à New York, pour délit d'initié</h3> <p class=\"teaser__desc\">Recherche Article réservé aux abonnés Un associé de la banque d'affaires américaine a été condamné à deux ans de prison, lundi 14 au soir à New York, pour délit d'initié, a annoncé mardi le procureur fédéral de Manhattan. Arjun Sekhri, 34 ans, était </p> </a> <p class=\"meta__publisher meta--page\"> <span class=\"meta__date\">Publié le 17 août 2000 à 00h00 - Mis à jour le 17 août 2000 à 00h00</span> </p> </section>,\n",
       " <section class=\"teaser teaser--inline-picture\"> <a class=\"teaser__link\" href=\"https://www.lemonde.fr/archives/article/2000/08/17/immigration-quatre-centrafricains-retenus-a-roissy-ont-a-nouveau-refuse-d-embarquer-a-bord-d-un-vol-pour-khartoum_3609625_1819218.html\"> <span class=\"teaser__kicker teaser__kicker--premium\"></span> <span class=\"icon__premium\"><span class=\"sr-only\">Article réservé à nos abonnés</span></span> <h3 class=\"teaser__title\">IMMIGRATION : quatre Centrafricains retenus à Roissy ont à nouveau refusé d'embarquer à bord d'un vol pour Khartoum.</h3> <p class=\"teaser__desc\">Recherche Article réservé aux abonnés Quatre Centrafricains retenus à Roissy depuis le jeudi 10 août (Le Monde du 16 août) à cause de passeports considérés comme irréguliers par la police française, ont à nouveau refusé d'embarquer mercredi 16 août, </p> </a> <p class=\"meta__publisher meta--page\"> <span class=\"meta__date\">Publié le 17 août 2000 à 00h00 - Mis à jour le 17 août 2000 à 00h00</span> </p> </section>,\n",
       " <section class=\"teaser teaser--inline-picture\"> <a class=\"teaser__link\" href=\"https://www.lemonde.fr/archives/article/2000/08/31/justice-le-frere-de-la-petite-mickaela-quatre-ans-retrouvee-morte-dans-un-trou-d-eau-a-pionnat-creuse-a-avoue-etre-l-auteur-du-meurtre_3639080_1819218.html\"> <span class=\"teaser__kicker teaser__kicker--premium\"></span> <span class=\"icon__premium\"><span class=\"sr-only\">Article réservé à nos abonnés</span></span> <h3 class=\"teaser__title\">JUSTICE : le frère de la petite Mickaela, quatre ans, retrouvée morte dans un trou d'eau à Pionnat (Creuse), a avoué être l'auteur du meurtre</h3> <p class=\"teaser__desc\">Recherche Article réservé aux abonnés Le frère de la petite Mickaela, quatre ans, retrouvée morte dans un trou d'eau à Pionnat (Creuse), a avoué être l'auteur du meurtre de sa petite soeur. Agé de dix-huit ans, le jeune homme, Mickael, a été mis en e</p> </a> <p class=\"meta__publisher meta--page\"> <span class=\"meta__date\">Publié le 31 août 2000 à 00h00 - Mis à jour le 31 août 2000 à 00h00</span> </p> </section>,\n",
       " <section class=\"teaser teaser--inline-picture\"> <a class=\"teaser__link\" href=\"https://www.lemonde.fr/archives/article/2000/08/31/opera-le-directeur-du-bolchoi-a-moscou-vladimir-vassiliev-a-ete-limoge_3639070_1819218.html\"> <span class=\"teaser__kicker teaser__kicker--premium\"></span> <span class=\"icon__premium\"><span class=\"sr-only\">Article réservé à nos abonnés</span></span> <h3 class=\"teaser__title\">OPÉRA : le directeur du Bolchoï à Moscou Vladimir Vassiliev a été limogé</h3> <p class=\"teaser__desc\">Recherche Article réservé aux abonnés La sanction était attendue, en raison des critiques dont le célèbre Opéra russe est la cible. Elle a pour but d'enrayer son déclin artistique. Le président Vladimir Poutine a signé, lundi 28 août, le décret de li</p> </a> <p class=\"meta__publisher meta--page\"> <span class=\"meta__date\">Publié le 31 août 2000 à 00h00 - Mis à jour le 31 août 2000 à 00h00</span> </p> </section>,\n",
       " <section class=\"teaser teaser--inline-picture\"> <a class=\"teaser__link\" href=\"https://www.lemonde.fr/archives/article/2000/08/11/justice-l-automobiliste-qui-a-mortellement-blesse-l-ecrivain-louis-nucera-a-ete-remis-en-liberte-au-terme-de-sa-garde-a-vue_3606059_1819218.html\"> <span class=\"teaser__kicker teaser__kicker--premium\"></span> <span class=\"icon__premium\"><span class=\"sr-only\">Article réservé à nos abonnés</span></span> <h3 class=\"teaser__title\">JUSTICE : l'automobiliste qui a mortellement blessé l'écrivain Louis Nucera a été remis en liberté au terme de sa garde à vue</h3> <p class=\"teaser__desc\">Recherche Article réservé aux abonnés L'automobiliste qui a mortellement blessé l'écrivain Louis Nucera a été remis en liberté au terme de sa garde à vue. Le parquet de Grasse (Alpes-Maritimes) n'a pas retenu de circonstances aggravantes contre lui, </p> </a> <p class=\"meta__publisher meta--page\"> <span class=\"meta__date\">Publié le 11 août 2000 à 00h00 - Mis à jour le 11 août 2000 à 00h00</span> </p> </section>,\n",
       " <section class=\"teaser teaser--inline-picture\"> <a class=\"teaser__link\" href=\"https://www.lemonde.fr/archives/article/2000/08/30/faits-divers-une-femme-d-une-cinquantaine-d-annees-a-ete-tuee-par-son-mari-d-un-coup-de-fusil-de-chasse-a-saint-georges-de-luzencon_3639022_1819218.html\"> <span class=\"teaser__kicker teaser__kicker--premium\"></span> <span class=\"icon__premium\"><span class=\"sr-only\">Article réservé à nos abonnés</span></span> <h3 class=\"teaser__title\">FAITS DIVERS : une femme d'une cinquantaine d'années a été tuée par son mari d'un coup de fusil de chasse à Saint-Georges-de-Luzençon</h3> <p class=\"teaser__desc\">Recherche Article réservé aux abonnés Une femme d'une cinquantaine d'années a été tuée par son mari d'un coup de fusil de chasse, lundi 28 août, à Saint-Georges-de-Luzençon, près de Millau (Aveyron). Le meurtrier présumé s'est grièvement blessé au vi</p> </a> <p class=\"meta__publisher meta--page\"> <span class=\"meta__date\">Publié le 30 août 2000 à 00h00 - Mis à jour le 30 août 2000 à 00h00</span> </p> </section>,\n",
       " <section class=\"teaser teaser--inline-picture\"> <a class=\"teaser__link\" href=\"https://www.lemonde.fr/archives/article/2000/08/30/environnement-le-japon-a-defendu-le-caractere-legal-de-sa-peche-scientifique-a-la-baleine-en-reponse-aux-menaces-de-sanctions-commerciales-lancees-par-les-etats-unis_3639016_1819218.html\"> <span class=\"teaser__kicker teaser__kicker--premium\"></span> <span class=\"icon__premium\"><span class=\"sr-only\">Article réservé à nos abonnés</span></span> <h3 class=\"teaser__title\">ENVIRONNEMENT : le Japon a défendu le caractère « légal » de sa « pêche scientifique » à la baleine en réponse aux menaces de sanctions commerciales lancées par les Etats-Unis</h3> <p class=\"teaser__desc\">Recherche Article réservé aux abonnés le Japon a défendu, lundi 28 août, le caractère « légal » de sa « pêche scientifique » à la baleine en réponse aux menaces de sanctions commerciales lancées par les Etats-Unis. Selon le secrétaire d'Etat au comme</p> </a> <p class=\"meta__publisher meta--page\"> <span class=\"meta__date\">Publié le 30 août 2000 à 00h00 - Mis à jour le 30 août 2000 à 00h00</span> </p> </section>,\n",
       " <section class=\"teaser teaser--inline-picture\"> <a class=\"teaser__link\" href=\"https://www.lemonde.fr/archives/article/2000/08/29/apprendre-a-lire-a-l-usine-une-epreuve-pour-l-amour-propre_3708189_1819218.html\"> <span class=\"teaser__kicker teaser__kicker--premium\"></span> <span class=\"icon__premium\"><span class=\"sr-only\">Article réservé à nos abonnés</span></span> <h3 class=\"teaser__title\">Apprendre à lire à l'usine, une épreuve pour l'amour-propre</h3> <p class=\"teaser__desc\">Recherche Article réservé aux abonnés Concettina Husson-Giardina dirige une société spécialisée dans la formation des publics en difficulté à Saint-Dizier (Haute-Marne). Sur son bureau, un joli plumier en bois. C'est un élève qui le lui a offert aprè</p> </a> <p class=\"meta__publisher meta--page\"> <span class=\"meta__date\">Publié le 29 août 2000 à 00h00 - Mis à jour le 29 août 2000 à 00h00</span> <span class=\"meta__author meta__author--page\">MARTINE LARONCHE</span> </p> </section>,\n",
       " <section class=\"teaser teaser--inline-picture\"> <a class=\"teaser__link\" href=\"https://www.lemonde.fr/archives/article/2000/08/29/delinquance-les-vols-a-main-armee-ont-augmente-de-61-a-paris-au-cours-des-six-premiers-mois-de-l-annee_3638414_1819218.html\"> <span class=\"teaser__kicker teaser__kicker--premium\"></span> <span class=\"icon__premium\"><span class=\"sr-only\">Article réservé à nos abonnés</span></span> <h3 class=\"teaser__title\">DÉLINQUANCE : Les vols à main armée ont augmenté de 61 % à Paris au cours des six premiers mois de l'année</h3> <p class=\"teaser__desc\">Recherche Article réservé aux abonnés Les vols à main armée ont augmenté de 61 % à Paris au cours des six premiers mois de l'année, selon Le Parisien du 27 août. Le quotidien cite le chiffre de 485 vols, contre 300 pour la même période l'année derniè</p> </a> <p class=\"meta__publisher meta--page\"> <span class=\"meta__date\">Publié le 29 août 2000 à 00h00 - Mis à jour le 29 août 2000 à 00h00</span> </p> </section>,\n",
       " <section class=\"teaser teaser--inline-picture\"> <a class=\"teaser__link\" href=\"https://www.lemonde.fr/archives/article/2000/08/29/faits-divers-le-meurtrier-presume-d-un-sans-domicile-fixe-pousse-sous-un-metro-le-22-aout-a-paris-a-ete-defere-devant-le-parquet-de-nanterre-et-ecroue_3638412_1819218.html\"> <span class=\"teaser__kicker teaser__kicker--premium\"></span> <span class=\"icon__premium\"><span class=\"sr-only\">Article réservé à nos abonnés</span></span> <h3 class=\"teaser__title\">FAITS DIVERS : le meurtrier présumé d'un sans domicile fixe poussé sous un métro le 22 août à Paris, a été déféré devant le parquet de Nanterre et écroué</h3> <p class=\"teaser__desc\">Recherche Article réservé aux abonnés Le meurtrier présumé de l'homme de 32 ans, sans domicile fixe, poussé sous un métro le 22 août à Paris, a été déféré devant le parquet de Nanterre et écroué dimanche 27 août. Une information judiciaire pour « hom</p> </a> <p class=\"meta__publisher meta--page\"> <span class=\"meta__date\">Publié le 29 août 2000 à 00h00 - Mis à jour le 29 août 2000 à 00h00</span> </p> </section>,\n",
       " <section class=\"teaser teaser--inline-picture\"> <a class=\"teaser__link\" href=\"https://www.lemonde.fr/archives/article/2000/08/29/echecs-etienne-bacrot-a-remporte-samedi-26-aout-a-vichy-son-deuxieme-titre-d-affilee-de-champion-de-france_3638445_1819218.html\"> <span class=\"teaser__kicker teaser__kicker--premium\"></span> <span class=\"icon__premium\"><span class=\"sr-only\">Article réservé à nos abonnés</span></span> <h3 class=\"teaser__title\">ÉCHECS : Etienne Bacrot a remporté, samedi 26 août à Vichy, son deuxième titre d'affilée de champion de France</h3> <p class=\"teaser__desc\">Recherche Article réservé aux abonnés Agé de dix-sept ans, Bacrot ( Le Monde du 4 novembre 1998) a terminé avec 8 points sur 11 possibles et a devancé d'un point entier son ancien entraîneur, Iossif Dorfman. La compétition réunissait les seize meille</p> </a> <p class=\"meta__publisher meta--page\"> <span class=\"meta__date\">Publié le 29 août 2000 à 00h00 - Mis à jour le 29 août 2000 à 00h00</span> </p> </section>,\n",
       " <section class=\"teaser teaser--inline-picture\"> <a class=\"teaser__link\" href=\"https://www.lemonde.fr/archives/article/2000/08/29/l-autorite-du-president-philippin-a-ete-mise-a-mal_3638406_1819218.html\"> <span class=\"teaser__kicker teaser__kicker--premium\"></span> <span class=\"icon__premium\"><span class=\"sr-only\">Article réservé à nos abonnés</span></span> <h3 class=\"teaser__title\">L'autorité du président philippin a été mise à mal</h3> <p class=\"teaser__desc\">Recherche Article réservé aux abonnés Le président philippin, Joseph Estrada, qui a opté pour la manière forte face aux séparatistes insurgés dans le sud des Philippines, est soumis, depuis l'enlèvement d'étrangers par le groupe Abu Sayyaf, à des pre</p> </a> <p class=\"meta__publisher meta--page\"> <span class=\"meta__date\">Publié le 29 août 2000 à 00h00 - Mis à jour le 29 août 2000 à 00h00</span> <span class=\"meta__author meta__author--page\">JEAN-CLAUDE POMONTI</span> </p> </section>,\n",
       " <section class=\"teaser teaser--inline-picture\"> <a class=\"teaser__link\" href=\"https://www.lemonde.fr/archives/article/2000/08/29/bernard-obled-ingenieur-de-recherche-a-l-universite-lille-i-la-mobilisation-n-est-toujours-pas-a-la-hauteur-des-besoins_3638496_1819218.html\"> <span class=\"teaser__kicker teaser__kicker--premium\"></span> <span class=\"icon__premium\"><span class=\"sr-only\">Article réservé à nos abonnés</span></span> <h3 class=\"teaser__title\">Bernard Obled, ingénieur de recherche à l'université Lille-I « La mobilisation n'est toujours pas à la hauteur des besoins »</h3> <p class=\"teaser__desc\">Recherche Article réservé aux abonnés « A quel moment la France a-t-elle pris conscience du problème de l'illettrisme, notamment dans les entreprises ? - L'alerte a été donnée dans les années 70 par des associations, en particulier ATD Quart Monde, q</p> </a> <p class=\"meta__publisher meta--page\"> <span class=\"meta__date\">Publié le 29 août 2000 à 00h00 - Mis à jour le 29 août 2000 à 00h00</span> <span class=\"meta__author meta__author--page\">PROPOS RECUEILLIS PAR FRANCINE AIZICOVICI</span> </p> </section>,\n",
       " <section class=\"teaser teaser--inline-picture\"> <a class=\"teaser__link\" href=\"https://www.lemonde.fr/archives/article/2000/08/27/sept-a-8-succede-a-19-h-dimanche_3637919_1819218.html\"> <span class=\"teaser__kicker teaser__kicker--premium\"></span> <span class=\"icon__premium\"><span class=\"sr-only\">Article réservé à nos abonnés</span></span> <h3 class=\"teaser__title\">« Sept à 8 » succède à « 19 h, dimanche »</h3> <p class=\"teaser__desc\">Recherche Article réservé aux abonnés Laurence Ferrari et Thomas Hugues présenteront, à partir du 10 septembre, le nouveau magazine choisi par la direction de TF 1 pour succéder au rendez-vous politique de Ruth Elkrief, « 19 h, dimanche », qui s'est </p> </a> <p class=\"meta__publisher meta--page\"> <span class=\"meta__date\">Publié le 27 août 2000 à 00h00 - Mis à jour le 27 août 2000 à 00h00</span> </p> </section>,\n",
       " <section class=\"teaser teaser--inline-picture\"> <a class=\"teaser__link\" href=\"https://www.lemonde.fr/archives/article/2000/08/08/l-auteur-de-la-fausse-alerte-a-la-bombe-ayant-bloque-le-tgv-a-bord-duquel-voyageait-jean-pierre-chevenement-a-ete-place-sous-mandat-de-depot_3604325_1819218.html\"> <span class=\"teaser__kicker teaser__kicker--premium\"></span> <span class=\"icon__premium\"><span class=\"sr-only\">Article réservé à nos abonnés</span></span> <h3 class=\"teaser__title\">L'auteur de la fausse alerte à la bombe, ayant bloqué le TGV à bord duquel voyageait Jean-Pierre Chevènement, a été placé sous mandat de dépôt.</h3> <p class=\"teaser__desc\">Recherche Article réservé aux abonnés L'auteur d'une alerte à la bombe qui s'est révélée fausse, et dont l'appel avait bloqué, mercredi 2 août, le TGV à bord duquel voyageait Jean-Pierre Chevènement, le ministre de l'intérieur ( Le Monde du 6 août), </p> </a> <p class=\"meta__publisher meta--page\"> <span class=\"meta__date\">Publié le 08 août 2000 à 00h00 - Mis à jour le 08 août 2000 à 00h00</span> </p> </section>,\n",
       " <section class=\"teaser teaser--inline-picture\"> <a class=\"teaser__link\" href=\"https://www.lemonde.fr/archives/article/2000/08/26/police-le-portrait-de-maurice-papon-prefet-de-police-de-paris-de-1958-a-1967-a-ete-retire-mercredi-23-aout-du-musee-de-la-prefecture-de-police_3637318_1819218.html\"> <span class=\"teaser__kicker teaser__kicker--premium\"></span> <span class=\"icon__premium\"><span class=\"sr-only\">Article réservé à nos abonnés</span></span> <h3 class=\"teaser__title\">POLICE : le portrait de Maurice Papon, préfet de police de Paris de 1958 à 1967 a été retiré, mercredi 23 août, du Musée de la préfecture de police</h3> <p class=\"teaser__desc\">Recherche Article réservé aux abonnés Le portrait de Maurice Papon, préfet de police de Paris de 1958 à 1967, condamné à dix ans de réclusion pour « complicité d'arrestations illégales et de séquestrations arbitraires dans la déportation de quatre co</p> </a> <p class=\"meta__publisher meta--page\"> <span class=\"meta__date\">Publié le 26 août 2000 à 00h00 - Mis à jour le 26 août 2000 à 00h00</span> </p> </section>,\n",
       " <section class=\"teaser teaser--inline-picture\"> <a class=\"teaser__link\" href=\"https://www.lemonde.fr/archives/article/2000/08/25/un-airbus-a-320-de-la-gulf-air-s-est-abime-en-mer-a-bahrein_3636716_1819218.html\"> <span class=\"teaser__kicker teaser__kicker--premium\"></span> <span class=\"icon__premium\"><span class=\"sr-only\">Article réservé à nos abonnés</span></span> <h3 class=\"teaser__title\">Un Airbus A-320 de la Gulf Air s'est abîmé en mer à Bahreïn</h3> <p class=\"teaser__desc\">Recherche Article réservé aux abonnés Cent quarante-deux personnes ont trouvé la mort, mercredi 23 août, lorsqu'un Airbus A-320 de la compagnie Gulf Air qui assurait la liaison Le Caire-Manama, s'est abîmé en mer près de l'aéroport de la capitale bah</p> </a> <p class=\"meta__publisher meta--page\"> <span class=\"meta__date\">Publié le 25 août 2000 à 00h00 - Mis à jour le 25 août 2000 à 00h00</span> <span class=\"meta__author meta__author--page\">ALEXANDRE BUCCIANTI</span> </p> </section>,\n",
       " <section class=\"teaser teaser--inline-picture\"> <a class=\"teaser__link\" href=\"https://www.lemonde.fr/archives/article/2000/08/25/justice-la-section-antiterroriste-du-parquet-de-paris-a-ete-saisie-de-l-enquete-sur-le-vol-d-environ-quarante-huit-kilos-d-explosifs-a-guzet-neige_3637193_1819218.html\"> <span class=\"teaser__kicker teaser__kicker--premium\"></span> <span class=\"icon__premium\"><span class=\"sr-only\">Article réservé à nos abonnés</span></span> <h3 class=\"teaser__title\">JUSTICE : la section antiterroriste du parquet de Paris a été saisie de l'enquête sur le vol d'environ quarante-huit kilos d'explosifs à Guzet-Neige</h3> <p class=\"teaser__desc\">Recherche Article réservé aux abonnés La section antiterroriste du parquet de Paris a été saisie, mercredi 23 août, de l'enquête sur le vol d'environ quarante-huit kilos d'explosifs dans un entrepôt de Guzet-Neige, en Ariège ( Le Monde du 24 août). L</p> </a> <p class=\"meta__publisher meta--page\"> <span class=\"meta__date\">Publié le 25 août 2000 à 00h00 - Mis à jour le 25 août 2000 à 00h00</span> </p> </section>,\n",
       " <section class=\"teaser teaser--inline-picture\"> <a class=\"teaser__link\" href=\"https://www.lemonde.fr/archives/article/2000/08/25/patrick-berhault-traversee-a-pied-et-a-skis-de-l-arc-alpin_3637281_1819218.html\"> <span class=\"teaser__kicker teaser__kicker--premium\"></span> <span class=\"icon__premium\"><span class=\"sr-only\">Article réservé à nos abonnés</span></span> <h3 class=\"teaser__title\">PATRICK BÉRHAULT : traversée à pied et à skis de l'arc Alpin</h3> <p class=\"teaser__desc\">Recherche Article réservé aux abonnés L'alpiniste commence vendredi 25 août une traversée à pied et à skis de l'arc alpin entre le Triglav (Slovénie) et le Margareis (Alpes-Maritimes). Vingt-trois sommets marquants, qu'il gravira avec des compagnons </p> </a> <p class=\"meta__publisher meta--page\"> <span class=\"meta__date\">Publié le 25 août 2000 à 00h00 - Mis à jour le 25 août 2000 à 00h00</span> </p> </section>,\n",
       " <section class=\"teaser teaser--inline-picture\"> <a class=\"teaser__link\" href=\"https://www.lemonde.fr/archives/article/2000/08/24/les-separatistes-n-ont-renonce-ni-a-l-independance-ni-a-la-violence-clandestine_3717199_1819218.html\"> <span class=\"teaser__kicker teaser__kicker--premium\"></span> <span class=\"icon__premium\"><span class=\"sr-only\">Article réservé à nos abonnés</span></span> <h3 class=\"teaser__title\">« Les séparatistes n'ont renoncé ni à l'indépendance ni à la violence clandestine »</h3> <p class=\"teaser__desc\">Recherche Article réservé aux abonnés Voici le texte intégral de l'entretien avec Jean-Pierre Chevènement diffusé mardi 22 août par l'Agence France-Presse : « A propos du dossier corse, votre départ du gouvernement ou du ministère de l'intérieur est-</p> </a> <p class=\"meta__publisher meta--page\"> <span class=\"meta__date\">Publié le 24 août 2000 à 00h00 - Mis à jour le 24 août 2000 à 00h00</span> </p> </section>,\n",
       " <section class=\"teaser teaser--inline-picture\"> <a class=\"teaser__link\" href=\"https://www.lemonde.fr/archives/article/2000/08/24/cinema-la-justice-americaine-a-donne-raison-a-l-industrie-du-cinema-en-interdisant-la-publication-sur-l-internet-d-un-programme-qui-permet-de-decoder-des-dvd-et-de-les-regarder-sur_3636661_1819218.html\"> <span class=\"teaser__kicker teaser__kicker--premium\"></span> <span class=\"icon__premium\"><span class=\"sr-only\">Article réservé à nos abonnés</span></span> <h3 class=\"teaser__title\">CINEMA : La justice américaine a donné raison à l'industrie du cinéma en interdisant la publication sur l'Internet d'un programme qui permet de décoder des DVD et de les regarder sur un ordinateur personnel</h3> <p class=\"teaser__desc\">Recherche Article réservé aux abonnés Une revue de pirates informatiques, 2600, était poursuivie par l'association représentant l'industrie du cinéma (MPAA) pour avoir dévoilé le code-source du programme sur l'Internet. La MPAA l'accusait de violatio</p> </a> <p class=\"meta__publisher meta--page\"> <span class=\"meta__date\">Publié le 24 août 2000 à 00h00 - Mis à jour le 24 août 2000 à 00h00</span> </p> </section>,\n",
       " <section class=\"teaser teaser--inline-picture\"> <a class=\"teaser__link\" href=\"https://www.lemonde.fr/archives/article/2000/08/24/justice-le-parquet-general-de-la-cour-d-appel-de-dijon-a-fait-appel-de-l-ordonnance-de-non-lieu-dont-a-beneficie-le-president-dl-du-conseil-general-de-la-saone-et-loire-rene-beaumo_3636639_1819218.html\"> <span class=\"teaser__kicker teaser__kicker--premium\"></span> <span class=\"icon__premium\"><span class=\"sr-only\">Article réservé à nos abonnés</span></span> <h3 class=\"teaser__title\">JUSTICE : le parquet général de la cour d'appel de Dijon a fait appel de l'ordonnance de non-lieu dont a bénéficié le président (DL) du conseil général de la Saône-et-Loire, René Beaumont</h3> <p class=\"teaser__desc\">Recherche Article réservé aux abonnés Le parquet général de la cour d'appel de Dijon a fait appel de l'ordonnance de non-lieu dont a bénéficié le président (DL) du conseil général de la Saône-et-Loire, René Beaumont ( Le Monde du 14 août). M. Beaumon</p> </a> <p class=\"meta__publisher meta--page\"> <span class=\"meta__date\">Publié le 24 août 2000 à 00h00 - Mis à jour le 24 août 2000 à 00h00</span> </p> </section>,\n",
       " <section class=\"teaser teaser--inline-picture\"> <a class=\"teaser__link\" href=\"https://www.lemonde.fr/archives/article/2000/08/24/elysee-roch-olivier-maistre-a-pris-ses-fonctions-de-conseiller-pour-l-education-et-la-culture-a-l-elysee_3636638_1819218.html\"> <span class=\"teaser__kicker teaser__kicker--premium\"></span> <span class=\"icon__premium\"><span class=\"sr-only\">Article réservé à nos abonnés</span></span> <h3 class=\"teaser__title\">ÉLYSÉE : Roch-Olivier Maistre a pris ses fonctions de conseiller pour l'éducation et la culture à l'Elysée</h3> <p class=\"teaser__desc\">Recherche Article réservé aux abonnés Roch-Olivier Maistre a pris, mardi 22 août, ses fonctions de conseiller pour l'éducation et la culture à l'Elysée, en remplacement de Christine Albanel. Agé de quarante-quatre ans, ancien conseiller technique au </p> </a> <p class=\"meta__publisher meta--page\"> <span class=\"meta__date\">Publié le 24 août 2000 à 00h00 - Mis à jour le 24 août 2000 à 00h00</span> </p> </section>,\n",
       " <section class=\"teaser teaser--inline-picture\"> <a class=\"teaser__link\" href=\"https://www.lemonde.fr/archives/article/2000/08/24/un-airbus-a-320-de-la-gulf-air-s-est-abime-en-mer-a-bahrein_88851_1819218.html\"> <span class=\"teaser__kicker teaser__kicker--premium\"></span> <span class=\"icon__premium\"><span class=\"sr-only\">Article réservé à nos abonnés</span></span> <h3 class=\"teaser__title\">Un Airbus A-320 de la Gulf Air s'est abîmé en mer à Bahreïn</h3> <p class=\"teaser__desc\">Un des deux réacteurs aurait pris feu. Les 134 passagers et les 8 membres de l'équipage de l'avion, qui assurait la liaison Le Caire-Manama, ont péri dans l'accident</p> </a> <p class=\"meta__publisher meta--page\"> <span class=\"meta__date\">Publié le 24 août 2000 à 11h21 - Mis à jour le 24 août 2000 à 11h21</span> </p> </section>,\n",
       " <section class=\"teaser teaser--inline-picture\"> <a class=\"teaser__link\" href=\"https://www.lemonde.fr/archives/article/2000/08/23/laquo-nbsp-les-s-eacute-paratistes-n-ont-renonc-eacute-ni-agrave-l-ind-eacute-pendance-ni-agrave-la-violence-clandestine-nbsp-raquo_88287_1819218.html\"> <span class=\"teaser__kicker teaser__kicker--premium\"></span> <span class=\"icon__premium\"><span class=\"sr-only\">Article réservé à nos abonnés</span></span> <h3 class=\"teaser__title\">« Les séparatistes n'ont renoncé ni à l'indépendance ni à la violence clandestine »</h3> <p class=\"teaser__desc\">Article réservé aux abonnés Voici le texte intégral de l'entretien avec Jean-Pierre Chevènement diffusé mardi 22 août par l'Agence France-Presse : « A propos du dossier corse, votre départ du gouvernement ou du ministère de l'intérieur est-il à l'ord</p> </a> <p class=\"meta__publisher meta--page\"> <span class=\"meta__date\">Publié le 23 août 2000 à 13h01 - Mis à jour le 23 août 2000 à 13h01</span> </p> </section>,\n",
       " <section class=\"teaser teaser--inline-picture\"> <a class=\"teaser__link\" href=\"https://www.lemonde.fr/archives/article/2000/08/24/la-grece-achete-des-missiles-de-croisiere-a-la-france-et-a-la-grande-bretagne_3717225_1819218.html\"> <span class=\"teaser__kicker teaser__kicker--premium\"></span> <span class=\"icon__premium\"><span class=\"sr-only\">Article réservé à nos abonnés</span></span> <h3 class=\"teaser__title\">La Grèce achète des missiles de croisière à la France et à la Grande-Bretagne</h3> <p class=\"teaser__desc\">Recherche Article réservé aux abonnés LA FRANCE et le Royaume-Uni ont accepté de livrer des missiles de croisière aéroportés à la Grèce, dans le cadre d'un contrat intervenu, lundi 21 août, à Athènes et portant sur la livraison d'avions de combat Mir</p> </a> <p class=\"meta__publisher meta--page\"> <span class=\"meta__date\">Publié le 24 août 2000 à 00h00 - Mis à jour le 24 août 2000 à 00h00</span> <span class=\"meta__author meta__author--page\">JACQUES ISNARD</span> </p> </section>,\n",
       " <section class=\"teaser teaser--inline-picture\"> <a class=\"teaser__link\" href=\"https://www.lemonde.fr/archives/article/2000/08/04/municipales-guy-hascoet-a-annonce-qu-il-renoncait-a-conduire-la-listedes-verts-aux-elections-municipales-de-mars-2001-a-roubaix_3613149_1819218.html\"> <span class=\"teaser__kicker teaser__kicker--premium\"></span> <span class=\"icon__premium\"><span class=\"sr-only\">Article réservé à nos abonnés</span></span> <h3 class=\"teaser__title\">MUNICIPALES : Guy Hascoët a annoncé qu'il renonçait à conduire la listedes Verts aux élections municipales de mars 2001 à Roubaix.</h3> <p class=\"teaser__desc\">Recherche Article réservé aux abonnés Guy Hascoët a annoncé, mercredi 2 août, qu'il renonçait à conduire la liste des Verts aux élections municipales de mars 2001 à Roubaix, dans le Nord. Le secrétaire d'Etat à l'économie solidaire, ancien député de </p> </a> <p class=\"meta__publisher meta--page\"> <span class=\"meta__date\">Publié le 04 août 2000 à 00h00 - Mis à jour le 04 août 2000 à 00h00</span> </p> </section>,\n",
       " <section class=\"teaser teaser--inline-picture\"> <a class=\"teaser__link\" href=\"https://www.lemonde.fr/archives/article/2000/08/04/goodyear-a-envoye-deux-experts-a-paris-pour-participer-a-l-enquete-sur-le-crash-du-concorde_3613159_1819218.html\"> <span class=\"teaser__kicker teaser__kicker--premium\"></span> <span class=\"icon__premium\"><span class=\"sr-only\">Article réservé à nos abonnés</span></span> <h3 class=\"teaser__title\">GOODYEAR a envoyé deux experts à Paris pour participer à l'enquête sur le crash du Concorde</h3> <p class=\"teaser__desc\">Recherche Article réservé aux abonnés Le fabricant américain de pneumatiques, fournisseur exclusif de la flotte des Concorde d'Air France depuis 1995, a envoyé deux experts à Paris pour participer à l'enquête sur le crash du 25 juillet, les enquêteur</p> </a> <p class=\"meta__publisher meta--page\"> <span class=\"meta__date\">Publié le 04 août 2000 à 00h00 - Mis à jour le 04 août 2000 à 00h00</span> </p> </section>,\n",
       " <section class=\"teaser teaser--inline-picture\"> <a class=\"teaser__link\" href=\"https://www.lemonde.fr/archives/article/2000/08/23/motorola-autorise-a-investir-19-milliards-de-dollars-dans-une-usine-de-fabrication-de-puces-a-tianjin_3636596_1819218.html\"> <span class=\"teaser__kicker teaser__kicker--premium\"></span> <span class=\"icon__premium\"><span class=\"sr-only\">Article réservé à nos abonnés</span></span> <h3 class=\"teaser__title\">MOTOROLA : autorisé à investir 19 milliards de dollars dans une usine de fabrication de puces à Tianjin</h3> <p class=\"teaser__desc\">Recherche Article réservé aux abonnés Le groupe américain a obtenu l'autorisation d'investir 19 milliards de dollars dans une usine de fabrication de puces à Tianjin, a indiqué lundi l'agence Bloomberg. Motorola devient ainsi le plus gros investisseu</p> </a> <p class=\"meta__publisher meta--page\"> <span class=\"meta__date\">Publié le 23 août 2000 à 00h00 - Mis à jour le 23 août 2000 à 00h00</span> </p> </section>,\n",
       " <section class=\"teaser teaser--inline-picture\"> <a class=\"teaser__link\" href=\"https://www.lemonde.fr/archives/article/2000/08/03/total-associe-a-tractebel-a-obtenu-un-contrat-de-1-5-milliards-de-dollars-a-abou-dhabi_3612603_1819218.html\"> <span class=\"teaser__kicker teaser__kicker--premium\"></span> <span class=\"icon__premium\"><span class=\"sr-only\">Article réservé à nos abonnés</span></span> <h3 class=\"teaser__title\">TOTAL, associé à Tractebel, a obtenu un contrat de 1,5 milliards de dollars à Abou Dhabi.</h3> <p class=\"teaser__desc\">Recherche Article réservé aux abonnés Le groupe pétrolier français associé au belge Tractebel a obtenu un contrat de 1,5 milliard de dollars (1,65 milliard d'euros) à Abou Dhabi pour agrandir une centrale électrique et une usine de dessalement de l'e</p> </a> <p class=\"meta__publisher meta--page\"> <span class=\"meta__date\">Publié le 03 août 2000 à 00h00 - Mis à jour le 03 août 2000 à 00h00</span> </p> </section>,\n",
       " <section class=\"teaser teaser--inline-picture\"> <a class=\"teaser__link\" href=\"https://www.lemonde.fr/archives/article/2000/08/22/musique-daniel-barenboim-est-revenu-a-buenos-aires-ou-il-donna-son-premier-concert-a-l-age-de-sept-ans-le-19-aout-1950_3609062_1819218.html\"> <span class=\"teaser__kicker teaser__kicker--premium\"></span> <span class=\"icon__premium\"><span class=\"sr-only\">Article réservé à nos abonnés</span></span> <h3 class=\"teaser__title\">MUSIQUE : Daniel Barenboïm est revenu à Buenos Aires où il donna son premier concert à l'âge de sept ans le 19 août 1950</h3> <p class=\"teaser__desc\">Recherche Article réservé aux abonnés Le pianiste et chef d'orchestre Daniel Barenboïm est revenu à Buenos Aires, où il donna son premier concert, à l'âge de sept ans, le 19 août 1950, deux ans avant de suivre ses parents en Israël. « C'est une réact</p> </a> <p class=\"meta__publisher meta--page\"> <span class=\"meta__date\">Publié le 22 août 2000 à 00h00 - Mis à jour le 22 août 2000 à 00h00</span> </p> </section>,\n",
       " <section class=\"teaser teaser--inline-picture\"> <a class=\"teaser__link\" href=\"https://www.lemonde.fr/archives/article/2000/08/22/catalogne-le-modele-est-a-barcelone-pas-a-ajaccio_3716677_1819218.html\"> <span class=\"teaser__kicker teaser__kicker--premium\"></span> <span class=\"icon__premium\"><span class=\"sr-only\">Article réservé à nos abonnés</span></span> <h3 class=\"teaser__title\">Catalogne : le modèle est à Barcelone, pas à Ajaccio</h3> <p class=\"teaser__desc\">Recherche Article réservé aux abonnés JEAN-PAUL ALDUY, maire (UDF) de Perpignan - « la catalane », rappellent avec insistance les répondeurs téléphoniques de la municipalité -, ne ménage pas ses critiques au processus Matignon sur la Corse, même s'il</p> </a> <p class=\"meta__publisher meta--page\"> <span class=\"meta__date\">Publié le 22 août 2000 à 00h00 - Mis à jour le 22 août 2000 à 00h00</span> <span class=\"meta__author meta__author--page\">ALI HABIB</span> </p> </section>,\n",
       " <section class=\"teaser teaser--inline-picture\"> <a class=\"teaser__link\" href=\"https://www.lemonde.fr/archives/article/2000/08/20/les-politiques-se-prennent-a-croire-a-la-nouvelle-economie_3716615_1819218.html\"> <span class=\"teaser__kicker teaser__kicker--premium\"></span> <span class=\"icon__premium\"><span class=\"sr-only\">Article réservé à nos abonnés</span></span> <h3 class=\"teaser__title\">Les politiques se prennent à croire à la « nouvelle économie »</h3> <p class=\"teaser__desc\">CROISSANCE Les responsables politiques commencent à croire, eux aussi, à la « nouvelle économie » et à la part qu'elle pourrait prendre dans l'installation durable d'une « nouvelle croissance ». Les prévisionnistes sont toutefois prudents à ce sujet.</p> </a> <p class=\"meta__publisher meta--page\"> <span class=\"meta__date\">Publié le 20 août 2000 à 00h00 - Mis à jour le 20 août 2000 à 00h00</span> <span class=\"meta__author meta__author--page\">LAURENT MAUDUIT</span> </p> </section>,\n",
       " <section class=\"teaser teaser--inline-picture\"> <a class=\"teaser__link\" href=\"https://www.lemonde.fr/archives/article/2000/08/20/la-reunion-margie-sudre-a-demande-a-paul-verges-de-se-mettre-en-cong-e-de-l-ensemble-de-ses-mandats_3607294_1819218.html\"> <span class=\"teaser__kicker teaser__kicker--premium\"></span> <span class=\"icon__premium\"><span class=\"sr-only\">Article réservé à nos abonnés</span></span> <h3 class=\"teaser__title\">LA RÉUNION : Margie Sudre a demandé à Paul Vergès de « se mettre en cong é de l'ensemble de ses mandats »</h3> <p class=\"teaser__desc\">Recherche Article réservé aux abonnés Margie Sudre, député européen, a demandé, vendredi 18 août, au sénateur communiste de la Réunion (PCR), Paul Vergès, de « se mettre en congé de l'ensemble de ses mandats », après son renvoi en correctionnelle pou</p> </a> <p class=\"meta__publisher meta--page\"> <span class=\"meta__date\">Publié le 20 août 2000 à 00h00 - Mis à jour le 20 août 2000 à 00h00</span> </p> </section>,\n",
       " <section class=\"teaser teaser--inline-picture\"> <a class=\"teaser__link\" href=\"https://www.lemonde.fr/archives/article/2000/08/20/republique-democratique-du-congo-un-employe-britannique-de-l-onu-a-ete-retrouve-pendu-a-kisangani_3607314_1819218.html\"> <span class=\"teaser__kicker teaser__kicker--premium\"></span> <span class=\"icon__premium\"><span class=\"sr-only\">Article réservé à nos abonnés</span></span> <h3 class=\"teaser__title\">REPUBLIQUE DEMOCRATIQUE DU CONGO : un employé britannique de l'ONU a été retrouvé pendu à Kisangani</h3> <p class=\"teaser__desc\">Recherche Article réservé aux abonnés Un employé britannique de l'ONU a été retrouvé pendu dans sa chambre d'hôtel à Kisangani, la troisième ville du Congo-Kinshasa, a annoncé vendredi 18 août le représentant du secrétaire général des Nations unies e</p> </a> <p class=\"meta__publisher meta--page\"> <span class=\"meta__date\">Publié le 20 août 2000 à 00h00 - Mis à jour le 20 août 2000 à 00h00</span> </p> </section>,\n",
       " <section class=\"teaser teaser--inline-picture\"> <a class=\"teaser__link\" href=\"https://www.lemonde.fr/archives/article/2000/08/20/trois-personnes-placees-en-garde-a-vue-apres-l-attentat-au-lance-roquette-a-sartene_3716625_1819218.html\"> <span class=\"teaser__kicker teaser__kicker--premium\"></span> <span class=\"icon__premium\"><span class=\"sr-only\">Article réservé à nos abonnés</span></span> <h3 class=\"teaser__title\">Trois personnes placées en garde à vue après l'attentat au lance-roquette à Sartène</h3> <p class=\"teaser__desc\">Trois personnes ont été placées en garde à vue, jeudi 17 août, après l'attentat au lance-roquette contre la résidence du sous-préfet de Sartène (Corse-du-Sud). Parmi eux, figure le gérant d'une station-service de Sartène, présenté comme un nationalis</p> </a> <p class=\"meta__publisher meta--page\"> <span class=\"meta__date\">Publié le 20 août 2000 à 00h00 - Mis à jour le 20 août 2000 à 00h00</span> <span class=\"meta__author meta__author--page\">JACQUES FOLLOROU</span> </p> </section>,\n",
       " <section class=\"teaser teaser--inline-picture\"> <a class=\"teaser__link\" href=\"https://www.lemonde.fr/archives/article/2000/08/19/trois-personnes-placees-en-garde-a-vue-apres-l-attentat-au-lance-roquette-a-sartene_3716596_1819218.html\"> <span class=\"teaser__kicker teaser__kicker--premium\"></span> <span class=\"icon__premium\"><span class=\"sr-only\">Article réservé à nos abonnés</span></span> <h3 class=\"teaser__title\">Trois personnes placées en garde à vue après l'attentat au lance-roquette à Sartène</h3> <p class=\"teaser__desc\">Trois personnes ont été placées en garde à vue, jeudi 17 août, après l'attentat au lance-roquette contre la résidence du sous-préfet de Sartène (Corse-du-Sud). Parmi eux, figure le gérant d'une station-service de Sartène, présenté comme un nationalis</p> </a> <p class=\"meta__publisher meta--page\"> <span class=\"meta__date\">Publié le 19 août 2000 à 00h00 - Mis à jour le 19 août 2000 à 00h00</span> <span class=\"meta__author meta__author--page\">JACQUES FOLLOROU</span> </p> </section>,\n",
       " <section class=\"teaser teaser--inline-picture\"> <a class=\"teaser__link\" href=\"https://www.lemonde.fr/archives/article/2000/08/19/euro-le-ministre-allemand-des-finances-hans-eichel-a-predit-jeudi-une-meilleure-cotation-de-l-euro-face-au-dollar-a-l-avenir_3608509_1819218.html\"> <span class=\"teaser__kicker teaser__kicker--premium\"></span> <span class=\"icon__premium\"><span class=\"sr-only\">Article réservé à nos abonnés</span></span> <h3 class=\"teaser__title\">EURO : le ministre allemand des finances, Hans Eichel, a prédit jeudi une meilleure cotation de l'euro face au dollar « à l'avenir »</h3> <p class=\"teaser__desc\">Recherche Article réservé aux abonnés Le ministre allemand des finances, Hans Eichel, a prédit jeudi une meilleure cotation de l'euro face au dollar « à l'avenir ». La cotation actuelle, « relativement basse », est due à « la croissance économique tr</p> </a> <p class=\"meta__publisher meta--page\"> <span class=\"meta__date\">Publié le 19 août 2000 à 00h00 - Mis à jour le 19 août 2000 à 00h00</span> </p> </section>,\n",
       " <section class=\"teaser teaser--inline-picture\"> <a class=\"teaser__link\" href=\"https://www.lemonde.fr/archives/article/2000/08/19/glycol-l-inrs-a-affirme-avoir-pleinement-exerce-sa-fonction-de-centre-scientifique-et-mene-le-programme-sur-les-ethers-de-glycol-jusqu-au-bout-c-est-a-dire-debut-1999_3608490_1819218.html\"> <span class=\"teaser__kicker teaser__kicker--premium\"></span> <span class=\"icon__premium\"><span class=\"sr-only\">Article réservé à nos abonnés</span></span> <h3 class=\"teaser__title\">GLYCOL : l'INRS a affirmé avoir « pleinement exercé sa fonction de centre scientifique » et « mené le programme sur les éthers de glycol jusqu'au bout, c'est-à-dire début 1999 ».</h3> <p class=\"teaser__desc\">Recherche Article réservé aux abonnés L'Institut national de recherche et de sécurité pour la prévention des risques (INRS) a affirmé, jeudi 17 août, avoir Dans un rapport publié en mai 1999, l'Inspection générale des affaires sociales lui reprochait</p> </a> <p class=\"meta__publisher meta--page\"> <span class=\"meta__date\">Publié le 19 août 2000 à 00h00 - Mis à jour le 19 août 2000 à 00h00</span> </p> </section>,\n",
       " <section class=\"teaser teaser--inline-picture\"> <a class=\"teaser__link\" href=\"https://www.lemonde.fr/archives/article/2000/08/18/trois-personnes-placees-en-garde-a-vue-apres-l-attentat-au-lance-roquette-a-sartene_87797_1819218.html\"> <span class=\"teaser__kicker teaser__kicker--premium\"></span> <span class=\"icon__premium\"><span class=\"sr-only\">Article réservé à nos abonnés</span></span> <h3 class=\"teaser__title\">Trois personnes placées en garde à vue après l'attentat au lance-roquette à Sartène</h3> <p class=\"teaser__desc\">Trois personnes ont été placées en garde à vue, jeudi 17 août, après l'attentat au lance-roquette contre la résidence du sous-préfet de Sartène (Corse-du-Sud). Parmi eux, figure le gérant d'une station-service de Sartène, présenté comme un nationalis</p> </a> <p class=\"meta__publisher meta--page\"> <span class=\"meta__date\">Publié le 18 août 2000 à 11h17 - Mis à jour le 18 août 2000 à 11h17</span> </p> </section>,\n",
       " <section class=\"teaser teaser--inline-picture\"> <a class=\"teaser__link\" href=\"https://www.lemonde.fr/archives/article/2000/08/19/les-politiques-se-prennent-a-croire-a-la-nouvelle-economie_3716586_1819218.html\"> <span class=\"teaser__kicker teaser__kicker--premium\"></span> <span class=\"icon__premium\"><span class=\"sr-only\">Article réservé à nos abonnés</span></span> <h3 class=\"teaser__title\">Les politiques se prennent à croire à la « nouvelle économie »</h3> <p class=\"teaser__desc\">CROISSANCE Les responsables politiques commencent à croire, eux aussi, à la « nouvelle économie » et à la part qu'elle pourrait prendre dans l'installation durable d'une « nouvelle croissance ». Les prévisionnistes sont toutefois prudents à ce sujet.</p> </a> <p class=\"meta__publisher meta--page\"> <span class=\"meta__date\">Publié le 19 août 2000 à 00h00 - Mis à jour le 19 août 2000 à 00h00</span> <span class=\"meta__author meta__author--page\">LAURENT MAUDUIT</span> </p> </section>,\n",
       " <section class=\"teaser teaser--inline-picture\"> <a class=\"teaser__link\" href=\"https://www.lemonde.fr/archives/article/2000/08/18/guinee-la-reclusion-criminelle-a-perpetuite-a-ete-requise-contre-alpha-conde_3609716_1819218.html\"> <span class=\"teaser__kicker teaser__kicker--premium\"></span> <span class=\"icon__premium\"><span class=\"sr-only\">Article réservé à nos abonnés</span></span> <h3 class=\"teaser__title\">GUINÉE : la réclusion criminelle à perpétuité a été requise contre Alpha Condé</h3> <p class=\"teaser__desc\">Recherche Article réservé aux abonnés La réclusion criminelle à perpétuité a été requise, mercredi 16 août, par le procureur de la République contre l'opposant guinéen Alpha Condé et quarante de ses coÏnculpés, jugés par la Cour de sûreté de l'Etat à</p> </a> <p class=\"meta__publisher meta--page\"> <span class=\"meta__date\">Publié le 18 août 2000 à 00h00 - Mis à jour le 18 août 2000 à 00h00</span> </p> </section>,\n",
       " <section class=\"teaser teaser--inline-picture\"> <a class=\"teaser__link\" href=\"https://www.lemonde.fr/archives/article/2000/08/18/saturnisme-la-dass-a-confirme-l-existence-de-six-cas-de-saturnisme-et-onze-cas-d-impregnation-au-plomb-chez-des-enfants-de-6-mois-a-6-ans-du-village-andalou_3609689_1819218.html\"> <span class=\"teaser__kicker teaser__kicker--premium\"></span> <span class=\"icon__premium\"><span class=\"sr-only\">Article réservé à nos abonnés</span></span> <h3 class=\"teaser__title\">SATURNISME : la Dass a confirmé l'existence de six cas de saturnisme et onze cas d'imprégnation au plomb chez des enfants de 6 mois à 6 ans du « village Andalou »</h3> <p class=\"teaser__desc\">Recherche Article réservé aux abonnés La direction départementale des affaires sanitaires et sociales (Ddass) a confirmé, mercredi 16 août, l'existence de six cas de saturnisme et onze cas d'imprégnation au plomb chez des enfants de 6 mois à 6 ans du</p> </a> <p class=\"meta__publisher meta--page\"> <span class=\"meta__date\">Publié le 18 août 2000 à 00h00 - Mis à jour le 18 août 2000 à 00h00</span> </p> </section>,\n",
       " <section class=\"teaser teaser--inline-picture\"> <a class=\"teaser__link\" href=\"https://www.lemonde.fr/archives/article/2000/08/18/skanska-annonce-son-association-a-france-telecom-orange-et-la-swedish-broadband-au-sein-d-un-consortium-candidat-a-l-une-des-licences-umts-en-suede_3609737_1819218.html\"> <span class=\"teaser__kicker teaser__kicker--premium\"></span> <span class=\"icon__premium\"><span class=\"sr-only\">Article réservé à nos abonnés</span></span> <h3 class=\"teaser__title\">SKANSKA : annonce son association à France Télécom, Orange et la Swedish Broadband au sein d'un consortium candidat à l'une des licences UMTS en Suède.</h3> <p class=\"teaser__desc\">Recherche Article réservé aux abonnés Le groupe de bâtiment suédois a annoncé, mercredi 16 août, s'être associé à France Télécom, Orange et la Swedish Broadband au sein d'un consortium candidat à l'une des licences UMTS en Suède. Accédez à tous les c</p> </a> <p class=\"meta__publisher meta--page\"> <span class=\"meta__date\">Publié le 18 août 2000 à 00h00 - Mis à jour le 18 août 2000 à 00h00</span> </p> </section>,\n",
       " <section class=\"teaser teaser--inline-picture\"> <a class=\"teaser__link\" href=\"https://www.lemonde.fr/archives/article/2000/08/18/pccw-pacific-century-cyberworks-ltda-a-ete-introduite-a-la-bourse-de-hongkong_3609738_1819218.html\"> <span class=\"teaser__kicker teaser__kicker--premium\"></span> <span class=\"icon__premium\"><span class=\"sr-only\">Article réservé à nos abonnés</span></span> <h3 class=\"teaser__title\">PCCW : Pacific Century CyberWorks Ltda, a été introduite à la Bourse de Hongkong</h3> <p class=\"teaser__desc\">Recherche Article réservé aux abonnés La société hongkongaise sur Internet, Pacific Century CyberWorks Ltda, a été introduite à la Bourse de Hongkong, jeudi, après sa fusion réussie avec Cable and Wireless HKT. Accédez à tous les contenus du Monde en</p> </a> <p class=\"meta__publisher meta--page\"> <span class=\"meta__date\">Publié le 18 août 2000 à 00h00 - Mis à jour le 18 août 2000 à 00h00</span> </p> </section>,\n",
       " <section class=\"teaser teaser--inline-picture\"> <a class=\"teaser__link\" href=\"https://www.lemonde.fr/archives/article/2000/08/18/au-domaine-des-pins-je-cherchais-un-pied-a-terre-dans-la-region-ni-trop-cher-ni-trop-long-a-remettre-en-etat_3716093_1819218.html\"> <span class=\"teaser__kicker teaser__kicker--premium\"></span> <span class=\"icon__premium\"><span class=\"sr-only\">Article réservé à nos abonnés</span></span> <h3 class=\"teaser__title\">Au Domaine des pins : « Je cherchais un pied-à-terre dans la région, ni trop cher ni trop long à remettre en état »</h3> <p class=\"teaser__desc\">Recherche Article réservé aux abonnés Le fond de l'air est frisquet : un peu de brise venue de l'océan, quelques averses - très passagères -, et le soleil qui boude. Mais Louis, soixante ans, et Marité, cinquante-sept ans, n'en ont cure : ils ont rev</p> </a> <p class=\"meta__publisher meta--page\"> <span class=\"meta__date\">Publié le 18 août 2000 à 00h00 - Mis à jour le 18 août 2000 à 00h00</span> <span class=\"meta__author meta__author--page\">BERTRAND BISSUEL</span> </p> </section>,\n",
       " <section class=\"teaser teaser--inline-picture\"> <a class=\"teaser__link\" href=\"https://www.lemonde.fr/archives/article/2000/08/17/chine-les-prix-a-la-consommation-ont-continue-a-croitre-pour-le-troisieme-mois-consecutif_3609659_1819218.html\"> <span class=\"teaser__kicker teaser__kicker--premium\"></span> <span class=\"icon__premium\"><span class=\"sr-only\">Article réservé à nos abonnés</span></span> <h3 class=\"teaser__title\">CHINE : les prix à la consommation ont continué à croître pour le troisième mois consécutif</h3> <p class=\"teaser__desc\">Recherche Article réservé aux abonnés Les prix à la consommation ont continué à croître pour le troisième mois consécutif, augmentant de 0,5 % en juillet par rapport au même mois de 1999. Accédez à tous les contenus du Monde en illimité. Soutenez le </p> </a> <p class=\"meta__publisher meta--page\"> <span class=\"meta__date\">Publié le 17 août 2000 à 00h00 - Mis à jour le 17 août 2000 à 00h00</span> </p> </section>,\n",
       " <section class=\"teaser teaser--inline-picture\"> <a class=\"teaser__link\" href=\"https://www.lemonde.fr/archives/article/2000/08/17/a-sanary-les-fonctionnaires-en-disgrace-vont-a-l-herbe_3716074_1819218.html\"> <span class=\"teaser__kicker teaser__kicker--premium\"></span> <span class=\"icon__premium\"><span class=\"sr-only\">Article réservé à nos abonnés</span></span> <h3 class=\"teaser__title\">A Sanary, les fonctionnaires en disgrâce vont « à l'herbe »</h3> <p class=\"teaser__desc\">Recherche Article réservé aux abonnés Si vous êtes employé communal à Sanary-sur-Mer et que vous déplaisez au maire, vous risquez d'être mis au vert ou, plus précisément, « à l'herbe ». Parmi les fonctionnaires de cette commune du Var, forte de dix-s</p> </a> <p class=\"meta__publisher meta--page\"> <span class=\"meta__date\">Publié le 17 août 2000 à 00h00 - Mis à jour le 17 août 2000 à 00h00</span> <span class=\"meta__author meta__author--page\">JOSE LENZINI</span> </p> </section>,\n",
       " <section class=\"teaser teaser--inline-picture\"> <a class=\"teaser__link\" href=\"https://www.lemonde.fr/archives/article/2000/07/29/disparition-claude-sautet-mort-le-22-juillet-a-l-age-de-soixante-seize-ans-a-ete-inhume-le-27-juillet-au-cimetiere-du-montparnasse-a-paris_3611325_1819218.html\"> <span class=\"teaser__kicker teaser__kicker--premium\"></span> <span class=\"icon__premium\"><span class=\"sr-only\">Article réservé à nos abonnés</span></span> <h3 class=\"teaser__title\">DISPARITION : Claude Sautet mort le 22 juillet à l'âge de soixante-seize ans a été inhumé le 27 juillet au cimetière du Montparnasse à Paris</h3> <p class=\"teaser__desc\">Recherche Article réservé aux abonnés Le cinéaste Claude Sautet, mort le 22 juillet à l'âge de soixante-seize ans, a été inhumé le 27 juillet au cimetière du Montparnasse à Paris, lors d'une cérémonie à laquelle se sont pressés de nombreux artistes e</p> </a> <p class=\"meta__publisher meta--page\"> <span class=\"meta__date\">Publié le 29 juillet 2000 à 00h00 - Mis à jour le 29 juillet 2000 à 00h00</span> </p> </section>,\n",
       " <section class=\"teaser teaser--inline-picture\"> <a class=\"teaser__link\" href=\"https://www.lemonde.fr/archives/article/2000/08/17/espagne-la-garde-civile-a-fait-sauter-une-voiture-soupconne-d-appartenir-a-l-eta_3609642_1819218.html\"> <span class=\"teaser__kicker teaser__kicker--premium\"></span> <span class=\"icon__premium\"><span class=\"sr-only\">Article réservé à nos abonnés</span></span> <h3 class=\"teaser__title\">ESPAGNE : la garde civile a fait sauter une voiture soupçonné d'appartenir à l'ETA</h3> <p class=\"teaser__desc\">Recherche Article réservé aux abonnés La garde civile a fait sauter, mardi 15 août, une voiture soupçonnée d'appartenir à l'organisation séparatiste basque ETA qui contenait environ 100 kg d'explosifs à bord, sur la nationale 230, en Aragon, à hauteu</p> </a> <p class=\"meta__publisher meta--page\"> <span class=\"meta__date\">Publié le 17 août 2000 à 00h00 - Mis à jour le 17 août 2000 à 00h00</span> </p> </section>,\n",
       " <section class=\"teaser teaser--inline-picture\"> <a class=\"teaser__link\" href=\"https://www.lemonde.fr/archives/article/2000/08/16/la-justice-accorde-huit-jours-de-delai-a-quatorze-des-centrafricains-retenus-a-roissy_3607895_1819218.html\"> <span class=\"teaser__kicker teaser__kicker--premium\"></span> <span class=\"icon__premium\"><span class=\"sr-only\">Article réservé à nos abonnés</span></span> <h3 class=\"teaser__title\">La justice accorde huit jours de délai à quatorze des Centrafricains retenus à Roissy</h3> <p class=\"teaser__desc\">Le tribunal de grande instance de Bobigny a accordé, lundi 14 août, un sauf-conduit de huit jours à quatorze des dix-huit Centrafricains refoulés à Roissy à cause de passeports irréguliers puis placés en zone d'attente pour avoir refusé d'embarquer p</p> </a> <p class=\"meta__publisher meta--page\"> <span class=\"meta__date\">Publié le 16 août 2000 à 00h00 - Mis à jour le 16 août 2000 à 00h00</span> <span class=\"meta__author meta__author--page\">STEPHANIE PICHON</span> </p> </section>,\n",
       " <section class=\"teaser teaser--inline-picture\"> <a class=\"teaser__link\" href=\"https://www.lemonde.fr/archives/article/2000/08/15/la-justice-accorde-huit-jours-de-delai-a-quatorze-des-centrafricains-retenus-a-roissy_87107_1819218.html\"> <span class=\"teaser__kicker teaser__kicker--premium\"></span> <span class=\"icon__premium\"><span class=\"sr-only\">Article réservé à nos abonnés</span></span> <h3 class=\"teaser__title\">La justice accorde huit jours de délai à quatorze des Centrafricains retenus à Roissy</h3> <p class=\"teaser__desc\">Le tribunal de grande instance de Bobigny a accordé, lundi 14 août, un sauf-conduit de huit jours à quatorze des dix-huit Centrafricains refoulés à Roissy à cause de passeports irréguliers puis placés en zone d'attente pour avoir refusé d'embarquer p</p> </a> <p class=\"meta__publisher meta--page\"> <span class=\"meta__date\">Publié le 15 août 2000 à 10h24 - Mis à jour le 15 août 2000 à 10h24</span> </p> </section>,\n",
       " <section class=\"teaser teaser--inline-picture\"> <a class=\"teaser__link\" href=\"https://www.lemonde.fr/archives/article/2000/08/16/immigration-djamel-g-algerien-menace-de-mort-dans-son-pays-a-recu-sa-notification-de-reconduite-a-la-frontiere_3607897_1819218.html\"> <span class=\"teaser__kicker teaser__kicker--premium\"></span> <span class=\"icon__premium\"><span class=\"sr-only\">Article réservé à nos abonnés</span></span> <h3 class=\"teaser__title\">IMMIGRATION : Djamel G., Algérien menacé de mort dans son pays, a reçu sa notification de reconduite à la frontière</h3> <p class=\"teaser__desc\">Recherche Article réservé aux abonnés Djamel G., Algérien menacé de mort dans son pays qui s'était vu refuser l'asile territorial ( Le Monde du 5 juillet 2000), a reçu, jeudi 10 août, sa notification de reconduite à la frontière. Il a déposé un recou</p> </a> <p class=\"meta__publisher meta--page\"> <span class=\"meta__date\">Publié le 16 août 2000 à 00h00 - Mis à jour le 16 août 2000 à 00h00</span> </p> </section>,\n",
       " <section class=\"teaser teaser--inline-picture\"> <a class=\"teaser__link\" href=\"https://www.lemonde.fr/archives/article/2000/07/27/jazz-environ-17-600-spectateurs-payants-ont-assiste-pendant-dix-jours-a-la-40e-edition-du-festival-jazz-a-juan-qui-a-pris-fin-le-24-juillet_3610204_1819218.html\"> <span class=\"teaser__kicker teaser__kicker--premium\"></span> <span class=\"icon__premium\"><span class=\"sr-only\">Article réservé à nos abonnés</span></span> <h3 class=\"teaser__title\">JAZZ : environ 17 600 spectateurs payants ont assisté pendant dix jours à la 40e édition du festival Jazz à Juan qui a pris fin le 24 juillet</h3> <p class=\"teaser__desc\">Recherche Article réservé aux abonnés Environ 17 600 spectateurs payants ont assisté pendant dix jours à la 40e édition du festival Jazz à Juan qui a pris fin le 24 juillet, « soit une baisse d'à peu près un millier d'auditeurs » par rapport à 1999, </p> </a> <p class=\"meta__publisher meta--page\"> <span class=\"meta__date\">Publié le 27 juillet 2000 à 00h00 - Mis à jour le 27 juillet 2000 à 00h00</span> </p> </section>,\n",
       " <section class=\"teaser teaser--inline-picture\"> <a class=\"teaser__link\" href=\"https://www.lemonde.fr/archives/article/2000/08/15/l-ile-de-france-a-connu-sa-premiere-alerte-a-la-pollution-par-l-ozone-de-l-annee_3716007_1819218.html\"> <span class=\"teaser__kicker teaser__kicker--premium\"></span> <span class=\"icon__premium\"><span class=\"sr-only\">Article réservé à nos abonnés</span></span> <h3 class=\"teaser__title\">L'Ile-de-France a connu sa première alerte à la pollution par l'ozone de l'année</h3> <p class=\"teaser__desc\">Airparif a lancé son premier bulletin de recommandation de l'année en Ile-de-France. Le taux de pollution par l'ozone dépassait les 180 microgrammes par mètre cube d'air. Les pics ont été moins nombreux cette année, grâce aux mauvaises conditions mét</p> </a> <p class=\"meta__publisher meta--page\"> <span class=\"meta__date\">Publié le 15 août 2000 à 00h00 - Mis à jour le 15 août 2000 à 00h00</span> <span class=\"meta__author meta__author--page\">BENOIT HOPQUIN</span> </p> </section>,\n",
       " <section class=\"teaser teaser--inline-picture\"> <a class=\"teaser__link\" href=\"https://www.lemonde.fr/archives/article/2000/08/15/il-y-a-40-ans-a-los-angeles-jfk-le-catholique_3606754_1819218.html\"> <span class=\"teaser__kicker teaser__kicker--premium\"></span> <span class=\"icon__premium\"><span class=\"sr-only\">Article réservé à nos abonnés</span></span> <h3 class=\"teaser__title\">Il y a 40 ans, à Los Angeles, JFK le catholique</h3> <p class=\"teaser__desc\">Recherche Article réservé aux abonnés La dernière fois que les démocrates américains se sont réunis à Los Angeles, c'était en 1960 et la star de la convention était un jeune sénateur nommé John F. Kennedy. Ses rivaux à l'investiture démocrate pour la</p> </a> <p class=\"meta__publisher meta--page\"> <span class=\"meta__date\">Publié le 15 août 2000 à 00h00 - Mis à jour le 15 août 2000 à 00h00</span> </p> </section>,\n",
       " <section class=\"teaser teaser--inline-picture\"> <a class=\"teaser__link\" href=\"https://www.lemonde.fr/archives/article/2000/08/15/le-maroc-refuse-a-trois-athletes-de-representer-la-france-a-sydney_3607824_1819218.html\"> <span class=\"teaser__kicker teaser__kicker--premium\"></span> <span class=\"icon__premium\"><span class=\"sr-only\">Article réservé à nos abonnés</span></span> <h3 class=\"teaser__title\">Le Maroc refuse à trois athlètes de représenter la France à Sydney</h3> <p class=\"teaser__desc\">Recherche Article réservé aux abonnés LE COMITÉ NATIONAL OLYMPIQUE MAROCAIN a rejeté une demande de son homologue français visant à autoriser la participation de Driss Maazouzi (1 500 m), Smaïl Sghir (5 000 m) et Rakiya Quetier-Maraoui (10 000 m) aux</p> </a> <p class=\"meta__publisher meta--page\"> <span class=\"meta__date\">Publié le 15 août 2000 à 00h00 - Mis à jour le 15 août 2000 à 00h00</span> </p> </section>,\n",
       " <section class=\"teaser teaser--inline-picture\"> <a class=\"teaser__link\" href=\"https://www.lemonde.fr/archives/article/2000/08/15/pic-du-midi-suite-a-un-orage-quelque-130-vacanciers-venus-visiter-le-nouvel-espace-museographique-ont-du-passer-une-nuit-a-l-observatoire_3606751_1819218.html\"> <span class=\"teaser__kicker teaser__kicker--premium\"></span> <span class=\"icon__premium\"><span class=\"sr-only\">Article réservé à nos abonnés</span></span> <h3 class=\"teaser__title\">PIC DU MIDI : suite à un orage, quelque 130 vacanciers venus visiter le nouvel espace muséographique ont dû passer une nuit à l'observatoire.</h3> <p class=\"teaser__desc\">Recherche Article réservé aux abonnés Quelque 130 vacanciers venus visiter le nouvel espace muséographique, ouvert depuis le 1er juin, ont dû passer la nuit du vendredi 11 au samedi 12 août à l'observatoire du pic du Midi (2 870 m d'altitude) dans le</p> </a> <p class=\"meta__publisher meta--page\"> <span class=\"meta__date\">Publié le 15 août 2000 à 00h00 - Mis à jour le 15 août 2000 à 00h00</span> </p> </section>,\n",
       " <section class=\"teaser teaser--inline-picture\"> <a class=\"teaser__link\" href=\"https://www.lemonde.fr/archives/article/2000/08/15/al-gore-a-la-reconquete-face-a-son-rival-w-bush_3716004_1819218.html\"> <span class=\"teaser__kicker teaser__kicker--premium\"></span> <span class=\"icon__premium\"><span class=\"sr-only\">Article réservé à nos abonnés</span></span> <h3 class=\"teaser__title\">Al Gore à la reconquête face à son rival « W » Bush</h3> <p class=\"teaser__desc\">ÉLECTIONS Quinze jours après le Parti républicain, le Parti démocrate tient sa convention nationale à partir de lundi 14 août à Los Angeles. LE VICE-PRÉSIDENT Albert Gore, candidat du parti à l'élection présidentielle du 7 novembre, reste à la traîne</p> </a> <p class=\"meta__publisher meta--page\"> <span class=\"meta__date\">Publié le 15 août 2000 à 00h00 - Mis à jour le 15 août 2000 à 00h00</span> <span class=\"meta__author meta__author--page\">PATRICE DE BEER</span> </p> </section>,\n",
       " <section class=\"teaser teaser--inline-picture\"> <a class=\"teaser__link\" href=\"https://www.lemonde.fr/archives/article/2000/08/14/le-maroc-refuse-a-trois-athletes-de-representer-la-france-a-sydney_87065_1819218.html\"> <span class=\"teaser__kicker teaser__kicker--premium\"></span> <span class=\"icon__premium\"><span class=\"sr-only\">Article réservé à nos abonnés</span></span> <h3 class=\"teaser__title\">Le Maroc refuse à trois athlètes de représenter la France à Sydney</h3> <p class=\"teaser__desc\">Recherche Article réservé aux abonnés LE COMITÉ NATIONAL OLYMPIQUE MAROCAIN a rejeté une demande de son homologue français visant à autoriser la participation de Driss Maazouzi (1 500 m), Smaïl Sghir (5 000 m) et Rakiya Quetier-Maraoui (10 000 m) aux</p> </a> <p class=\"meta__publisher meta--page\"> <span class=\"meta__date\">Publié le 14 août 2000 à 13h39 - Mis à jour le 14 août 2000 à 13h39</span> </p> </section>,\n",
       " <section class=\"teaser teaser--inline-picture\"> <a class=\"teaser__link\" href=\"https://www.lemonde.fr/archives/article/2000/07/26/information-le-gouvernement-a-decide-de-soumettre-a-une-consultation-publique-le-projet-de-decret-d-application-de-loi-relative-a-la-signature-electronique_3610139_1819218.html\"> <span class=\"teaser__kicker teaser__kicker--premium\"></span> <span class=\"icon__premium\"><span class=\"sr-only\">Article réservé à nos abonnés</span></span> <h3 class=\"teaser__title\">INFORMATION : Le gouvernement a décidé de soumettre à une consultation publique le projet de décret d'application de loi relative à la signature électronique.</h3> <p class=\"teaser__desc\">Recherche Article réservé aux abonnés Le gouvernement a décidé de soumettre à une consultation publique le projet de décret d'application, prévu par la loi du 13 mars 2000 relative à la signature électronique ( Le Monde du 9 février). Le texte du pro</p> </a> <p class=\"meta__publisher meta--page\"> <span class=\"meta__date\">Publié le 26 juillet 2000 à 00h00 - Mis à jour le 26 juillet 2000 à 00h00</span> </p> </section>,\n",
       " <section class=\"teaser teaser--inline-picture\"> <a class=\"teaser__link\" href=\"https://www.lemonde.fr/archives/article/2000/08/13/walt-disney-condamne-a-indemniser-deux-promoteurs-qui-l-accusaient-de-leur-avoir-vole-des-idees-pour-la-conception-d-un-parc-a-theme-sportif_3539963_1819218.html\"> <span class=\"teaser__kicker teaser__kicker--premium\"></span> <span class=\"icon__premium\"><span class=\"sr-only\">Article réservé à nos abonnés</span></span> <h3 class=\"teaser__title\">WALT DISNEY : condamné à indemniser deux promoteurs qui l'accusaient de leur avoir volé des idées pour la conception d'un parc à thème sportif.</h3> <p class=\"teaser__desc\">Recherche Article réservé aux abonnés Le groupe américain de loisirs a été condamné, vendredi, par un tribunal de Miami (Floride), à payer 240 millions de dollars à deux promoteurs qui l'accusaient de leur avoir volé des idées pour la conception d'un</p> </a> <p class=\"meta__publisher meta--page\"> <span class=\"meta__date\">Publié le 13 août 2000 à 00h00 - Mis à jour le 13 août 2000 à 00h00</span> </p> </section>,\n",
       " <section class=\"teaser teaser--inline-picture\"> <a class=\"teaser__link\" href=\"https://www.lemonde.fr/archives/article/2000/08/12/accident-un-adolescent-a-ete-tue-et-six-autres-ont-ete-blesses-a-saint-fortunat-sur-eyrieux-ardeche_3606142_1819218.html\"> <span class=\"teaser__kicker teaser__kicker--premium\"></span> <span class=\"icon__premium\"><span class=\"sr-only\">Article réservé à nos abonnés</span></span> <h3 class=\"teaser__title\">ACCIDENT : Un adolescent a été tué et six autres ont été blessés à Saint-Fortunat-sur-Eyrieux (Ardèche)</h3> <p class=\"teaser__desc\">Recherche Article réservé aux abonnés Un adolescent de seize ans a été tué et six autres ont été blessés, dont un grièvement, dans un accident, jeudi 10 août, à Saint-Fortunat-sur-Eyrieux (Ardèche). Les jeunes de Wasquehal (Nord) regagnaient leur col</p> </a> <p class=\"meta__publisher meta--page\"> <span class=\"meta__date\">Publié le 12 août 2000 à 00h00 - Mis à jour le 12 août 2000 à 00h00</span> </p> </section>,\n",
       " <section class=\"teaser teaser--inline-picture\"> <a class=\"teaser__link\" href=\"https://www.lemonde.fr/archives/article/2000/08/12/accidents-un-couple-et-sa-fillette-de-deux-ans-ont-trouve-la-mort-dans-une-collision-avec-un-poids-lourd-sur-l-a31-a-nuits-saint-georges-cote-d-or_3606141_1819218.html\"> <span class=\"teaser__kicker teaser__kicker--premium\"></span> <span class=\"icon__premium\"><span class=\"sr-only\">Article réservé à nos abonnés</span></span> <h3 class=\"teaser__title\">ACCIDENTS : un couple et sa fillette de deux ans ont trouvé la mort dans une collision avec un poids lourd sur l'A31, à Nuits-Saint-Georges (Côte-d'or)</h3> <p class=\"teaser__desc\">Recherche Article réservé aux abonnés Un couple et sa fillette de deux ans ont trouvé la mort et quatre autres personnes ont été blessées, vendredi 11 août, vers 5 h, dans une collision avec un poids lourd sur l'autoroute A31, à Nuits-Saint-Georges (</p> </a> <p class=\"meta__publisher meta--page\"> <span class=\"meta__date\">Publié le 12 août 2000 à 00h00 - Mis à jour le 12 août 2000 à 00h00</span> </p> </section>,\n",
       " <section class=\"teaser teaser--inline-picture\"> <a class=\"teaser__link\" href=\"https://www.lemonde.fr/archives/article/2000/08/12/etats-unis-radovan-karadzic-condamne-a-payer-745-millions-de-dollars-en-dommages-interets-a-des-musulmanes-bosniaques_3606109_1819218.html\"> <span class=\"teaser__kicker teaser__kicker--premium\"></span> <span class=\"icon__premium\"><span class=\"sr-only\">Article réservé à nos abonnés</span></span> <h3 class=\"teaser__title\">ÉTATS-UNIS : Radovan Karadzic condamné à payer 745 millions de dollars en dommages-intérêts à des musulmanes bosniaques</h3> <p class=\"teaser__desc\">Recherche Article réservé aux abonnés Un jury fédéral de New York a condamné, jeudi 10 août, l'ancien dirigeant des serbes de Bosnie, Radovan Karadzic, à payer 745 millions de dollars en dommages-intérêts à un groupe de musulmanes bosniaques qui avai</p> </a> <p class=\"meta__publisher meta--page\"> <span class=\"meta__date\">Publié le 12 août 2000 à 00h00 - Mis à jour le 12 août 2000 à 00h00</span> </p> </section>,\n",
       " <section class=\"teaser teaser--inline-picture\"> <a class=\"teaser__link\" href=\"https://www.lemonde.fr/archives/article/2000/08/11/alstom-a-remporte-une-commande-de-85-millions-d-euros-pour-la-construction-d-une-centrale-a-cycle-combine-en-inde_3606065_1819218.html\"> <span class=\"teaser__kicker teaser__kicker--premium\"></span> <span class=\"icon__premium\"><span class=\"sr-only\">Article réservé à nos abonnés</span></span> <h3 class=\"teaser__title\">ALSTOM : a remporté une commande de 85 millions d'euros pour la construction d'une centrale à cycle combiné en Inde.</h3> <p class=\"teaser__desc\">Recherche Article réservé aux abonnés Le groupe franco-britannique a annoncé, mercredi 9 août, avoir remporté une commande de 85 millions d'euros pour la construction d'une centrale à cycle combiné en Inde. Accédez à tous les contenus du Monde en ill</p> </a> <p class=\"meta__publisher meta--page\"> <span class=\"meta__date\">Publié le 11 août 2000 à 00h00 - Mis à jour le 11 août 2000 à 00h00</span> </p> </section>,\n",
       " <section class=\"teaser teaser--inline-picture\"> <a class=\"teaser__link\" href=\"https://www.lemonde.fr/archives/article/2000/08/11/justice-mustapha-belhamar-soupconne-d-etre-l-un-des-auteurs-de-la-fusillade-qui-avait-fait-quatre-morts-a-bastia-a-ete-mis-en-examen_3606058_1819218.html\"> <span class=\"teaser__kicker teaser__kicker--premium\"></span> <span class=\"icon__premium\"><span class=\"sr-only\">Article réservé à nos abonnés</span></span> <h3 class=\"teaser__title\">JUSTICE : Mustapha Belhamar, soupçonné d'être l'un des auteurs de la fusillade qui avait fait quatre morts à Bastia, a été mis en examen</h3> <p class=\"teaser__desc\">Recherche Article réservé aux abonnés Mustapha Belhamar a été mis en examen pour « assassinats, détention, port et transport illégaux d'armes de première ou de quatrième catégorie », et écroué, mercredi 9 août, à la prison de Borgo, à Bastia (Haute-C</p> </a> <p class=\"meta__publisher meta--page\"> <span class=\"meta__date\">Publié le 11 août 2000 à 00h00 - Mis à jour le 11 août 2000 à 00h00</span> </p> </section>,\n",
       " <section class=\"teaser teaser--inline-picture\"> <a class=\"teaser__link\" href=\"https://www.lemonde.fr/archives/article/2000/08/11/un-chinois-a-reussi-la-premiere-traversee-a-la-nage-du-detroit-de-bohai_3606049_1819218.html\"> <span class=\"teaser__kicker teaser__kicker--premium\"></span> <span class=\"icon__premium\"><span class=\"sr-only\">Article réservé à nos abonnés</span></span> <h3 class=\"teaser__title\">Un Chinois a réussi la première traversée à la nage du détroit de Bohai</h3> <p class=\"teaser__desc\">Recherche Article réservé aux abonnés Un Chinois de trente-six ans, Zhang Jian, a réussi, jeudi 10 août, la première traversée à la nage du détroit de Bohai, qui sépare la province orientale du Shandong du nord-est de la Chine. Il a mis 50 heures et </p> </a> <p class=\"meta__publisher meta--page\"> <span class=\"meta__date\">Publié le 11 août 2000 à 00h00 - Mis à jour le 11 août 2000 à 00h00</span> </p> </section>,\n",
       " <section class=\"teaser teaser--inline-picture\"> <a class=\"teaser__link\" href=\"https://www.lemonde.fr/archives/article/2000/08/11/nucleaire-un-defaut-de-conception-de-reservoirs-d-eau-a-ete-decouvert-a-la-centrale-nucleaire-de-fessenheim-haut-rhin_3605538_1819218.html\"> <span class=\"teaser__kicker teaser__kicker--premium\"></span> <span class=\"icon__premium\"><span class=\"sr-only\">Article réservé à nos abonnés</span></span> <h3 class=\"teaser__title\">NUCLÉAIRE : un défaut de conception de réservoirs d'eau a été découvert à la centrale nucléaire de Fessenheim (Haut-Rhin).</h3> <p class=\"teaser__desc\">Recherche Article réservé aux abonnés Un défaut de conception de réservoirs d'eau a été découvert à la centrale nucléaire de Fessenheim (Haut-Rhin). La résistance de ces réservoirs, destinés notamment à pallier une défaillance du circuit de refroidis</p> </a> <p class=\"meta__publisher meta--page\"> <span class=\"meta__date\">Publié le 11 août 2000 à 00h00 - Mis à jour le 11 août 2000 à 00h00</span> </p> </section>,\n",
       " <section class=\"teaser teaser--inline-picture\"> <a class=\"teaser__link\" href=\"https://www.lemonde.fr/archives/article/2000/08/11/justice-la-jeune-suissesse-retrouvee-morte-sur-une-plage-a-carcans-gironde-n-a-pas-ete-violee_3606060_1819218.html\"> <span class=\"teaser__kicker teaser__kicker--premium\"></span> <span class=\"icon__premium\"><span class=\"sr-only\">Article réservé à nos abonnés</span></span> <h3 class=\"teaser__title\">JUSTICE : la jeune Suissesse retrouvée morte sur une plage à Carcans (Gironde) n'a pas été violée</h3> <p class=\"teaser__desc\">Recherche Article réservé aux abonnés La jeune Suissesse retrouvée morte sur une plage à Carcans (Gironde) n'a pas été violée, a indiqué, mercredi 9 août, le parquet de Bordeaux, qui s'appuyait sur les premiers résultats de l'expertise médico-légale.</p> </a> <p class=\"meta__publisher meta--page\"> <span class=\"meta__date\">Publié le 11 août 2000 à 00h00 - Mis à jour le 11 août 2000 à 00h00</span> </p> </section>,\n",
       " <section class=\"teaser teaser--inline-picture\"> <a class=\"teaser__link\" href=\"https://www.lemonde.fr/archives/article/2000/08/10/justice-florence-arthaud-et-christophe-lebas-ont-ete-interpelles-et-places-en-garde-a-vue-a-saint-nazaire_3605446_1819218.html\"> <span class=\"teaser__kicker teaser__kicker--premium\"></span> <span class=\"icon__premium\"><span class=\"sr-only\">Article réservé à nos abonnés</span></span> <h3 class=\"teaser__title\">JUSTICE : Florence Arthaud et Christophe Lebas ont été interpellés et placés en garde à vue à Saint-Nazaire</h3> <p class=\"teaser__desc\">Recherche Article réservé aux abonnés Les navigateurs Florence Arthaud et Christophe Lebas ont été interpellés et placés en garde à vue, lundi 7 août, après un incident qui les a opposés à un couple d'hôteliers de Saint-Nazaire (Loire-Atlantique) qui</p> </a> <p class=\"meta__publisher meta--page\"> <span class=\"meta__date\">Publié le 10 août 2000 à 00h00 - Mis à jour le 10 août 2000 à 00h00</span> </p> </section>,\n",
       " <section class=\"teaser teaser--inline-picture\"> <a class=\"teaser__link\" href=\"https://www.lemonde.fr/archives/article/2000/08/10/en-dix-ans-une-certaine-idee-du-rock-a-fait-son-chemin-a-saint-malo_3715429_1819218.html\"> <span class=\"teaser__kicker teaser__kicker--premium\"></span> <span class=\"icon__premium\"><span class=\"sr-only\">Article réservé à nos abonnés</span></span> <h3 class=\"teaser__title\">En dix ans, une certaine idée du rock a fait son chemin à Saint-Malo</h3> <p class=\"teaser__desc\">Recherche Article réservé aux abonnés L'AFFICHE n'est pas passée inaperçue. La jeune femme nue et sans visage, s'offrant au regard les jambes écartées, a mis en émoi la population malouine, qui a dû s'effrayer de l'apparition en ville d'un festival d</p> </a> <p class=\"meta__publisher meta--page\"> <span class=\"meta__date\">Publié le 10 août 2000 à 00h00 - Mis à jour le 10 août 2000 à 00h00</span> <span class=\"meta__author meta__author--page\">BRUNO LESPRIT</span> </p> </section>,\n",
       " <section class=\"teaser teaser--inline-picture\"> <a class=\"teaser__link\" href=\"https://www.lemonde.fr/archives/article/2000/08/10/yougoslavie-miroslav-filipovic-a-ete-hospitalise-a-belgrade-pour-des-troubles-cardiaques_3605497_1819218.html\"> <span class=\"teaser__kicker teaser__kicker--premium\"></span> <span class=\"icon__premium\"><span class=\"sr-only\">Article réservé à nos abonnés</span></span> <h3 class=\"teaser__title\">YOUGOSLAVIE : Miroslav Filipovic a été hospitalisé à Belgrade pour des « troubles cardiaques »</h3> <p class=\"teaser__desc\">Recherche Article réservé aux abonnés Le journaliste yougoslave indépendant Miroslav Filipovic, qui purge une peine de sept ans de prison pour « espionnage », a été hospitalisé à Belgrade pour des « troubles cardiaques », a indiqué, mardi 8 août, son</p> </a> <p class=\"meta__publisher meta--page\"> <span class=\"meta__date\">Publié le 10 août 2000 à 00h00 - Mis à jour le 10 août 2000 à 00h00</span> </p> </section>,\n",
       " <section class=\"teaser teaser--inline-picture\"> <a class=\"teaser__link\" href=\"https://www.lemonde.fr/archives/article/2000/08/10/le-ge-zai-hsi-taiwanais-a-cent-a-l-heure_3605503_1819218.html\"> <span class=\"teaser__kicker teaser__kicker--premium\"></span> <span class=\"icon__premium\"><span class=\"sr-only\">Article réservé à nos abonnés</span></span> <h3 class=\"teaser__title\">Le ge-zaï-hsi taïwanais à cent à l'heure</h3> <p class=\"teaser__desc\">Recherche Article réservé aux abonnés Au-delà des voix, c'est l'allégresse du langage des corps qui réjouit dans La Vengeance de Gui-Ying. Issu du répertoire de l'opéra taïwanais (dit ge-zaï-hsi), ce théâtre chanté est actuellement donné par la troup</p> </a> <p class=\"meta__publisher meta--page\"> <span class=\"meta__date\">Publié le 10 août 2000 à 00h00 - Mis à jour le 10 août 2000 à 00h00</span> <span class=\"meta__author meta__author--page\">DOMINIQUE FRETARD</span> </p> </section>,\n",
       " <section class=\"teaser teaser--inline-picture\"> <a class=\"teaser__link\" href=\"https://www.lemonde.fr/archives/article/2000/08/09/fait-divers-une-jeune-suissesse-a-ete-tuee-par-strangulation-a-carcans-plage_3604913_1819218.html\"> <span class=\"teaser__kicker teaser__kicker--premium\"></span> <span class=\"icon__premium\"><span class=\"sr-only\">Article réservé à nos abonnés</span></span> <h3 class=\"teaser__title\">FAIT DIVERS : une jeune Suissesse a été tuée par strangulation à Carcans-Plage.</h3> <p class=\"teaser__desc\">Recherche Article réservé aux abonnés la jeune Suissesse dont le cadavre a été découvert, samedi 5 août à Carcans-Plage (Gironde), a été tuée par strangulation, a annoncé, lundi 7 août, le parquet du tribunal de Bordeaux, à la suite des premiers résu</p> </a> <p class=\"meta__publisher meta--page\"> <span class=\"meta__date\">Publié le 09 août 2000 à 00h00 - Mis à jour le 09 août 2000 à 00h00</span> </p> </section>,\n",
       " <section class=\"teaser teaser--inline-picture\"> <a class=\"teaser__link\" href=\"https://www.lemonde.fr/archives/article/2000/08/09/concorde-l-identification-des-cent-treize-victimes-de-l-accident-du-concorde-d-air-france-a-pris-fin-a-l-institut-medico-legal-de-paris_3604914_1819218.html\"> <span class=\"teaser__kicker teaser__kicker--premium\"></span> <span class=\"icon__premium\"><span class=\"sr-only\">Article réservé à nos abonnés</span></span> <h3 class=\"teaser__title\">CONCORDE : l'identification des cent treize victimes de l'accident du Concorde d'Air France a pris fin à l'Institut médico-légal de Paris.</h3> <p class=\"teaser__desc\">Recherche Article réservé aux abonnés L'identification des cent treize victimes de l'accident du Concorde d'Air France, mardi 25 juillet, a pris fin lundi 7 août à l'Institut médico-légal de Paris, a annoncé le procureur de la République de Pontoise,</p> </a> <p class=\"meta__publisher meta--page\"> <span class=\"meta__date\">Publié le 09 août 2000 à 00h00 - Mis à jour le 09 août 2000 à 00h00</span> </p> </section>]"
      ]
     },
     "execution_count": 19,
     "metadata": {},
     "output_type": "execute_result"
    }
   ],
   "source": [
    "articles"
   ]
  },
  {
   "cell_type": "code",
   "execution_count": null,
   "metadata": {},
   "outputs": [],
   "source": []
  }
 ],
 "metadata": {
  "kernelspec": {
   "display_name": "Python 3 (ipykernel)",
   "language": "python",
   "name": "python3"
  },
  "language_info": {
   "codemirror_mode": {
    "name": "ipython",
    "version": 3
   },
   "file_extension": ".py",
   "mimetype": "text/x-python",
   "name": "python",
   "nbconvert_exporter": "python",
   "pygments_lexer": "ipython3",
   "version": "3.9.7"
  }
 },
 "nbformat": 4,
 "nbformat_minor": 4
}
