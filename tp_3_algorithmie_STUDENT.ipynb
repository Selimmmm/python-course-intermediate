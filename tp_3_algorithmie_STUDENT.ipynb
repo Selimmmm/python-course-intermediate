{
 "cells": [
  {
   "cell_type": "markdown",
   "metadata": {},
   "source": [
    "# **Python**\n",
    "# **TP 3 - Algorithmie**\n",
    "\n",
    "- Chacun des exercices de ce TP vous propose un exemple que vous devrez adapter ou dont vous devrez vous inspirer pour répondre aux questions\n",
    "***\n",
    "\n",
    "[**Exercices**](#exercices)\n",
    "1. [Manipulation de chaînes de caractères](#1)\n",
    "2. [Minimum, maximum, moyenne et médiane](#2)\n",
    "3. [Deviner un nombre entre 1 et 100](#3)\n",
    "4. [Code Morse et manipulation de dictionnaire](#4)\n",
    "5. [Manipulation de dates](#5)\n",
    "6. [Tri de listes](#6)\n",
    "\n",
    "\n",
    "***\n",
    "\n",
    "\n",
    "<!--  \n",
    "[![Open In Colab](https://colab.research.google.com/assets/colab-badge.svg)](https://colab.research.google.com/github/Selimmmm/hetic_m1_csb_public/blob/master/tp_3_algorithmie.ipynb) -->\n"
   ]
  },
  {
   "cell_type": "markdown",
   "metadata": {},
   "source": [
    "<a id=\"1\"></a>\n",
    "\n",
    "## Exercice 1 - Manipulation de chaînes de caractères"
   ]
  },
  {
   "cell_type": "markdown",
   "metadata": {},
   "source": [
    "- En utilisant la chaîne de caractères, écrire un code qui génère le texte suivant :\n",
    "\n",
    "```\n",
    "Elliot Alderson est joué(e) par Rami Malek \n",
    "Mr. Robot est joué(e) par Christian Slater \n",
    "Darlene est joué(e) par Carly Chaikin \n",
    "Angela Moss est joué(e) par Portia Doubleday \n",
    "Tyrell Wellick est joué(e) par Martin Wallström \n",
    "Joanna Wellick est joué(e) par Stephanie Corneliussen \n",
    "Phillip Price est joué(e) par Michael Cristofer \n",
    "```"
   ]
  },
  {
   "cell_type": "code",
   "execution_count": 1,
   "metadata": {},
   "outputs": [
    {
     "name": "stdout",
     "output_type": "stream",
     "text": [
      "Elliot Alderson  est joué(e) par Rami Malek\n",
      "Mr. Robot  est joué(e) par Christian Slater\n",
      "Darlene  est joué(e) par Carly Chaikin\n",
      "Angela Moss  est joué(e) par Portia Doubleday\n",
      "Tyrell Wellick  est joué(e) par Martin Wallström\n",
      "Joanna Wellick  est joué(e) par Stephanie Corneliussen\n",
      "Phillip Price  est joué(e) par Michael Cristofer\n"
     ]
    }
   ],
   "source": [
    "# Méthode 1\n",
    "# On définit une chaîne de caractères\n",
    "s = \"\"\"Elliot Alderson (Rami Malek)\n",
    "Mr. Robot (Christian Slater)\n",
    "Darlene (Carly Chaikin)\n",
    "Angela Moss (Portia Doubleday)\n",
    "Tyrell Wellick (Martin Wallström)\n",
    "Joanna Wellick (Stephanie Corneliussen)\n",
    "Phillip Price (Michael Cristofer)\"\"\"\n",
    "\n",
    "l = s.split(\"\\n\")\n",
    "\n",
    "for line in l:\n",
    "    pers, actor = line.strip(\")\").split(\"(\")\n",
    "    message = f\"{pers} est joué(e) par {actor}\"\n",
    "    print(message)"
   ]
  },
  {
   "cell_type": "code",
   "execution_count": 2,
   "metadata": {},
   "outputs": [
    {
     "name": "stdout",
     "output_type": "stream",
     "text": [
      "Elliot Alderson est joué(e) par Rami Malek\n",
      "Mr. Robot est joué(e) par Christian Slater\n",
      "Darlene est joué(e) par Carly Chaikin\n",
      "Angela Moss est joué(e) par Portia Doubleday\n",
      "Tyrell Wellick est joué(e) par Martin Wallström\n",
      "Joanna Wellick est joué(e) par Stephanie Corneliussen\n",
      "Phillip Price est joué(e) par Michael Cristofer\n"
     ]
    }
   ],
   "source": [
    "# Methode 2\n",
    "new_s = s.replace(\")\", \"\").replace(\"(\", \"est joué(e) par \")\n",
    "print(new_s)"
   ]
  },
  {
   "cell_type": "code",
   "execution_count": 3,
   "metadata": {},
   "outputs": [
    {
     "name": "stdout",
     "output_type": "stream",
     "text": [
      "abcd\n",
      "[' b ', '   ', 'bcd  ', ' c h ', '   ', ' b    ']\n"
     ]
    }
   ],
   "source": [
    "# Exemple méthode .strip():\n",
    "# .strip() retire les espaces en début et en fin de chaîne de caractères\n",
    "exemple = \"     abcd         \" # il y a beaucoup d'espaces au début et à la fin\n",
    "#print(exemple)\n",
    "print(exemple.strip())\n",
    "\n",
    "# Exemple méthode .split():\n",
    "# .split() découpe un texte autour du séparateur spécifié\n",
    "exemple = \" b a   abcd  a c h a   a b    \" # il y a beaucoup d'espaces au début et à la fin\n",
    "#print(exemple)\n",
    "print(exemple.split(\"a\"))\n"
   ]
  },
  {
   "cell_type": "markdown",
   "metadata": {},
   "source": [
    "- Avec un petit programme, créer la liste suivante : [(`numero_etape`, `nombre_de_resultats`, `numero_de_la_base_de_donnees`)]\n",
    "    - Il s'agit de cette liste : [(0, 1, 1), (1, 1, 2), ..., (13, 377, 1)]\n",
    "- Avec un petit programme, réécrire le message complet au format suivant : \n",
    "    - \"Au cours de l'etape `numero_etape`, `nombre_de_resultats`  détectés dans la base de données `numero_de_la_base_de_donnees`\""
   ]
  },
  {
   "cell_type": "code",
   "execution_count": 4,
   "metadata": {},
   "outputs": [],
   "source": [
    "message = \"\"\"Etape 0 : 1 résultats trouvés dans la base de données numéro 1\n",
    "Etape 1 : 1 résultats trouvés dans la base de données numéro 2\n",
    "Etape 2 : 2 résultats trouvés dans la base de données numéro 3\n",
    "Etape 3 : 3 résultats trouvés dans la base de données numéro 4\n",
    "Etape 4 : 5 résultats trouvés dans la base de données numéro 5\n",
    "Etape 5 : 8 résultats trouvés dans la base de données numéro 5\n",
    "Etape 6 : 13 résultats trouvés dans la base de données numéro 5\n",
    "Etape 7 : 21 résultats trouvés dans la base de données numéro 6\n",
    "Etape 8 : 34 résultats trouvés dans la base de données numéro 6\n",
    "Etape 9 : 55 résultats trouvés dans la base de données numéro 3\n",
    "Etape 10 : 89 résultats trouvés dans la base de données numéro 4\n",
    "Etape 11 : 144 résultats trouvés dans la base de données numéro 4\n",
    "Etape 12 : 233 résultats trouvés dans la base de données numéro 3\n",
    "Etape 13 : 377 résultats trouvés dans la base de données numéro 1\"\"\""
   ]
  },
  {
   "cell_type": "code",
   "execution_count": 5,
   "metadata": {},
   "outputs": [],
   "source": [
    "from pprint import pprint"
   ]
  },
  {
   "cell_type": "code",
   "execution_count": 6,
   "metadata": {},
   "outputs": [
    {
     "name": "stdout",
     "output_type": "stream",
     "text": [
      "[['Etape 0', '1 résultats trouvés dans la base de données numéro 1'],\n",
      " ['Etape 1', '1 résultats trouvés dans la base de données numéro 2'],\n",
      " ['Etape 2', '2 résultats trouvés dans la base de données numéro 3'],\n",
      " ['Etape 3', '3 résultats trouvés dans la base de données numéro 4'],\n",
      " ['Etape 4', '5 résultats trouvés dans la base de données numéro 5'],\n",
      " ['Etape 5', '8 résultats trouvés dans la base de données numéro 5'],\n",
      " ['Etape 6', '13 résultats trouvés dans la base de données numéro 5'],\n",
      " ['Etape 7', '21 résultats trouvés dans la base de données numéro 6'],\n",
      " ['Etape 8', '34 résultats trouvés dans la base de données numéro 6'],\n",
      " ['Etape 9', '55 résultats trouvés dans la base de données numéro 3'],\n",
      " ['Etape 10', '89 résultats trouvés dans la base de données numéro 4'],\n",
      " ['Etape 11', '144 résultats trouvés dans la base de données numéro 4'],\n",
      " ['Etape 12', '233 résultats trouvés dans la base de données numéro 3'],\n",
      " ['Etape 13', '377 résultats trouvés dans la base de données numéro 1']]\n",
      "[('0', ('1',), '1'),\n",
      " ('1', ('1',), '2'),\n",
      " ('2', ('2',), '3'),\n",
      " ('3', ('3',), '4'),\n",
      " ('4', ('5',), '5'),\n",
      " ('5', ('8',), '5'),\n",
      " ('6', ('13',), '5'),\n",
      " ('7', ('21',), '6'),\n",
      " ('8', ('34',), '6'),\n",
      " ('9', ('55',), '3'),\n",
      " ('10', ('89',), '4'),\n",
      " ('11', ('144',), '4'),\n",
      " ('12', ('233',), '3'),\n",
      " ('13', ('377',), '1')]\n"
     ]
    }
   ],
   "source": [
    "## Méthode 1\n",
    "l = message.split(\"\\n\")\n",
    "l = [line.split(\" : \") for line in l]\n",
    "pprint(l)\n",
    "l = [ \n",
    "    (\n",
    "        etape.split(\" \")[1], \n",
    "        result_db.split(\" \")[0], \n",
    "        result_db.split(\" \")[-1] # Calcule deux fois\n",
    "    )\n",
    "    for etape, result_db, in l\n",
    "]\n",
    "\n",
    "## Méthode 2\n",
    "l = message.split(\"\\n\")\n",
    "\n",
    "comp = []\n",
    "for line in l:\n",
    "    etape, result_db = line.split(\" : \")\n",
    "    \n",
    "    n_etape = etape.split(\" \")[1]\n",
    "    list_result_db = result_db.split(\" \")\n",
    "    \n",
    "    n_results = list_result_db[0], \n",
    "    n_db = list_result_db[-1] \n",
    "    \n",
    "    result_db_splitted = result_db.split(\" \")\n",
    "    comp.append((n_etape, n_results, n_db))\n",
    "    \n",
    "pprint(comp)"
   ]
  },
  {
   "cell_type": "markdown",
   "metadata": {},
   "source": [
    "<a id=\"2\"></a>\n",
    "\n",
    "## Exercice 2 - Minimum, maximum, moyenne et médiane"
   ]
  },
  {
   "cell_type": "markdown",
   "metadata": {},
   "source": [
    "- Ecrire une fonction get_maximum qui renvoie le maximum d'une liste de nombres\n",
    "- Ecrire une fonction get_mean qui renvoie la moyenne d'une liste de nombres\n",
    "- Ecrire une fonction get_standard_deviation qui renvoie l'écart-type d'une liste de nombres\n",
    "- Ecrire une fonction get_median qui renvoie la valeur médiane d'une liste de nombres"
   ]
  },
  {
   "cell_type": "markdown",
   "metadata": {},
   "source": [
    "### Standard deviation\n",
    "$$ \\sqrt{ \\frac{1}{n} \\sum_{i=1}^{n} (x_i - \\bar{x} ) ^2 } $$"
   ]
  },
  {
   "cell_type": "code",
   "execution_count": 31,
   "metadata": {},
   "outputs": [
    {
     "name": "stdout",
     "output_type": "stream",
     "text": [
      "liste de notes : [8, 17, 10, 1, 20, 2, 6, 14, 14, 7, 16, 0, 4, 6, 6, 16, 14, 18, 0, 3]\n"
     ]
    }
   ],
   "source": [
    "import random\n",
    "\n",
    "# On génère au hasard 10 notes entre 0 et 20\n",
    "liste_notes = [random.randint(0, 20) for _ in range(20)]\n",
    "print(\"liste de notes :\", liste_notes)"
   ]
  },
  {
   "cell_type": "markdown",
   "metadata": {},
   "source": [
    "<a id=\"3\"></a>\n",
    "\n",
    "## Exercice 3 - Deviner un nombre entre 1 et 100"
   ]
  },
  {
   "cell_type": "markdown",
   "metadata": {},
   "source": [
    "- Adapter le code de la fonction `jeu_deviner_nombre`pour :\n",
    " - Deviner un nombre entre 0 et 50\n",
    " - En seulement 5 essais\n",
    " \n",
    "\n",
    "- Adapter le code de la fonction `jeu_deviner_nombre` pour afficher un message en cas de victoire / réussite qui :\n",
    " - Récapitule tous les nombres choisis par l'utilisateur\n",
    " - Affiche un message indiquant le nombre d'essais dont il a eu besoin (seulement s'il gagne)"
   ]
  },
  {
   "cell_type": "code",
   "execution_count": 68,
   "metadata": {},
   "outputs": [],
   "source": [
    "import random\n",
    "\n",
    "\n",
    "def jeu_deviner_nombre():\n",
    "    \"\"\"Jeu : il faut deviner un nombre choisi au hasard en moins de 10 essais\"\"\"\n",
    "\n",
    "    # Nombre à deviner\n",
    "    nombre = random.randint(1, 100)\n",
    "\n",
    "    print(\"Un nombre entre 1 et 100 a été sélectionné aléatoirement\")\n",
    "    print(\"Vous avez 10 essais pour le deviner\")\n",
    "    print(\"Il vous sera juste indiqué si le nombre est plus grand ou plus petit que votre proposition\")\n",
    "\n",
    "    # 10 essais\n",
    "    propositions = []\n",
    "    for _ in range(10):\n",
    "\n",
    "        proposition = input()\n",
    "\n",
    "        # On essaie de convertir l'input string en entier\n",
    "        try:\n",
    "            proposition = int(proposition)\n",
    "\n",
    "        # Si on arrive pas, on affiche un message d'erreur\n",
    "        except:\n",
    "            print(f\"Vous avez saisi : {proposition} - ce n'est pas un nombre\")\n",
    "            # Permet de passer tout de suite à l'itération suivante de la boucle\n",
    "            continue\n",
    "            \n",
    "        finally:\n",
    "            propositions.append(proposition)\n",
    "\n",
    "        # On vérifie que la proposition est entre 1 et 100\n",
    "        if not (1 <= proposition <= 100):\n",
    "            print(f\"Le nombre à trouver est entre 1 et 100 - pourtant vous avez saisi {proposition}\")\n",
    "\n",
    "        # Si la proposition est le bon nombre\n",
    "        elif proposition == nombre:\n",
    "            print(f\"Vous avez gagné, le nombre est bien {proposition}\")\n",
    "            break\n",
    "\n",
    "        # La proposition est plus grande\n",
    "        elif proposition > nombre:\n",
    "            print(f\"Le nombre cherché est plus petit que {proposition}\")\n",
    "\n",
    "        # La proposition est plus petite\n",
    "        elif proposition < nombre:\n",
    "            print(f\"Le nombre cherché est plus grand que {proposition}\")\n",
    "            \n",
    "            \n",
    "    print(\"Propositions : \", \" - \".join([str(p) for p in propositions]))\n"
   ]
  },
  {
   "cell_type": "code",
   "execution_count": 69,
   "metadata": {},
   "outputs": [
    {
     "name": "stdout",
     "output_type": "stream",
     "text": [
      "Un nombre entre 1 et 100 a été sélectionné aléatoirement\n",
      "Vous avez 10 essais pour le deviner\n",
      "Il vous sera juste indiqué si le nombre est plus grand ou plus petit que votre proposition\n"
     ]
    },
    {
     "name": "stdin",
     "output_type": "stream",
     "text": [
      " 50\n"
     ]
    },
    {
     "name": "stdout",
     "output_type": "stream",
     "text": [
      "Le nombre cherché est plus petit que 50\n"
     ]
    },
    {
     "name": "stdin",
     "output_type": "stream",
     "text": [
      " 75\n"
     ]
    },
    {
     "name": "stdout",
     "output_type": "stream",
     "text": [
      "Le nombre cherché est plus petit que 75\n"
     ]
    },
    {
     "name": "stdin",
     "output_type": "stream",
     "text": [
      " 66\n"
     ]
    },
    {
     "name": "stdout",
     "output_type": "stream",
     "text": [
      "Le nombre cherché est plus petit que 66\n"
     ]
    },
    {
     "name": "stdin",
     "output_type": "stream",
     "text": [
      " 58\n"
     ]
    },
    {
     "name": "stdout",
     "output_type": "stream",
     "text": [
      "Le nombre cherché est plus petit que 58\n"
     ]
    },
    {
     "name": "stdin",
     "output_type": "stream",
     "text": [
      " 54\n"
     ]
    },
    {
     "name": "stdout",
     "output_type": "stream",
     "text": [
      "Le nombre cherché est plus petit que 54\n"
     ]
    },
    {
     "name": "stdin",
     "output_type": "stream",
     "text": [
      " 52\n"
     ]
    },
    {
     "name": "stdout",
     "output_type": "stream",
     "text": [
      "Le nombre cherché est plus petit que 52\n"
     ]
    },
    {
     "name": "stdin",
     "output_type": "stream",
     "text": [
      " 25\n"
     ]
    },
    {
     "name": "stdout",
     "output_type": "stream",
     "text": [
      "Le nombre cherché est plus petit que 25\n"
     ]
    },
    {
     "name": "stdin",
     "output_type": "stream",
     "text": [
      " 12\n"
     ]
    },
    {
     "name": "stdout",
     "output_type": "stream",
     "text": [
      "Le nombre cherché est plus petit que 12\n"
     ]
    },
    {
     "name": "stdin",
     "output_type": "stream",
     "text": [
      " 6\n"
     ]
    },
    {
     "name": "stdout",
     "output_type": "stream",
     "text": [
      "Le nombre cherché est plus grand que 6\n"
     ]
    },
    {
     "name": "stdin",
     "output_type": "stream",
     "text": [
      " 8\n"
     ]
    },
    {
     "name": "stdout",
     "output_type": "stream",
     "text": [
      "Le nombre cherché est plus grand que 8\n",
      "Propositions :  50 - 75 - 66 - 58 - 54 - 52 - 25 - 12 - 6 - 8\n"
     ]
    }
   ],
   "source": [
    "jeu_deviner_nombre()"
   ]
  },
  {
   "cell_type": "markdown",
   "metadata": {},
   "source": [
    "<a id=\"4\"></a>\n",
    "## Exercice 4 - Code Morse et manipulation de dictionnaire"
   ]
  },
  {
   "cell_type": "code",
   "execution_count": 70,
   "metadata": {},
   "outputs": [],
   "source": [
    "# On définit le code morse : (les lettres) \n",
    "alphabet = dict(A='o-', B='-ooo', C='-o-o', D='-oo', E='o', F='oo-o', G='--o',\n",
    "                H='oooo', I='oo', J='o---', K='-o-', L='o-oo', M='--', N='-o',\n",
    "                O='---', P='o--o', Q='--o-', R='o-o', S='ooo', T='-', U='oo-',\n",
    "                V='ooo-', W='o--', X='-oo-', Y='-o--', Z='--oo')\n",
    "#print(alphabet)\n",
    "# Les chiffres\n",
    "alphabet.update({\n",
    "    '0': '-----', '1': 'o----',\n",
    "    '2': 'oo---', '3': 'ooo--',\n",
    "    '4': 'oooo-', '5': 'ooooo',\n",
    "    '6': '-oooo', '7': '--ooo',\n",
    "    '8': '---oo', '9': '----o',\n",
    "})\n",
    "# alphabet\n",
    "\n",
    "# Inversion du dictionnaire\n",
    "alphabet_reversed = {value:key for key, value in alphabet.items()}"
   ]
  },
  {
   "cell_type": "markdown",
   "metadata": {},
   "source": [
    "- Ecrire une fonction qui :\n",
    "    - Prend en argument une chaîne de caractères sans espace et qui ne contient que des chiffres et des lettres majuscules\n",
    "    - Renvoie cette chaîne de caractères convertie en code morse"
   ]
  },
  {
   "cell_type": "markdown",
   "metadata": {},
   "source": [
    "<a id=\"5\"></a>\n",
    "\n",
    "## Exercice 5 - Manipulation de dates"
   ]
  },
  {
   "cell_type": "markdown",
   "metadata": {},
   "source": [
    "- Ecrire une fonction qui prend en arguments une date de début (objet `datetime`) et une date de fin (aussi un objet `datetime`) et renvoie la liste des dates entre ces deux dates (liste d'objets `datetime`)\n",
    "- Ecrire une fonction qui prend en argument une année (un entier comme 2020) et renvoie `True` si c'est une année bissextile et `False` sinon\n",
    "- Ecrire une fonction qui prend en arguments une date de début (objet `datetime`) et une date de fin (aussi un objet `datetime`) et renvoie le temps en secondes entre ces deux objet `datetime`"
   ]
  },
  {
   "cell_type": "code",
   "execution_count": 87,
   "metadata": {},
   "outputs": [
    {
     "name": "stdout",
     "output_type": "stream",
     "text": [
      "Nous sommes le 30/8/2022\n",
      "\n",
      "Nous sommes le 30-8-2022\n",
      "\n",
      "premier jour de l'année : 2020-01-01 00:00:00 \n",
      "\n",
      "date : 2022-08-30\n",
      "heure : 10:46:30.926871\n",
      "\n",
      "\n",
      "demain : 2022-08-31 10:46:30.926871\n",
      "hier : 2022-08-29 10:46:30.926871\n",
      "L'heure il y a une heure 2022-08-30 09:46:30.926871\n"
     ]
    }
   ],
   "source": [
    "import datetime\n",
    "\n",
    "# On définit un objet datetime égal à la date d'aujourd'hui / l'heure qu'il est\n",
    "today = datetime.datetime.now()\n",
    "#print(today)\n",
    "#print(type(today))\n",
    "\n",
    "jour = today.day\n",
    "mois = today.month\n",
    "annee = today.year\n",
    "print(f\"Nous sommes le {jour}/{mois}/{annee}\\n\")\n",
    "print(f\"Nous sommes le {jour}-{mois}-{annee}\\n\")\n",
    "\n",
    "\n",
    "# On peut définir un object datetime ainsi :\n",
    "jour_1 = datetime.datetime(year=2020, month=1, day=1, hour=0, minute=0, second=0)\n",
    "print(\"premier jour de l'année :\", jour_1, \"\\n\")\n",
    "\n",
    "# On peut regarder la date et l'heure :\n",
    "print(\"date :\", today.date())\n",
    "print(\"heure :\", today.time())\n",
    "time = today.time()\n",
    "date = today.date()\n",
    "\n",
    "#print(type(time))\n",
    "#print(type(date))\n",
    "print(\"\\n\")\n",
    "\n",
    "# On peut ajouter ou soustraire des jours ainsi\n",
    "demain = today + datetime.timedelta(days=1)\n",
    "hier = today + datetime.timedelta(days=-1)\n",
    "print(\"demain :\", demain)\n",
    "print(\"hier :\", hier)\n",
    "\n",
    "# On peut ajouter ou soustraire des heures\n",
    "il_y_a_une_heure = today + datetime.timedelta(hours=-1)\n",
    "\n",
    "print(\"L'heure il y a une heure\", il_y_a_une_heure)"
   ]
  },
  {
   "cell_type": "markdown",
   "metadata": {},
   "source": [
    "<a id=\"6\"></a>\n",
    "## Exercice 6 - Tri de liste\n",
    "- Ecrire une fonction qui prend en argument une liste de nombre et renvoie cette liste triée par ordre croissant (vous pouvez par exemple utiliser la fonction `min`ou `max` de Python)\n",
    "- (Facultatif : Réécrire votre fonction pour quelle renvoie la liste triée et le nombre de comparaisons qui sont effectuées lors de l'execution de la fonction)"
   ]
  },
  {
   "cell_type": "markdown",
   "metadata": {},
   "source": [
    "# Exercice 7 (Bonus)\n",
    "### Information dataset\n",
    "- CRIM: per capita crime rate by town.\n",
    "- ZN: proportion of residential land zoned for lots over 25,000 sq.ft.\n",
    "- INDUS: proportion of nonretail business acres per town.\n",
    "- CHAS: Charles River dummy variable (= 1 if tract bounds river; 0 otherwise).\n",
    "- NOX: nitric oxides concentration (parts per 10 million).\n",
    "- RM: average number of rooms per dwelling.\n",
    "- AGE: proportion of owner-occupied units built prior to 1940.\n",
    "- DIS: weighted distances to five Boston employment centers.\n",
    "- RAD: index of accessibility to radial highways.\n",
    "- TAX: full-value property-tax rate per $10,000.\n",
    "- PTRATIO: pupil-teacher ratio by town.\n",
    "\n",
    "- B: 1000(Bk – 0.63)^2 where Bk is the proportion of blacks by town.\n",
    "- LSTAT: % lower status of the population.\n",
    "- MEDV: Median value of owner-occupied homes in $1000s."
   ]
  },
  {
   "cell_type": "code",
   "execution_count": 1,
   "metadata": {},
   "outputs": [],
   "source": [
    "import pandas as pd\n",
    "#df = pd.read_csv(\"https://raw.githubusercontent.com/selva86/datasets/master/BostonHousing.csv\")\n",
    "#d = df.to_dict(orient='records')"
   ]
  },
  {
   "cell_type": "code",
   "execution_count": null,
   "metadata": {},
   "outputs": [],
   "source": []
  }
 ],
 "metadata": {
  "kernelspec": {
   "display_name": "Python 3 (ipykernel)",
   "language": "python",
   "name": "python3"
  },
  "language_info": {
   "codemirror_mode": {
    "name": "ipython",
    "version": 3
   },
   "file_extension": ".py",
   "mimetype": "text/x-python",
   "name": "python",
   "nbconvert_exporter": "python",
   "pygments_lexer": "ipython3",
   "version": "3.9.7"
  }
 },
 "nbformat": 4,
 "nbformat_minor": 4
}
