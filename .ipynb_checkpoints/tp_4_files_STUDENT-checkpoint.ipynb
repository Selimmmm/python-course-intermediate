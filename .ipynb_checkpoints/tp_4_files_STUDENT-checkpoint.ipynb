{
 "cells": [
  {
   "cell_type": "markdown",
   "metadata": {},
   "source": [
    "# **M1 - CSB**\n",
    "# **TP 4 - Manipulation de fichiers**\n",
    "\n",
    "\n",
    "\n",
    "***\n",
    "\n",
    "[**Notions**](#notions)\n",
    "\n",
    "1. [Nom des fichiers dans le dossier courant](#1)\n",
    "2. [Créer et écrire dans un fichier un fichier](#2)\n",
    "3. [Ajouter du texte à un fichier existant](#3)\n",
    "4. [Python : modes d'ouvertures d'un fichier (File Modes)](#4)\n",
    "5. [Lire un fichier](#5)\n",
    "6. [Pickle : sauvegarder n'importe quel objet Python](#6)\n",
    "\n",
    "\n",
    "*** \n",
    "\n",
    "[**Exercices**](#exercices)\n",
    "\n",
    "1. Fichiers du dossier courant\n",
    "2. Fichiers et datetimes\n",
    "3. Zen of Python\n",
    "\n",
    "\n",
    "***\n",
    "\n",
    "\n",
    "[![Open In Colab](https://colab.research.google.com/assets/colab-badge.svg)](https://colab.research.google.com/github/Selimmmm/hetic_m1_csb_public/blob/master/tp_4_files.ipynb)\n"
   ]
  },
  {
   "cell_type": "markdown",
   "metadata": {},
   "source": [
    "<a id='1'></a>\n",
    "## 1. Nom des fichiers dans le dossier courant\n",
    "-  La fonction `listdir` du packages `os` permet de renvoyer les noms de tous les fichiers dans le dossier courant"
   ]
  },
  {
   "cell_type": "code",
   "execution_count": 1,
   "metadata": {},
   "outputs": [
    {
     "name": "stdout",
     "output_type": "stream",
     "text": [
      "Tous les fichiers présents dans le dossier courant :\n",
      "['tp_6_webscraping_bs.ipynb', 'tp_1_syntaxe_variables_et_types_STUDENT.ipynb', 'tp_5_http_api.ipynb', 'tp_2_test_boucle_fonction_STUDENT.ipynb', '.ipynb_checkpoints', 'notes.md', '.git', 'tp_4_files.ipynb', 'tp_3_algorithmie_STUDENT.ipynb'] \n",
      "\n",
      "Tous les fichiers .txt présents dans le dossier courant :\n",
      "[]\n"
     ]
    }
   ],
   "source": [
    "import os\n",
    "\n",
    "# Tous les fichiers dans le dossier courant\n",
    "print(\"Tous les fichiers présents dans le dossier courant :\")\n",
    "print(os.listdir(), \"\\n\")\n",
    "\n",
    "# Tous les fichiers de type .txt\n",
    "print(\"Tous les fichiers .txt présents dans le dossier courant :\")\n",
    "txt_files = [filename for filename in os.listdir() if filename.endswith(\".txt\")]\n",
    "print(txt_files)"
   ]
  },
  {
   "cell_type": "markdown",
   "metadata": {},
   "source": [
    "<a id='2'></a>\n",
    "## 2. Créer et écrire dans un fichier"
   ]
  },
  {
   "cell_type": "markdown",
   "metadata": {},
   "source": [
    "- On déclare la variable f égale au fichier `file.txt`.\n",
    "- Le premier argument de la fonction `open` est le nom du fichier\n",
    "- Le deuxième, `w`, indique que l'on veut pouvoir écrire dans le fichier, le `+`indique qu'on veut pouvoir lire et écrire (read and write)"
   ]
  },
  {
   "cell_type": "code",
   "execution_count": 2,
   "metadata": {},
   "outputs": [],
   "source": [
    "file = open(\"file_2.txt\",\"w+\")"
   ]
  },
  {
   "cell_type": "markdown",
   "metadata": {},
   "source": [
    "- On écrit dans le fichier sur les 10 premières lignes un message indiquant le numéro de la ligne\n",
    "- On ferme le fichier"
   ]
  },
  {
   "cell_type": "code",
   "execution_count": 3,
   "metadata": {},
   "outputs": [],
   "source": [
    "for i in range(10):\n",
    "    # Ecrire une ligne, le \\n indique un retour à la ligne\n",
    "    file.write(f\"Ligne numéro {10*i}\\n\")\n",
    "\n",
    "# Fermer le fichier\n",
    "file.close() "
   ]
  },
  {
   "cell_type": "markdown",
   "metadata": {},
   "source": [
    "<a id='3'></a>\n",
    "\n",
    "## 3. Ajouter du texte à un fichier existant"
   ]
  },
  {
   "cell_type": "markdown",
   "metadata": {},
   "source": [
    "- Le `a` indique 'append' c'est à dire ajouter (comme pour la méthode pour les listes)\n",
    "- Le `+`indique qu'on est en mode `read` and `write`"
   ]
  },
  {
   "cell_type": "code",
   "execution_count": 4,
   "metadata": {},
   "outputs": [],
   "source": [
    "file = open(\"file_2.txt\", \"a+\")\n",
    "\n",
    "for i in range(20):\n",
    "     file.write(f\"Ligne ajoutée line {i}\\n\")\n",
    "        \n",
    "file.close()"
   ]
  },
  {
   "cell_type": "markdown",
   "metadata": {},
   "source": [
    "<a id='4'></a>\n",
    "\n",
    "## 4. Python : modes d'ouvertures d'un fichier (File Modes)\n",
    "\n",
    "- 'r' : Mode par défaut. Ouvre un fichier pour le lire.\n",
    "- 'w': Ouvre un fichier pour écrire. Si le fichier n'existe pas, il est créé.\n",
    "- 'x': Crée un nouveau fichier. Si le fichier existe déjà, l'opération échoue.\n",
    "- 'a': Ouvre un fichier en mode `append`. S'il n'existe pas, il est créé.\n",
    "- 't': Mode par défaut, ouvre un fichier `text`\n",
    "- 'b': Ouvre un fichier de `bytes`\n",
    "- '+': On indique qu'on veut ouvrir pour lire et écrire"
   ]
  },
  {
   "cell_type": "code",
   "execution_count": 5,
   "metadata": {},
   "outputs": [],
   "source": [
    "file = open(\"file_2.txt\", \"at+\")\n",
    "\n",
    "for i in range(2):\n",
    "     file.write(f\"Ligne ajoutée ++ line {i}\\n\")\n",
    "        \n",
    "file.close()"
   ]
  },
  {
   "cell_type": "markdown",
   "metadata": {},
   "source": [
    "<a id='5'></a>\n",
    "\n",
    "## 5. Lire un fichier\n",
    "- On peut utilier la méthode `.read()` qui lit le fichier en entier et renvoie une chaîne de caractères\n",
    "- On peut utilier la méthode `.readlines()` pour lire ligne par ligne"
   ]
  },
  {
   "cell_type": "code",
   "execution_count": 6,
   "metadata": {},
   "outputs": [
    {
     "ename": "FileNotFoundError",
     "evalue": "[Errno 2] No such file or directory: 'file_0.txt'",
     "output_type": "error",
     "traceback": [
      "\u001b[0;31m---------------------------------------------------------------------------\u001b[0m",
      "\u001b[0;31mFileNotFoundError\u001b[0m                         Traceback (most recent call last)",
      "Input \u001b[0;32mIn [6]\u001b[0m, in \u001b[0;36m<module>\u001b[0;34m\u001b[0m\n\u001b[0;32m----> 1\u001b[0m file \u001b[38;5;241m=\u001b[39m \u001b[38;5;28;43mopen\u001b[39;49m\u001b[43m(\u001b[49m\u001b[38;5;124;43m\"\u001b[39;49m\u001b[38;5;124;43mfile_0.txt\u001b[39;49m\u001b[38;5;124;43m\"\u001b[39;49m\u001b[43m,\u001b[49m\u001b[43m \u001b[49m\u001b[38;5;124;43m\"\u001b[39;49m\u001b[38;5;124;43mr\u001b[39;49m\u001b[38;5;124;43m\"\u001b[39;49m\u001b[43m)\u001b[49m\n\u001b[1;32m      2\u001b[0m content \u001b[38;5;241m=\u001b[39m file\u001b[38;5;241m.\u001b[39mread()\n\u001b[1;32m      3\u001b[0m \u001b[38;5;28mprint\u001b[39m(content, \u001b[38;5;124m\"\u001b[39m\u001b[38;5;130;01m\\n\u001b[39;00m\u001b[38;5;124m\"\u001b[39m)\n",
      "\u001b[0;31mFileNotFoundError\u001b[0m: [Errno 2] No such file or directory: 'file_0.txt'"
     ]
    }
   ],
   "source": [
    "file = open(\"file_0.txt\", \"r\")\n",
    "content = file.read()\n",
    "print(content, \"\\n\")\n",
    "\n",
    "file = open(\"file_0.txt\", \"r\")\n",
    "lines = file.readlines()\n",
    "print(lines, \"\\n\")\n",
    "\n",
    "file.close()"
   ]
  },
  {
   "cell_type": "markdown",
   "metadata": {},
   "source": [
    "<a id='6'></a>\n",
    "## 6. Pickle : sauvegarder n'importe quel objet Python\n",
    "\n",
    "- On peut avec le package `pickle` garder une copie physique de n'importe quel objet Python (peu importe son type)\n"
   ]
  },
  {
   "cell_type": "code",
   "execution_count": null,
   "metadata": {},
   "outputs": [],
   "source": [
    "# Save a dictionary into a pickle file.\n",
    "import pickle\n",
    "\n",
    "# On définit un dictionnaire\n",
    "my_dict = { \"Max\": 20, \"André\": 37 }\n",
    "\n",
    "# On enregistre le dictionnaire au format pickle dans le fichier my_dict.p\n",
    "# le b dans \"wb\" indique que l'on écrit des bytes\n",
    "pickle.dump( my_dict, open(\"my_dict.p\", \"wb\" ), protocol=pickle.HIGHEST_PROTOCOL)\n",
    "\n",
    "# On réouvre ce fichier\n",
    "# le b dans \"wb\" indique que l'on lit des bytes\n",
    "my_dict_opened = pickle.load( open(\"my_dict.p\", \"rb\" ) )\n",
    "\n",
    "assert my_dict == my_dict_opened\n",
    "\n",
    "# Vérification\n",
    "print(\"fichier enregistré\", my_dict)\n",
    "print(\"fichier ouvert\", my_dict_opened)"
   ]
  },
  {
   "cell_type": "markdown",
   "metadata": {},
   "source": [
    "<a id='7'></a>\n",
    "\n",
    "## 7. La syntaxe `with`"
   ]
  },
  {
   "cell_type": "code",
   "execution_count": 7,
   "metadata": {},
   "outputs": [
    {
     "name": "stdout",
     "output_type": "stream",
     "text": [
      "fichier enregistré {'Max': 20, 'André': 37, 'Hubert': 19}\n",
      "fichier ouvert {'Max': 20, 'André': 37, 'Hubert': 19}\n"
     ]
    }
   ],
   "source": [
    "# Syntaxe alternartive\n",
    "\n",
    "import pickle\n",
    "\n",
    "my_dict_2 = { \"Max\": 20, \"André\": 37 , \"Hubert\": 19}\n",
    "\n",
    "# le b dans \"wb\" indique que l'on écrit des bytes\n",
    "with open('my_dict_2.pickle', 'wb') as file:\n",
    "    pickle.dump(my_dict_2, file, protocol=pickle.HIGHEST_PROTOCOL)\n",
    "\n",
    "# le b dans \"wb\" indique que l'on lit des bytes\n",
    "with open('my_dict_2.pickle', 'rb') as file:\n",
    "    my_dict_2_opened = pickle.load(file)\n",
    "\n",
    "assert my_dict_2 == my_dict_2_opened\n",
    "\n",
    "# Vérification\n",
    "print(\"fichier enregistré\", my_dict_2)\n",
    "print(\"fichier ouvert\", my_dict_2_opened)"
   ]
  },
  {
   "cell_type": "markdown",
   "metadata": {},
   "source": [
    "<a id='exercices'></a>\n",
    "## Exercices"
   ]
  },
  {
   "cell_type": "markdown",
   "metadata": {},
   "source": [
    "## Exercice 1 - Fichiers du dossier courant\n",
    "- Ecrire une fonction qui crée un fichier appelé `liste_noms_des_fichiers`, et qui écrit dans ce fichier la liste des noms des fichiers présents dans le dossier courant\n",
    "\n",
    "- Ecrire une fonction qui renvoie un dictionnaire avec en clef les extentions présentes et en valeurs le nombre de fichiers avec cette extension, par exemple : \n",
    "```\n",
    "{\".txt\": 2, \n",
    "\".pdf\": 2,\n",
    "\".ipynb\": 4, \n",
    "\".py\": 2, \n",
    "}\n",
    "```"
   ]
  },
  {
   "cell_type": "markdown",
   "metadata": {},
   "source": [
    "## Exercice 1 - correction"
   ]
  },
  {
   "cell_type": "markdown",
   "metadata": {},
   "source": [
    "## Exercice 2 - Fichiers et datetimes\n",
    "- Ecrire une fonction qui pendant 30 secondes crée un fichier toutes les 5 secondes (donc 6 fichiers) : \n",
    "    - ce fichier aura comme nom son heure de création\n",
    "    - Il contiendra le numéro du fichier (1 pour le premier,..., 6 pour le dernier)"
   ]
  },
  {
   "cell_type": "markdown",
   "metadata": {},
   "source": [
    "## Exercice 2 - correction"
   ]
  },
  {
   "cell_type": "markdown",
   "metadata": {},
   "source": [
    "## Exercice 3 - Zen of Python\n",
    "- Ecrire un programme qui crée un fichier et écrit le texte suivant dans ce fichier\n",
    "- Ecrire un programme qui crée un fichier et écrit le texte suivant mais seulement les lettres, espaces et retours à la ligne\n",
    "- Ecrire un programme qui crée un fichier par ligne, avec comme noms 'ligne_1.txt', 'ligne_2.txt', ... et contenant chacun la première ligne, la deuxième etc...\n"
   ]
  },
  {
   "cell_type": "code",
   "execution_count": null,
   "metadata": {},
   "outputs": [],
   "source": [
    "import this\n",
    "zen_of_python = \"\"\"\n",
    "The Zen of Python, by Tim Peters\n",
    "\n",
    "Beautiful is better than ugly.\n",
    "Explicit is better than implicit.\n",
    "Simple is better than complex.\n",
    "Complex is better than complicated.\n",
    "Flat is better than nested.\n",
    "Sparse is better than dense.\n",
    "Readability counts.\n",
    "Special cases aren't special enough to break the rules.\n",
    "Although practicality beats purity.\n",
    "Errors should never pass silently.\n",
    "Unless explicitly silenced.\n",
    "In the face of ambiguity, refuse the temptation to guess.\n",
    "There should be one-- and preferably only one --obvious way to do it.\n",
    "Although that way may not be obvious at first unless you're Dutch.\n",
    "Now is better than never.\n",
    "Although never is often better than *right* now.\n",
    "If the implementation is hard to explain, it's a bad idea.\n",
    "If the implementation is easy to explain, it may be a good idea.\n",
    "Namespaces are one honking great idea -- let's do more of those!\n",
    "\"\"\""
   ]
  },
  {
   "cell_type": "markdown",
   "metadata": {},
   "source": [
    "## Exercice 3 - correction"
   ]
  },
  {
   "cell_type": "code",
   "execution_count": null,
   "metadata": {},
   "outputs": [],
   "source": []
  }
 ],
 "metadata": {
  "kernelspec": {
   "display_name": "Python 3 (ipykernel)",
   "language": "python",
   "name": "python3"
  },
  "language_info": {
   "codemirror_mode": {
    "name": "ipython",
    "version": 3
   },
   "file_extension": ".py",
   "mimetype": "text/x-python",
   "name": "python",
   "nbconvert_exporter": "python",
   "pygments_lexer": "ipython3",
   "version": "3.9.7"
  }
 },
 "nbformat": 4,
 "nbformat_minor": 4
}
