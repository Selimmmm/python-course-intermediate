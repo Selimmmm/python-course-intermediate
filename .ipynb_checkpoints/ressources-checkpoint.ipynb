{
 "cells": [
  {
   "cell_type": "markdown",
   "metadata": {},
   "source": [
    "## Quelques ressources pour progresser : \n",
    "\n",
    "\n",
    "\n",
    "\n",
    "### En français\n",
    "\n",
    "\n",
    "\n",
    "\n",
    "- Site de Xavier Dupré (senior enginner chez Microsoft et enseignant) : \n",
    " - [Résumé de syntaxe](http://www.xavierdupre.fr/app/teachpyx/helpsphinx/c_resume/python_sheet.html)\n",
    " - [Bases en Python](http://www.xavierdupre.fr/app/ensae_teaching_cs/helpsphinx3/td_1a.html)\n",
    " - [Cours de Python pour la Data](http://www.xavierdupre.fr/app/ensae_teaching_cs/helpsphinx3/td_2a.html)\n",
    "\n",
    "\n",
    "- Publicis Sapient : \n",
    " - [Accueil - de nombreuses ressources en code et en tech](https://blog.engineering.publicissapient.fr/)\n",
    " - [Outils pour la Data Science](https://blog.engineering.publicissapient.fr/2015/04/29/les-outils-de-la-data-science-python-data-tools/)\n",
    "\n",
    "\n",
    "- [Cours du CNRS - bases en Python](https://calcul.math.cnrs.fr/attachments/spip/Documents/Ecoles/2010/les_bases.pdf)\n",
    "\n",
    "- [Compilation de ressources - Académie de Bordeaux](https://ent2d.ac-bordeaux.fr/disciplines/mathematiques/des-tutoriels-pour-debuter-avec-le-langage-python/)\n",
    "\n",
    "### In English\n",
    "\n",
    "- <span style=\"color:purple\">**Le meilleur cours pour ceux maîtrisant déjà la syntaxe**</span><br>\n",
    "[<span style=\"color:purple\">Practical Python Programming</span>](https://dabeaz-course.github.io/practical-python/Notes/Contents.html)\n",
    "\n",
    "- <span style=\"color:green\">**Un très bon cours pour découvrir la syntaxe**</span><br>\n",
    "[<span style=\"color:green\">W3schools - Python</span>](https://www.w3schools.com/python/)\n",
    "\n",
    "\n",
    " <span style=\"color:purple\">**Autres ressources**</span><br>\n",
    "\n",
    " \n",
    "- [Quelques Cheat Sheets (dans le repo)](https://github.com/Selimmmm/hetic_m1_csb_public/tree/master/CheatSheets)\n",
    "\n",
    "- [DataCamp](https://www.datacamp.com/):\n",
    " - [Pandas basics](https://www.datacamp.com/community/tutorials/pandas-tutorial-dataframe-python)\n",
    " - [Sklearn basics](https://www.datacamp.com/community/tutorials/machine-learning-python)\n",
    "\n",
    "\n",
    "- [AfterHoursProgramming - Python](https://www.afterhoursprogramming.com/tutorial/python/)\n"
   ]
  },
  {
   "cell_type": "code",
   "execution_count": null,
   "metadata": {},
   "outputs": [],
   "source": []
  }
 ],
 "metadata": {
  "kernelspec": {
   "display_name": "Python 3 (ipykernel)",
   "language": "python",
   "name": "python3"
  },
  "language_info": {
   "codemirror_mode": {
    "name": "ipython",
    "version": 3
   },
   "file_extension": ".py",
   "mimetype": "text/x-python",
   "name": "python",
   "nbconvert_exporter": "python",
   "pygments_lexer": "ipython3",
   "version": "3.9.7"
  }
 },
 "nbformat": 4,
 "nbformat_minor": 4
}
