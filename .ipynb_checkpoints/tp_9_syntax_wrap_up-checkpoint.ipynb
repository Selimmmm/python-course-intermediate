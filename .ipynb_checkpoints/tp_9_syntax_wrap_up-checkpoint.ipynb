{
 "cells": [
  {
   "cell_type": "markdown",
   "metadata": {},
   "source": [
    "# **M1 - CSB**\n",
    "# **TP 9 - Syntaxe Wrap Up**\n",
    "\n",
    "\n",
    "***\n",
    "\n",
    "[**Notions et exercices**](#notions)\n",
    "\n",
    " [Python Keywords - mots clefs en Python](#0)\n"
   ]
  },
  {
   "cell_type": "markdown",
   "metadata": {},
   "source": [
    "<a id='1'></a>\n",
    "# Python Keywords - mots clefs en Python\n",
    "***\n",
    "\n",
    "\n",
    "- Il existe 33 mots clefs en Python que l'on ne peut pas utiliser comme nom de variables car ils définissent la syntaxe et la structure du langage (Python est sensible à la casse). En dehors de ``True``, ``False`` et ``None``, ils sont tous en minuscules.\n",
    "\n",
    "- Ces mots clefs sont : \n",
    "|        |          |         |          |        |\n",
    "|--------|----------|---------|----------|--------|\n",
    "| ``False``  | ``await``    | ``else``    | ``import``   | ``pass``   |\n",
    "| ``None``   | ``break``    | ``except``  | ``in``       | ``raise``  |\n",
    "| ``True``   | ``class``    | ``finally`` | ``is``       | ``return`` |\n",
    "| ``and``    | ``continue`` | ``for``     | ``lambda``   | ``try``    |\n",
    "| ``as``     | ``def``      | ``from``    | ``nonlocal`` | ``while``  |\n",
    "| ``assert`` | ``del``      | ``global``  | ``not``      | ``with``   |\n",
    "| ``async``  | ``elif``     | ``if``      | ``or``       | ``yield``  |"
   ]
  },
  {
   "cell_type": "markdown",
   "metadata": {},
   "source": [
    "- Liste des mots clefs en Python"
   ]
  },
  {
   "cell_type": "code",
   "execution_count": 1,
   "metadata": {},
   "outputs": [
    {
     "name": "stdout",
     "output_type": "stream",
     "text": [
      "['False', 'None', 'True', '__peg_parser__', 'and', 'as', 'assert', 'async', 'await', 'break', 'class', 'continue', 'def', 'del', 'elif', 'else', 'except', 'finally', 'for', 'from', 'global', 'if', 'import', 'in', 'is', 'lambda', 'nonlocal', 'not', 'or', 'pass', 'raise', 'return', 'try', 'while', 'with', 'yield']\n"
     ]
    }
   ],
   "source": [
    "import keyword\n",
    "print(keyword.kwlist)"
   ]
  },
  {
   "cell_type": "markdown",
   "metadata": {},
   "source": [
    "### ``False``, ``True`` et ``None``\n",
    "- Valeurs booléennes et type spécial pour l'absence de résultat"
   ]
  },
  {
   "cell_type": "code",
   "execution_count": 2,
   "metadata": {},
   "outputs": [],
   "source": [
    "# \"Vrai / Faux\"\n",
    "boolean = False\n",
    "boolean = True\n",
    "\n",
    "# Absence de résultats\n",
    "boolean = None"
   ]
  },
  {
   "cell_type": "markdown",
   "metadata": {},
   "source": [
    "## Exercice - somme de booléens\n",
    "- Définir une liste aléatoire de booléens de longueur 10 (on pourra utiliser ``random.choice`` après avoir importé le package ``random``\n",
    "- Observer ce qui se passe quand on calcule la somme de la liste avec la fonction Python built-in ``sum``\n",
    "- Observer les résultats des fonctions ``all`` et ``any`` appliquées aux listes ``l1``, ``l2`` et ``l3``. Que font ces fonctions ? "
   ]
  },
  {
   "cell_type": "code",
   "execution_count": 9,
   "metadata": {},
   "outputs": [
    {
     "name": "stdout",
     "output_type": "stream",
     "text": [
      "[True, False, False] any retourne :  True\n",
      "[True, False, False] all retourne :  False\n",
      "[True, True, True] any retourne :  True\n",
      "[True, True, True] all retourne :  True\n",
      "[False, False, False] any retourne :  False\n",
      "[False, False, False] all retourne :  False\n"
     ]
    }
   ],
   "source": [
    "import random\n",
    "random.choice([True, False])\n",
    "\n",
    "l1 = [True, False, False]\n",
    "l2 = [True, True, True]\n",
    "l3 = [False, False, False]\n",
    "\n",
    "\n",
    "# \n",
    "l_10_booleans = [random.choice([True, False]) for _ in range(10)]\n",
    "sum(l_10_booleans)\n",
    "\n",
    "\n",
    "for liste in [l1, l2, l3]:\n",
    "    print(liste, \"any retourne : \", any(liste))\n",
    "    print(liste, \"all retourne : \", all(liste))\n",
    "    \n",
    "    \n",
    "# Any vérifie si au moins une valeur est True\n",
    "# All vérifie si toutes les valeurs sont True"
   ]
  },
  {
   "cell_type": "markdown",
   "metadata": {},
   "source": [
    "## ``and``, ``or`` et ``not``\n",
    "- Opérateurs logiques"
   ]
  },
  {
   "cell_type": "code",
   "execution_count": 10,
   "metadata": {},
   "outputs": [
    {
     "name": "stdout",
     "output_type": "stream",
     "text": [
      "True and True = True\n",
      "False and True = False\n",
      "True or True = True\n",
      "True or False = True\n",
      "not True =  False\n",
      "not False =  True\n",
      "True\n"
     ]
    }
   ],
   "source": [
    "# Valeurs logiques\n",
    "print(\"True and True =\", True and True)\n",
    "print(\"False and True =\", False and True)\n",
    "\n",
    "print(\"True or True =\", True or True)\n",
    "print(\"True or False =\", True or False)\n",
    "\n",
    "print(\"not True = \", not True)\n",
    "print(\"not False = \", not False)\n",
    "\n",
    "grades = [10, 18, 20, 20]\n",
    "more_than_3 = len(grades) > 3\n",
    "grade_mean_more_than_10 = (sum(grades) / len(grades)) > 10\n",
    "no_grade_below_8 = all([x > 8 for x in grades])\n",
    "condition_for_next_year = more_than_3 and grade_mean_more_than_10 and no_grade_below_8\n",
    "print(condition_for_next_year)"
   ]
  },
  {
   "cell_type": "markdown",
   "metadata": {},
   "source": [
    "## Exercice - ou exclusif\n",
    "- Coder une fonction ``ou_exclusif`` qui:\n",
    " - prend en argument deux booléens\n",
    " - renvoie: \n",
    "     - ``True`` si un un seul des deux booléens vaut ``True`` \n",
    "     - ``False`` dans tous les autres cas"
   ]
  },
  {
   "cell_type": "code",
   "execution_count": 12,
   "metadata": {},
   "outputs": [
    {
     "name": "stdout",
     "output_type": "stream",
     "text": [
      "ou_exclusif(True, True) = False\n",
      "ou_exclusif(True, False) = True\n",
      "ou_exclusif(False, True) = True\n",
      "ou_exclusif(False, False) = False\n"
     ]
    }
   ],
   "source": [
    "def ou_exclusif(bool_1, bool_2):\n",
    "    return (bool_1 or bool_2) and not( bool_1 and bool_2)\n",
    "\n",
    "\n",
    "\n",
    "for bool_1 in [True, False]:\n",
    "    for bool_2 in [True, False]:\n",
    "        print(f'ou_exclusif({bool_1}, {bool_2}) = {ou_exclusif(bool_1, bool_2)}')"
   ]
  },
  {
   "cell_type": "markdown",
   "metadata": {},
   "source": [
    "## ``with`` et ``as``\n",
    "- Context manager"
   ]
  },
  {
   "cell_type": "code",
   "execution_count": 13,
   "metadata": {},
   "outputs": [],
   "source": [
    "with open(\"file_test.txt\", \"w\") as file:\n",
    "    # En dehors de ce bloc indenté, la variable file n'existe plus \n",
    "    # car le fichier a été fermé\n",
    "    file.write(\"lala\")"
   ]
  },
  {
   "cell_type": "markdown",
   "metadata": {},
   "source": [
    "## Exercice - utilisation du context manager\n",
    "- Ecrire le dictionnaire d dans un fichier pickle\n",
    "- Lire le fichier créé en utilisant un context manager et créer une variable égale au dictionnaire enregistré \n",
    "- Vérifier qu'il est bien égal au dictionnaire originel\n",
    "\n",
    "(Vous pouvez regarder le TP 4 sur les fichiers)\n"
   ]
  },
  {
   "cell_type": "code",
   "execution_count": 14,
   "metadata": {},
   "outputs": [],
   "source": [
    "d = {\"Paris\": 75, \"Nantes\": 44}"
   ]
  },
  {
   "cell_type": "code",
   "execution_count": 17,
   "metadata": {},
   "outputs": [
    {
     "name": "stdout",
     "output_type": "stream",
     "text": [
      "fichier enregistré {'Paris': 75, 'Nantes': 44}\n",
      "fichier ouvert {'Paris': 75, 'Nantes': 44}\n"
     ]
    }
   ],
   "source": [
    "import pickle\n",
    "\n",
    "\n",
    "pickle.dump(d, open(\"drafts/d.p\", \"wb\" ), protocol=pickle.HIGHEST_PROTOCOL)\n",
    "\n",
    "# On réouvre ce fichier\n",
    "# le b dans \"wb\" indique que l'on lit des bytes\n",
    "d_opened = pickle.load( open(\"drafts/d.p\", \"rb\" ) )\n",
    "\n",
    "assert d_opened == d\n",
    "\n",
    "# Vérification\n",
    "print(\"fichier enregistré\", d)\n",
    "print(\"fichier ouvert\", d_opened)\n",
    "\n",
    "\n",
    "# Que renvoie : ?\n",
    "# d is d_opened\n",
    "\n",
    "# Que renvoie : ?\n",
    "# d == d_opened "
   ]
  },
  {
   "cell_type": "markdown",
   "metadata": {},
   "source": [
    "## ``assert``\n",
    "- Permet de vérifier une condition booléenne : on lève une erreur de type ``AssertionError`` si elle échoue"
   ]
  },
  {
   "cell_type": "code",
   "execution_count": 18,
   "metadata": {},
   "outputs": [],
   "source": [
    "liste = [1, 2, 3, 4, 5]\n",
    "# Ne lève pas d'erreur car les conditions sont vérifiées\n",
    "assert len(liste) == 5\n",
    "assert len(liste) > 4\n",
    "assert 1 in liste\n",
    "\n",
    "# Lève une erreur\n",
    "# assert len(liste) == 100"
   ]
  },
  {
   "cell_type": "markdown",
   "metadata": {},
   "source": [
    "## ``async`` et ``await``\n",
    "- Sont utilisés pour faire de la programmation asynchrone"
   ]
  },
  {
   "cell_type": "markdown",
   "metadata": {},
   "source": [
    "## ``if``, ``elif`` et ``else``\n",
    "- Opérateurs de tests"
   ]
  },
  {
   "cell_type": "code",
   "execution_count": 19,
   "metadata": {},
   "outputs": [
    {
     "name": "stdout",
     "output_type": "stream",
     "text": [
      "La longueur est 3\n",
      "La longueur est inférieure à 10\n",
      "La longueur est inférieure à 9\n",
      "La longueur est inférieure à 8\n",
      "La longueur est inférieure à 7\n"
     ]
    }
   ],
   "source": [
    "liste = [1, 2, 3]\n",
    "\n",
    "# Les conditions sont exclusives\n",
    "# Si une réussie, on ne rentre pas dans les autres\n",
    "if len(liste) == 3:\n",
    "    print(\"La longueur est 3\")\n",
    "    \n",
    "elif len(liste) == 2:\n",
    "    print(\"La longueur est 2\")\n",
    "    \n",
    "elif len(liste) < 5: # c'est vrai, mais une seule condition est exécutée\n",
    "    print(\"La longueur est plus petite que 5\")\n",
    "\n",
    "else:\n",
    "    print(\"La longueur n'est ni 2 ni 3\")\n",
    "    \n",
    "# On rentre dans tous les if\n",
    "if len(liste) < 10:\n",
    "    print(\"La longueur est inférieure à 10\")\n",
    "\n",
    "if len(liste) < 9:\n",
    "    print(\"La longueur est inférieure à 9\")\n",
    "    \n",
    "if len(liste) < 8:\n",
    "    print(\"La longueur est inférieure à 8\")\n",
    "    \n",
    "if len(liste) < 7:\n",
    "    print(\"La longueur est inférieure à 7\")\n",
    "    "
   ]
  },
  {
   "cell_type": "markdown",
   "metadata": {},
   "source": [
    "## ``for``, ``while``, ``continue``, ``break``, ``pass``\n",
    "- Opérateurs pour les boucles (mais pas que)"
   ]
  },
  {
   "cell_type": "code",
   "execution_count": 20,
   "metadata": {},
   "outputs": [
    {
     "name": "stdout",
     "output_type": "stream",
     "text": [
      "Liste d'entiers\n",
      "0\n",
      "1\n",
      "2\n",
      "\n",
      "###########\n",
      "\n",
      "Liste d'objets\n",
      "bonjour\n",
      "de\n",
      "{'ville': 'paris'}\n",
      "\n",
      "###########\n",
      "\n",
      "Continue\n",
      "0\n",
      "1\n",
      "2\n",
      "3\n",
      "5\n",
      "6\n",
      "7\n",
      "8\n",
      "9\n",
      "\n",
      "###########\n",
      "\n",
      "Break\n",
      "On passe au suivant, on cherche 4\n",
      "On passe au suivant, on cherche 4\n",
      "On passe au suivant, on cherche 4\n",
      "On passe au suivant, on cherche 4\n",
      "4\n"
     ]
    }
   ],
   "source": [
    "print(\"Liste d'entiers\")\n",
    "# Itérer sur des entiers définis par un range\n",
    "for x in range(3):\n",
    "    print(x)\n",
    "    \n",
    "print(\"\\n###########\\n\")\n",
    "print(\"Liste d'objets\")\n",
    "# Itérer sur une liste d'objet\n",
    "for x in [\"bonjour\", \"de\", {\"ville\": \"paris\"}]:\n",
    "    print(x)\n",
    "    \n",
    "print(\"\\n###########\\n\")\n",
    "print(\"Continue\")\n",
    "for x in range(10):\n",
    "    if x == 4:\n",
    "        # On n'affichera pas 4\n",
    "        # continue indique à la boucle de passer au suivant\n",
    "        continue\n",
    "    else:\n",
    "        print(x)\n",
    "           \n",
    "print(\"\\n###########\\n\")\n",
    "print(\"Break\")\n",
    "for x in range(10):\n",
    "    if x == 4:\n",
    "        # On affichere que 4 et on s'arrêtera\n",
    "        # break est utilisé pour sortir de la boucle\n",
    "        print(x)\n",
    "        break\n",
    "    else:\n",
    "        print(\"On passe au suivant, on cherche 4\")\n",
    "\n",
    "           \n",
    "def f(x):\n",
    "    pass  "
   ]
  },
  {
   "cell_type": "markdown",
   "metadata": {},
   "source": [
    "## Exercice - recherche d'entier\n",
    "- On définit un entier aléatoire ``random_integer``\n",
    "- En utilisant ``continue`` ou ``break`` ou les deux, écrire un programme qui itère sur tous les entiers de 0 à 500 et vérifie si un de ces entiers est égal à ``random_integer``. Le programme doit s'arrêter dès qu'il a trouvé la bonne valeur (pas d'opérations inutiles)"
   ]
  },
  {
   "cell_type": "code",
   "execution_count": 24,
   "metadata": {},
   "outputs": [
    {
     "name": "stdout",
     "output_type": "stream",
     "text": [
      "133\n"
     ]
    }
   ],
   "source": [
    "random_integer = random.randint(0, 500)\n",
    "\n",
    "\n",
    "for x in range(500):\n",
    "    if x != random_integer:\n",
    "        continue\n",
    "    else:\n",
    "        print(x)\n",
    "        break"
   ]
  },
  {
   "cell_type": "markdown",
   "metadata": {},
   "source": [
    "## ``import`` et ``from``\n",
    "- Utiliser pour les imports de package"
   ]
  },
  {
   "cell_type": "markdown",
   "metadata": {},
   "source": [
    "- Import de fonction d'un package"
   ]
  },
  {
   "cell_type": "code",
   "execution_count": 25,
   "metadata": {},
   "outputs": [
    {
     "name": "stdout",
     "output_type": "stream",
     "text": [
      "2\n"
     ]
    }
   ],
   "source": [
    "# On importe une fonction précise\n",
    "from random import randint\n",
    "# Génère un entier aléatoire entre 0 et 10\n",
    "# On a importé la fonction précisément, \n",
    "# donc pas besoin d'indiquer le nom du package\n",
    "print(randint(0,10))"
   ]
  },
  {
   "cell_type": "markdown",
   "metadata": {},
   "source": [
    "- Import de classe d'un package"
   ]
  },
  {
   "cell_type": "code",
   "execution_count": 26,
   "metadata": {},
   "outputs": [],
   "source": [
    "from bs4 import BeautifulSoup\n",
    "soup = BeautifulSoup(\"<div> 123 </div>\")"
   ]
  },
  {
   "cell_type": "markdown",
   "metadata": {},
   "source": [
    "- Import d'un package"
   ]
  },
  {
   "cell_type": "code",
   "execution_count": 27,
   "metadata": {},
   "outputs": [
    {
     "name": "stdout",
     "output_type": "stream",
     "text": [
      "3\n"
     ]
    }
   ],
   "source": [
    "# On inmporte tout le package random\n",
    "import random\n",
    "# Sélectionne aléatoirement une valeur de la liste\n",
    "print(random.choice([1, 2, 3]))"
   ]
  },
  {
   "cell_type": "markdown",
   "metadata": {},
   "source": [
    "- Utiliser un alias"
   ]
  },
  {
   "cell_type": "code",
   "execution_count": 28,
   "metadata": {},
   "outputs": [
    {
     "data": {
      "text/plain": [
       "1"
      ]
     },
     "execution_count": 28,
     "metadata": {},
     "output_type": "execute_result"
    }
   ],
   "source": [
    "import random as rdm\n",
    "rdm.choice([1, 2, 3])"
   ]
  },
  {
   "cell_type": "code",
   "execution_count": 30,
   "metadata": {},
   "outputs": [
    {
     "data": {
      "text/plain": [
       "<matplotlib.collections.PathCollection at 0x11b14b820>"
      ]
     },
     "execution_count": 30,
     "metadata": {},
     "output_type": "execute_result"
    },
    {
     "data": {
      "image/png": "[encoded data removed]",
      "text/plain": [
       "<Figure size 432x288 with 1 Axes>"
      ]
     },
     "metadata": {
      "needs_background": "light"
     },
     "output_type": "display_data"
    }
   ],
   "source": [
    "import matplotlib.pyplot as plt\n",
    "plt.scatter([1, 2,  4], [2, 10, 3]) # on utilise la fonction matplotlib.pyplot.scatter"
   ]
  },
  {
   "cell_type": "markdown",
   "metadata": {},
   "source": [
    "- Import de toutes les fonction d'un package (très mauvaise pratique)"
   ]
  },
  {
   "cell_type": "code",
   "execution_count": 32,
   "metadata": {},
   "outputs": [
    {
     "name": "stdout",
     "output_type": "stream",
     "text": [
      "The autoreload extension is already loaded. To reload it, use:\n",
      "  %reload_ext autoreload\n"
     ]
    }
   ],
   "source": [
    "# lignes magiques qui permettent de réimporter des objets d'un fichier .py\n",
    "# Sans avoir à redémarrer le kernel\n",
    "%load_ext autoreload\n",
    "%autoreload 2"
   ]
  },
  {
   "cell_type": "code",
   "execution_count": 33,
   "metadata": {},
   "outputs": [
    {
     "name": "stdout",
     "output_type": "stream",
     "text": [
      "9\n",
      "3\n",
      "Même nom que dans random\n"
     ]
    },
    {
     "data": {
      "text/plain": [
       "'Cette fonction est nulle mais on peut la réimporter'"
      ]
     },
     "execution_count": 33,
     "metadata": {},
     "output_type": "execute_result"
    }
   ],
   "source": [
    "# On peut importer tous les fonctions du package \n",
    "# C'est une très mauvaise pratique (risque de fonctions avec le même nom)\n",
    "from random import * \n",
    "print(randint(0,10))\n",
    "print(choice([1, 2, 3]))\n",
    "\n",
    "\n",
    "# Exemple : \n",
    "from package_with_choice import choice\n",
    "choice([1, 2, 3])"
   ]
  },
  {
   "cell_type": "code",
   "execution_count": 34,
   "metadata": {},
   "outputs": [
    {
     "data": {
      "text/plain": [
       "2"
      ]
     },
     "execution_count": 34,
     "metadata": {},
     "output_type": "execute_result"
    }
   ],
   "source": [
    "import random\n",
    "random.choice([1, 2, 3])"
   ]
  },
  {
   "cell_type": "markdown",
   "metadata": {},
   "source": [
    "## Exercice - Classe ``Counter`` du package ``collections``\n",
    "- Importer la classe ``Counter`` du package ``collections``\n",
    "- Initialiser une variable ``counter`` égale à une instance de la classe ``Counter``. Pour initialiser cette classe, donner en argument la liste ``directors``.\n",
    "- Utiliser la méthode ``.most_common()``. Que fais cette méthode ?"
   ]
  },
  {
   "cell_type": "code",
   "execution_count": 59,
   "metadata": {},
   "outputs": [
    {
     "data": {
      "text/plain": [
       "[('b', 10), ('a', 1)]"
      ]
     },
     "execution_count": 59,
     "metadata": {},
     "output_type": "execute_result"
    }
   ],
   "source": [
    "from collections import Counter\n",
    "c = Counter({\"a\":1, \"b\":10})\n",
    "c.most_common()"
   ]
  },
  {
   "cell_type": "code",
   "execution_count": 75,
   "metadata": {},
   "outputs": [
    {
     "data": {
      "text/plain": [
       "['Lisa Cholodenko',\n",
       " 'Joanna Hogg',\n",
       " 'Sofia Coppola',\n",
       " 'Márta Mészáros',\n",
       " 'Chantal Akerman',\n",
       " 'Maya Deren',\n",
       " 'Chantal Akerman',\n",
       " 'Andrea Arnold',\n",
       " 'Julia Ducournau',\n",
       " 'Claire Denis']"
      ]
     },
     "execution_count": 75,
     "metadata": {},
     "output_type": "execute_result"
    }
   ],
   "source": [
    "# from : https://www.bbc.com/culture/article/20191125-the-100-greatest-films-directed-by-women-poll\n",
    "s = \"\"\"\n",
    "100.    The Kids are All Right (Lisa Cholodenko, 2010)\n",
    "99.    The Souvenir (Joanna Hogg, 2019)\n",
    "98.    Somewhere (Sofia Coppola, 2010)\n",
    "97.    Adoption (Márta Mészáros, 1975)\n",
    "96.    The Meetings of Anna (Chantal Akerman, 1977)\n",
    "95.    Ritual in Transfigured Time (Maya Deren, 1946)\n",
    "94.    News From Home (Chantal Akerman, 1977)\n",
    "93.    Red Road (Andrea Arnold, 2006)\n",
    "92.    Raw (Julia Ducournau, 2016)\n",
    "91.    White Material (Claire Denis, 2009)\n",
    "90.    Fast Times at Ridgemont High (Amy Heckerling, 1982)\n",
    "89.    The Beaches of Agnes (Agnès Varda, 2008)\n",
    "88.    The Silences of the Palace (Moufida Tlatli, 1994)\n",
    "87.    35 Shots of Rum (Claire Denis, 2008)\n",
    "86.    Wadjda (Haifaa Al-Mansour, 2012)\n",
    "85.    One Sings, The Other Doesn’t (Agnès Varda, 1977)\n",
    "84.    Portrait of Jason (Shirley Clarke, 1967)\n",
    "83.    Sleepless in Seattle (Nora Ephron, 1993)\n",
    "82.    At Land (Maya Deren, 1944)\n",
    "81.    A Girl Walks Home Alone at Night (Ana Lily Amirpour, 2014)\n",
    "80.    Big (Penny Marshall, 1988)\n",
    "79.    Shoes (Lois Weber, 1916)\n",
    "78.    The Apple (Samira Makhmalbaf, 1998)\n",
    "77.    Tomboy (Céline Sciamma, 2011)\n",
    "76.    Girlhood (Céline Sciamma, 2014)\n",
    "75.    Meek’s Cutoff (Kelly Reichardt, 2010)\n",
    "74.    Chocolat (Claire Denis, 1988)\n",
    "73.    On Body and Soul (Ildikó Enyedi, 2017)\n",
    "72.    Europa Europa (Agnieszka Holland, 1980)\n",
    "71.    The Seashell and the Clergyman (Germaine Dulac, 1928)\n",
    "70.    Whale Rider (Niki Caro, 2002)\n",
    "69.    The Connection (Shirley Clarke, 1961)\n",
    "68.    Eve’s Bayou (Kasi Lemmons, 1997)\n",
    "67.    The German Sisters (Margarethe von Trotta, 1981)\n",
    "66.    Ratcatcher (Lynne Ramsay, 1999)\n",
    "65.    Leave no Trace (Debra Granik, 2018)\n",
    "64.    The Rider (Chloe Zhao, 2017)\n",
    "63.    Marie Antoinette (Sofia Coppola, 2006)\n",
    "62.    Strange Days (Kathryn Bigelow, 1995)\n",
    "61.    India Song (Marguerite Duras, 1975)\n",
    "60.    A League of their Own (Penny Marshall, 1992)\n",
    "59.    The Long Farewell (Kira Muratova, 1971)\n",
    "58.    Desperately Seeking Susan (Susan Seidelman, 1985)\n",
    "57.    The Babadook (Jennifer Kent, 2014)\n",
    "56.    13th (Ava DuVernay, 2016)\n",
    "55.    Monster (Patty Jenkins, 2003)\n",
    "54.    Bright Star (Jane Campion, 2009)\n",
    "53.    The Headless Woman (Lucrecia Martel, 2008)\n",
    "52.    Happy as Lazzaro (Alice Rohrwacher, 2018)\n",
    "51.    Harlan County, USA (Barbara Kopple, 1976)\n",
    "50.    Outrage (Ida Lupino, 1950)\n",
    "49.    Salaam Bombay! (Mira Nair, 1988)\n",
    "48.    The Asthenic Syndrome (Kira Muratova, 1989)\n",
    "47.    An Angel at my Table (Jane Campion, 1990)\n",
    "46.    Near Dark (Kathryn Bigelow, 1987)\n",
    "45.    Triumph of the Will (Leni Riefenstahl, 1935)\n",
    "44.    American Honey (Andrea Arnold, 2016)\n",
    "43.    The Virgin Suicides (Sofia Coppola, 1999)\n",
    "42.    The Adventures of Prince Achmed (Lotte Reiniger, 1926)\n",
    "41.    Capernaum (Nadine Labaki, 2018)\n",
    "40.    Boys Don’t Cry (Kimberly Peirce, 1999)\n",
    "39.    Portrait of a Lady on Fire (Céline Sciamma, 2019)\n",
    "38.    Paris is Burning (Jennie Livingston, 1990)\n",
    "37.    Olympia (Leni Riefenstahl, 1938)\n",
    "36.    Wendy and Lucy (Kelly Reichardt, 2008)\n",
    "35.    The Matrix (Lana and Lilly Wachowski, 1999)\n",
    "34.    Morvern Callar (Lynne Ramsay, 2002)\n",
    "33.    You Were Never Really Here (Lynne Ramsay, 2017)\n",
    "32.    The Night Porter (Liliana Cavani, 1974)\n",
    "31.    The Gleaners and I (Agnès Varda, 2000)\n",
    "30.    Zama (Lucrecia Martel, 2017)\n",
    "29.    Monsoon Wedding (Mira Nair, 2001)\n",
    "28.    Le Bonheur (Agnès Varda, 1965)\n",
    "27.    Selma (Ava DuVernay, 2014)\n",
    "26.    Stories we Tell (Sarah Polley, 2012)\n",
    "25.    The House is Black (Forugh Farrokhzad, 1963)\n",
    "24.    Lady Bird (Greta Gerwig, 2017)\n",
    "23.    The Hitch-Hiker (Ida Lupino, 1953)\n",
    "23.    We Need to Talk About Kevin (Lynne Ramsay, 2011)\n",
    "21.    Winter’s Bone (Debra Granik, 2010)\n",
    "20.    Clueless (Amy Heckerling, 1995)\n",
    "19.    Orlando (Sally Potter, 1992)\n",
    "18.    American Psycho (Mary Harron, 2000)\n",
    "17.    Seven Beauties (Lina Wertmüller, 1975)\n",
    "16.    Wanda (Barbara Loden, 1970)\n",
    "15.    The Swamp (Lucrecia Martel, 2001)\n",
    "14.    Point Break (Kathryn Bigelow, 1991)\n",
    "13.    Vagabond (Agnès Varda, 1985)\n",
    "12.    Zero Dark Thirty (Kathryn Bigelow, 2012)\n",
    "11.    The Ascent (Larisa Shepitko, 1977)\n",
    "10.    Daughters of the Dust (Julie Dash, 1991)\n",
    "  9.    Fish Tank (Andrea Arnold, 2009)\n",
    "  8.    Toni Erdmann (Maren Ade, 2016)\n",
    "  7.    The Hurt Locker (Kathryn Bigelow, 2008)\n",
    "  6.    Daisies (Věra Chytilová, 1966)\n",
    "  5.    Lost in Translation (Sofia Coppola, 2003)\n",
    "  4.    Beau Travail (Claire Denis, 1999)\n",
    "  3.    Jeanne Dielman, 23 Quai du Commerce, 1080 Bruxelles (Chantal Akerman, 1975)\n",
    "  2.    Cléo from 5 to 7 (Agnès Varda, 1962)\n",
    "  1.    The Piano (Jane Campion, 1993)\n",
    "\"\"\"\n",
    "\n",
    "l = s.split(\"\\n\")\n",
    "l = [x for x in l if x]\n",
    "l = [x.split(\"    \")[1] for x in l]\n",
    "l = [x.split(\"(\") for x in l]\n",
    "directors = []\n",
    "for x in l:\n",
    "#    title = x[0].strip()\n",
    "    director = x[1].split(\",\")[0].strip()\n",
    "    directors.append(director)\n",
    "directors[:10]"
   ]
  },
  {
   "cell_type": "code",
   "execution_count": 62,
   "metadata": {},
   "outputs": [
    {
     "data": {
      "text/plain": [
       "[('Agnès Varda', 6),\n",
       " ('Kathryn Bigelow', 5),\n",
       " ('Sofia Coppola', 4),\n",
       " ('Claire Denis', 4),\n",
       " ('Lynne Ramsay', 4),\n",
       " ('Chantal Akerman', 3),\n",
       " ('Andrea Arnold', 3),\n",
       " ('Céline Sciamma', 3),\n",
       " ('Jane Campion', 3),\n",
       " ('Lucrecia Martel', 3),\n",
       " ('Maya Deren', 2),\n",
       " ('Amy Heckerling', 2),\n",
       " ('Shirley Clarke', 2),\n",
       " ('Penny Marshall', 2),\n",
       " ('Kelly Reichardt', 2),\n",
       " ('Debra Granik', 2),\n",
       " ('Kira Muratova', 2),\n",
       " ('Ava DuVernay', 2),\n",
       " ('Ida Lupino', 2),\n",
       " ('Mira Nair', 2),\n",
       " ('Leni Riefenstahl', 2),\n",
       " ('Lisa Cholodenko', 1),\n",
       " ('Joanna Hogg', 1),\n",
       " ('Márta Mészáros', 1),\n",
       " ('Julia Ducournau', 1),\n",
       " ('Moufida Tlatli', 1),\n",
       " ('Haifaa Al-Mansour', 1),\n",
       " ('Nora Ephron', 1),\n",
       " ('Ana Lily Amirpour', 1),\n",
       " ('Lois Weber', 1),\n",
       " ('Samira Makhmalbaf', 1),\n",
       " ('Ildikó Enyedi', 1),\n",
       " ('Agnieszka Holland', 1),\n",
       " ('Germaine Dulac', 1),\n",
       " ('Niki Caro', 1),\n",
       " ('Kasi Lemmons', 1),\n",
       " ('Margarethe von Trotta', 1),\n",
       " ('Chloe Zhao', 1),\n",
       " ('Marguerite Duras', 1),\n",
       " ('Susan Seidelman', 1),\n",
       " ('Jennifer Kent', 1),\n",
       " ('Patty Jenkins', 1),\n",
       " ('Alice Rohrwacher', 1),\n",
       " ('Barbara Kopple', 1),\n",
       " ('Lotte Reiniger', 1),\n",
       " ('Nadine Labaki', 1),\n",
       " ('Kimberly Peirce', 1),\n",
       " ('Jennie Livingston', 1),\n",
       " ('Lana and Lilly Wachowski', 1),\n",
       " ('Liliana Cavani', 1),\n",
       " ('Sarah Polley', 1),\n",
       " ('Forugh Farrokhzad', 1),\n",
       " ('Greta Gerwig', 1),\n",
       " ('Sally Potter', 1),\n",
       " ('Mary Harron', 1),\n",
       " ('Lina Wertmüller', 1),\n",
       " ('Barbara Loden', 1),\n",
       " ('Larisa Shepitko', 1),\n",
       " ('Julie Dash', 1),\n",
       " ('Maren Ade', 1),\n",
       " ('Věra Chytilová', 1)]"
      ]
     },
     "execution_count": 62,
     "metadata": {},
     "output_type": "execute_result"
    }
   ],
   "source": [
    "counter = Counter(directors)\n",
    "counter.most_common()"
   ]
  },
  {
   "cell_type": "markdown",
   "metadata": {},
   "source": [
    "## ``raise`` et ``return``\n",
    "- ``raise`` pour lever une erreur et ``return`` pour renvoie un résultat dans une fonction"
   ]
  },
  {
   "cell_type": "markdown",
   "metadata": {},
   "source": [
    "- Exemple avec la division par 0"
   ]
  },
  {
   "cell_type": "code",
   "execution_count": 63,
   "metadata": {},
   "outputs": [
    {
     "ename": "ZeroDivisionError",
     "evalue": "division by zero",
     "output_type": "error",
     "traceback": [
      "\u001b[0;31m---------------------------------------------------------------------------\u001b[0m",
      "\u001b[0;31mZeroDivisionError\u001b[0m                         Traceback (most recent call last)",
      "\u001b[0;32m<ipython-input-63-bc757c3fda29>\u001b[0m in \u001b[0;36m<module>\u001b[0;34m\u001b[0m\n\u001b[0;32m----> 1\u001b[0;31m \u001b[0;36m1\u001b[0m \u001b[0;34m/\u001b[0m \u001b[0;36m0\u001b[0m\u001b[0;34m\u001b[0m\u001b[0;34m\u001b[0m\u001b[0m\n\u001b[0m",
      "\u001b[0;31mZeroDivisionError\u001b[0m: division by zero"
     ]
    }
   ],
   "source": [
    "1 / 0"
   ]
  },
  {
   "cell_type": "markdown",
   "metadata": {},
   "source": [
    "- On peut ajouter un message d'erreur"
   ]
  },
  {
   "cell_type": "code",
   "execution_count": 64,
   "metadata": {},
   "outputs": [],
   "source": [
    "def division(a, b):\n",
    "    if b == 0:\n",
    "        raise ZeroDivisionError(\"On ne peut pas diviser par 0\")\n",
    "    else:\n",
    "        return a / b"
   ]
  },
  {
   "cell_type": "code",
   "execution_count": 65,
   "metadata": {},
   "outputs": [
    {
     "ename": "ZeroDivisionError",
     "evalue": "On ne peut pas diviser par 0",
     "output_type": "error",
     "traceback": [
      "\u001b[0;31m---------------------------------------------------------------------------\u001b[0m",
      "\u001b[0;31mZeroDivisionError\u001b[0m                         Traceback (most recent call last)",
      "\u001b[0;32m<ipython-input-65-c67caa4c08c8>\u001b[0m in \u001b[0;36m<module>\u001b[0;34m\u001b[0m\n\u001b[0;32m----> 1\u001b[0;31m \u001b[0mdivision\u001b[0m\u001b[0;34m(\u001b[0m\u001b[0;36m1\u001b[0m\u001b[0;34m,\u001b[0m \u001b[0;36m0\u001b[0m\u001b[0;34m)\u001b[0m\u001b[0;34m\u001b[0m\u001b[0;34m\u001b[0m\u001b[0m\n\u001b[0m",
      "\u001b[0;32m<ipython-input-64-bca189432e05>\u001b[0m in \u001b[0;36mdivision\u001b[0;34m(a, b)\u001b[0m\n\u001b[1;32m      1\u001b[0m \u001b[0;32mdef\u001b[0m \u001b[0mdivision\u001b[0m\u001b[0;34m(\u001b[0m\u001b[0ma\u001b[0m\u001b[0;34m,\u001b[0m \u001b[0mb\u001b[0m\u001b[0;34m)\u001b[0m\u001b[0;34m:\u001b[0m\u001b[0;34m\u001b[0m\u001b[0;34m\u001b[0m\u001b[0m\n\u001b[1;32m      2\u001b[0m     \u001b[0;32mif\u001b[0m \u001b[0mb\u001b[0m \u001b[0;34m==\u001b[0m \u001b[0;36m0\u001b[0m\u001b[0;34m:\u001b[0m\u001b[0;34m\u001b[0m\u001b[0;34m\u001b[0m\u001b[0m\n\u001b[0;32m----> 3\u001b[0;31m         \u001b[0;32mraise\u001b[0m \u001b[0mZeroDivisionError\u001b[0m\u001b[0;34m(\u001b[0m\u001b[0;34m\"On ne peut pas diviser par 0\"\u001b[0m\u001b[0;34m)\u001b[0m\u001b[0;34m\u001b[0m\u001b[0;34m\u001b[0m\u001b[0m\n\u001b[0m\u001b[1;32m      4\u001b[0m     \u001b[0;32melse\u001b[0m\u001b[0;34m:\u001b[0m\u001b[0;34m\u001b[0m\u001b[0;34m\u001b[0m\u001b[0m\n\u001b[1;32m      5\u001b[0m         \u001b[0;32mreturn\u001b[0m \u001b[0ma\u001b[0m \u001b[0;34m/\u001b[0m \u001b[0mb\u001b[0m\u001b[0;34m\u001b[0m\u001b[0;34m\u001b[0m\u001b[0m\n",
      "\u001b[0;31mZeroDivisionError\u001b[0m: On ne peut pas diviser par 0"
     ]
    }
   ],
   "source": [
    "division(1, 0)"
   ]
  },
  {
   "cell_type": "markdown",
   "metadata": {},
   "source": [
    "## ``in`` et ``is``\n",
    "- ``in`` permet de tester si un élément est dans un itérable (quelque chose sur lequel on peut itérer, une liste, un dictionnaire, une chaîne de caractères)"
   ]
  },
  {
   "cell_type": "code",
   "execution_count": 66,
   "metadata": {},
   "outputs": [
    {
     "name": "stdout",
     "output_type": "stream",
     "text": [
      "True\n",
      "True\n"
     ]
    }
   ],
   "source": [
    "print(1 in [1, 2, 3, 4])\n",
    "print(\"a\" in \"Salut\")"
   ]
  },
  {
   "cell_type": "markdown",
   "metadata": {},
   "source": [
    "- ``is`` permet de tester certaines égalités, par exemple avec ``None`` (en fait, il test si les identifiants sont égaux)"
   ]
  },
  {
   "cell_type": "code",
   "execution_count": 67,
   "metadata": {},
   "outputs": [
    {
     "name": "stdout",
     "output_type": "stream",
     "text": [
      "x is None\n"
     ]
    }
   ],
   "source": [
    "x = None\n",
    "if x is None:\n",
    "    print(\"x is None\")\n",
    "    \n",
    "    \n",
    "## Ne pas faire : x == None"
   ]
  },
  {
   "cell_type": "code",
   "execution_count": 68,
   "metadata": {},
   "outputs": [
    {
     "name": "stdout",
     "output_type": "stream",
     "text": [
      "True\n",
      "4750408960 4750408960\n"
     ]
    }
   ],
   "source": [
    "l1 = [1, 2, 3]\n",
    "l2 = l1\n",
    "print(l1 is l2)\n",
    "print(id(l1), id(l2))\n",
    "assert id(l1) == id(l2)"
   ]
  },
  {
   "cell_type": "code",
   "execution_count": 69,
   "metadata": {},
   "outputs": [
    {
     "name": "stdout",
     "output_type": "stream",
     "text": [
      "False\n",
      "4750408960 4750770368\n"
     ]
    },
    {
     "ename": "AssertionError",
     "evalue": "",
     "output_type": "error",
     "traceback": [
      "\u001b[0;31m---------------------------------------------------------------------------\u001b[0m",
      "\u001b[0;31mAssertionError\u001b[0m                            Traceback (most recent call last)",
      "\u001b[0;32m<ipython-input-69-8e82f33b4849>\u001b[0m in \u001b[0;36m<module>\u001b[0;34m\u001b[0m\n\u001b[1;32m      2\u001b[0m \u001b[0mprint\u001b[0m\u001b[0;34m(\u001b[0m\u001b[0ml1\u001b[0m \u001b[0;32mis\u001b[0m \u001b[0ml3\u001b[0m\u001b[0;34m)\u001b[0m\u001b[0;34m\u001b[0m\u001b[0;34m\u001b[0m\u001b[0m\n\u001b[1;32m      3\u001b[0m \u001b[0mprint\u001b[0m\u001b[0;34m(\u001b[0m\u001b[0mid\u001b[0m\u001b[0;34m(\u001b[0m\u001b[0ml1\u001b[0m\u001b[0;34m)\u001b[0m\u001b[0;34m,\u001b[0m \u001b[0mid\u001b[0m\u001b[0;34m(\u001b[0m\u001b[0ml3\u001b[0m\u001b[0;34m)\u001b[0m\u001b[0;34m)\u001b[0m\u001b[0;34m\u001b[0m\u001b[0;34m\u001b[0m\u001b[0m\n\u001b[0;32m----> 4\u001b[0;31m \u001b[0;32massert\u001b[0m \u001b[0mid\u001b[0m\u001b[0;34m(\u001b[0m\u001b[0ml1\u001b[0m\u001b[0;34m)\u001b[0m \u001b[0;34m==\u001b[0m \u001b[0mid\u001b[0m\u001b[0;34m(\u001b[0m\u001b[0ml3\u001b[0m\u001b[0;34m)\u001b[0m\u001b[0;34m\u001b[0m\u001b[0;34m\u001b[0m\u001b[0m\n\u001b[0m",
      "\u001b[0;31mAssertionError\u001b[0m: "
     ]
    }
   ],
   "source": [
    "l3 = [1, 2, 3]\n",
    "print(l1 is l3)\n",
    "print(id(l1), id(l3))\n",
    "assert id(l1) == id(l3)"
   ]
  },
  {
   "cell_type": "markdown",
   "metadata": {},
   "source": [
    "## ``try``, ``except`` et ``finally``\n",
    "- Permettent de gérer les erreurs en fournissant trois blocs logiques : \n",
    "- ``try`` : on essaie de faire une action\n",
    "- ``except``: ce qu'on fait dans le cas où l'action échoue suite à une erreur \n",
    "- ``finally``: dans tous les cas, on exécute ce bloc (qu'il y ait une erreur ou pas)"
   ]
  },
  {
   "cell_type": "code",
   "execution_count": 70,
   "metadata": {},
   "outputs": [
    {
     "name": "stdout",
     "output_type": "stream",
     "text": [
      "Version sans regarder l'erreur\n",
      "\n",
      "###########\n",
      "\n",
      "Essayons de diviser par 0\n",
      "On arrive pas à diviser par 0\n",
      "Si on y arrive, c'est qu'on ne divise pas par 0\n",
      "\n",
      "\n",
      "Essayons de diviser par 1\n",
      "Si on y arrive, c'est qu'on ne divise pas par 0\n",
      "\n",
      "\n",
      "\n",
      "###########\n",
      "\n",
      "Version en regardant l'erreur\n",
      "\n",
      "###########\n",
      "\n",
      "Essayons de diviser par 0\n",
      "On arrive pas à diviser par 0\n",
      "Voici l'erreur\n",
      "division by zero\n",
      "Si on y arrive, c'est qu'on ne divise pas par 0\n",
      "\n",
      "\n",
      "Essayons de diviser par 1\n",
      "Si on y arrive, c'est qu'on ne divise pas par 0\n",
      "\n",
      "\n",
      "Version en regardant certaines erreurs\n",
      "\n",
      "###########\n",
      "\n",
      "Essayons de diviser par 0\n",
      "On arrive pas à diviser par 0\n",
      "Si on y arrive, c'est qu'on ne divise pas par 0\n",
      "\n",
      "\n",
      "Essayons de diviser par 1\n",
      "Si on y arrive, c'est qu'on ne divise pas par 0\n",
      "\n",
      "\n",
      "Essayons de diviser par string\n",
      "On arrive pas à diviser par une chaîne de caractères\n",
      "Si on y arrive, c'est qu'on ne divise pas par 0\n",
      "\n",
      "\n"
     ]
    }
   ],
   "source": [
    "print(\"Version sans regarder l'erreur\")\n",
    "print(\"\\n###########\\n\")\n",
    "for denom in [0, 1]:\n",
    "    print(\"Essayons de diviser par\", denom)\n",
    "    try:\n",
    "        1 / denom\n",
    "    except:\n",
    "        print(\"On arrive pas à diviser par 0\")\n",
    "    finally:\n",
    "        print(\"Si on y arrive, c'est qu'on ne divise pas par 0\")\n",
    "    print(\"\\n\")\n",
    "print(\"\\n###########\\n\")\n",
    "\n",
    "    \n",
    "print(\"Version en regardant l'erreur\") \n",
    "print(\"\\n###########\\n\")\n",
    "for denom in [0, 1]:\n",
    "    print(\"Essayons de diviser par\", denom)\n",
    "    try:\n",
    "        1 / denom\n",
    "    except Exception as e:\n",
    "        print(\"On arrive pas à diviser par 0\")\n",
    "        print(\"Voici l'erreur\")\n",
    "        print(e)\n",
    "    finally:\n",
    "        print(\"Si on y arrive, c'est qu'on ne divise pas par 0\")\n",
    "    print(\"\\n\")\n",
    "    \n",
    "    \n",
    "print(\"Version en regardant certaines erreurs\") \n",
    "print(\"\\n###########\\n\")\n",
    "for denom in [0, 1, \"string\"]:\n",
    "    print(\"Essayons de diviser par\", denom)\n",
    "    try:\n",
    "        1 / denom\n",
    "    except ZeroDivisionError:\n",
    "        print(\"On arrive pas à diviser par 0\")\n",
    "    except TypeError:\n",
    "        print(\"On arrive pas à diviser par une chaîne de caractères\")\n",
    "    finally:\n",
    "        print(\"Si on y arrive, c'est qu'on ne divise pas par 0\")\n",
    "    print(\"\\n\")"
   ]
  },
  {
   "cell_type": "markdown",
   "metadata": {},
   "source": [
    "## ``def`` et ``class`` \n",
    "- Sont utilisés pour définir fonctions et classes"
   ]
  },
  {
   "cell_type": "code",
   "execution_count": 71,
   "metadata": {},
   "outputs": [
    {
     "name": "stdout",
     "output_type": "stream",
     "text": [
      "100\n",
      "100\n"
     ]
    }
   ],
   "source": [
    "def fonction_carre(x):\n",
    "    return x**2\n",
    "\n",
    "\n",
    "class Maths:\n",
    "    def __init__(self):\n",
    "        pass\n",
    "    \n",
    "    def calculer_puissance_n(self, x, n):\n",
    "        return x**n\n",
    "    \n",
    "    def calculer_carre(self, x):\n",
    "        return self.calculer_puissance_n(x, 2)\n",
    "    \n",
    "    \n",
    "print(fonction_carre(10))\n",
    "maths = Maths()\n",
    "print(maths.calculer_carre(10))"
   ]
  },
  {
   "cell_type": "markdown",
   "metadata": {},
   "source": [
    "## ``del``\n",
    "- Permet de supprimer une variable"
   ]
  },
  {
   "cell_type": "code",
   "execution_count": 72,
   "metadata": {},
   "outputs": [
    {
     "ename": "NameError",
     "evalue": "name 'a' is not defined",
     "output_type": "error",
     "traceback": [
      "\u001b[0;31m---------------------------------------------------------------------------\u001b[0m",
      "\u001b[0;31mNameError\u001b[0m                                 Traceback (most recent call last)",
      "\u001b[0;32m<ipython-input-72-bfaea7f19d8f>\u001b[0m in \u001b[0;36m<module>\u001b[0;34m\u001b[0m\n\u001b[1;32m      2\u001b[0m \u001b[0;32mdel\u001b[0m \u001b[0ma\u001b[0m\u001b[0;34m\u001b[0m\u001b[0;34m\u001b[0m\u001b[0m\n\u001b[1;32m      3\u001b[0m \u001b[0;31m# NameError car la variable a n'existe plus\u001b[0m\u001b[0;34m\u001b[0m\u001b[0;34m\u001b[0m\u001b[0;34m\u001b[0m\u001b[0m\n\u001b[0;32m----> 4\u001b[0;31m \u001b[0ma\u001b[0m\u001b[0;34m\u001b[0m\u001b[0;34m\u001b[0m\u001b[0m\n\u001b[0m",
      "\u001b[0;31mNameError\u001b[0m: name 'a' is not defined"
     ]
    }
   ],
   "source": [
    "a = 1\n",
    "del a\n",
    "# NameError car la variable a n'existe plus\n",
    "a"
   ]
  },
  {
   "cell_type": "markdown",
   "metadata": {},
   "source": [
    "- Permet de supprimer un objet dans un itérable en supprimant la valeur de l'indexe associé"
   ]
  },
  {
   "cell_type": "code",
   "execution_count": 73,
   "metadata": {},
   "outputs": [
    {
     "name": "stdout",
     "output_type": "stream",
     "text": [
      "{44: 'Nantes'}\n",
      "[2, 3]\n"
     ]
    }
   ],
   "source": [
    "# On supprime la clef 75 \n",
    "d = {75: \"Paris\", 44: \"Nantes\"}\n",
    "del d[75]\n",
    "print(d)\n",
    "\n",
    "# On supprime la première valeur et la dernière\n",
    "l = [1, 2, 3, 4]\n",
    "del l[0], l[-1]\n",
    "print(l)"
   ]
  },
  {
   "cell_type": "markdown",
   "metadata": {},
   "source": [
    "## ``lambda``\n",
    "- Permet de définir de petites fonctions juste avant l'usage par exemple (facilite la lecture)"
   ]
  },
  {
   "cell_type": "code",
   "execution_count": 74,
   "metadata": {},
   "outputs": [
    {
     "data": {
      "text/plain": [
       "100"
      ]
     },
     "execution_count": 74,
     "metadata": {},
     "output_type": "execute_result"
    }
   ],
   "source": [
    "f = lambda x: x**2\n",
    "f(10)"
   ]
  }
 ],
 "metadata": {
  "kernelspec": {
   "display_name": "Python 3",
   "language": "python",
   "name": "python3"
  },
  "language_info": {
   "codemirror_mode": {
    "name": "ipython",
    "version": 3
   },
   "file_extension": ".py",
   "mimetype": "text/x-python",
   "name": "python",
   "nbconvert_exporter": "python",
   "pygments_lexer": "ipython3",
   "version": "3.9.0"
  }
 },
 "nbformat": 4,
 "nbformat_minor": 4
}
