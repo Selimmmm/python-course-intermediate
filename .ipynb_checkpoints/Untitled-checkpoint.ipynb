{
 "cells": [
  {
   "cell_type": "code",
   "execution_count": 1,
   "metadata": {},
   "outputs": [],
   "source": [
    "import requests"
   ]
  },
  {
   "cell_type": "code",
   "execution_count": null,
   "metadata": {},
   "outputs": [],
   "source": []
  },
  {
   "cell_type": "code",
   "execution_count": null,
   "metadata": {},
   "outputs": [],
   "source": []
  },
  {
   "cell_type": "code",
   "execution_count": null,
   "metadata": {},
   "outputs": [],
   "source": []
  },
  {
   "cell_type": "code",
   "execution_count": null,
   "metadata": {},
   "outputs": [],
   "source": []
  },
  {
   "cell_type": "code",
   "execution_count": 7,
   "metadata": {},
   "outputs": [],
   "source": [
    "url = \"https://www.wg-gesucht.de/en/wg-zimmer-in-Berlin.8.0.1.0.html\"\n",
    "search_ps = requests.get(url).text"
   ]
  },
  {
   "cell_type": "code",
   "execution_count": 3,
   "metadata": {},
   "outputs": [],
   "source": [
    "from bs4 import BeautifulSoup"
   ]
  },
  {
   "cell_type": "code",
   "execution_count": 8,
   "metadata": {},
   "outputs": [],
   "source": [
    "soup = BeautifulSoup(search_ps)"
   ]
  },
  {
   "cell_type": "code",
   "execution_count": 54,
   "metadata": {},
   "outputs": [],
   "source": [
    "announce_cards = soup.find_all(class_= [\"wgg_card offer_list_item\"])"
   ]
  },
  {
   "cell_type": "code",
   "execution_count": 64,
   "metadata": {},
   "outputs": [
    {
     "data": {
      "text/plain": [
       "{'title': 'Zwischenmiete für September in Kreuzberg, Ecke Viktoriapark',\n",
       " 'size_str': '2er ',\n",
       " 'size': 2,\n",
       " 'since': ['0w', '1m', '0d'],\n",
       " 'size_str_2': '2 person apartment share ',\n",
       " 'neigh': ' Berlin Kreuzberg ',\n",
       " 'address': ' Eylauer Straße 10'}"
      ]
     },
     "execution_count": 64,
     "metadata": {},
     "output_type": "execute_result"
    }
   ],
   "source": [
    "announce_card = announce_cards[0]\n",
    "\n",
    "##########################\n",
    "# Title\n",
    "##########################\n",
    "\n",
    "\n",
    "title = announce_card.find(\"h3\", class_=[\"truncate_title noprint\"]).text.strip()\n",
    "title = delete_line_return(title)\n",
    "\n",
    "\n",
    "##########################\n",
    "# Size and since\n",
    "##########################\n",
    "\n",
    "size_and_since = announce_card.find(\"span\", class_=[\"noprint\"]).get(\"title\")\n",
    "\n",
    "size_str, since = size_and_since.split(\"WG\")\n",
    "\n",
    "size = int(\"\".join(x for x in size_str if x.isdigit()))\n",
    "\n",
    "since = since.strip(\" \").strip(\"(\").strip(\")\").split(\",\")\n",
    "\n",
    "\n",
    "##########################\n",
    "# Neigh / Address + Size 2\n",
    "##########################\n",
    "\n",
    "size_2_and_neigh_and_address = (\n",
    "    replace_multiple_ws(announce_card\n",
    "    .find(\"div\", class_=[\"col-xs-11\"])\n",
    "    .find(\"span\").text).replace(\"\\n\", \"\").split(\"|\")\n",
    ")\n",
    "#list(map(lambda x: x.strip(), size_2_and_neigh_and_address))\n",
    "\n",
    "\n",
    "size_str_2, neigh, address = size_2_and_neigh_and_address\n",
    "\n",
    "data = {\n",
    "    \"title\" : title, # str\n",
    "    \n",
    "    ###\n",
    "    \"size_str\": size_str, \n",
    "    \"size\": size, # int\n",
    "    \"since\": since, # tuple\n",
    "    \"size_str_2\": size_str_2,\n",
    "    \"neigh\": neigh,\n",
    "    \"address\": address,\n",
    "}\n",
    "data"
   ]
  },
  {
   "cell_type": "code",
   "execution_count": 59,
   "metadata": {},
   "outputs": [],
   "source": []
  },
  {
   "cell_type": "code",
   "execution_count": 52,
   "metadata": {},
   "outputs": [],
   "source": [
    "import string\n",
    "\n",
    "\n",
    "#def clean_text(text):\n",
    "#    text = text.replace(\"\\n\", \"\")\n",
    "#    text = text.strip()\n",
    "#    return text\n",
    "\n",
    "def \n",
    "\n",
    "def delete_line_return(text):\n",
    "    return text.replace(\"\\n\", \"\")\n",
    "\n",
    "\n",
    "import re\n",
    "\n",
    "def replace_multiple_ws(text):\n",
    "    _RE_COMBINE_WHITESPACE = re.compile(r\"\\s+\")\n",
    "    return _RE_COMBINE_WHITESPACE.sub(\" \", text).strip()"
   ]
  },
  {
   "cell_type": "code",
   "execution_count": 65,
   "metadata": {},
   "outputs": [
    {
     "data": {
      "text/plain": [
       "<div class=\"wgg_card offer_list_item\" data-id=\"9532998\" id=\"liste-details-ad-9532998\">\n",
       "<div class=\"row\">\n",
       "<div class=\"col-sm-4 card_image\">\n",
       "<a href=\"/en/wg-zimmer-in-Berlin-Berlin.9532998.html\" style=\"background-image: url(https://img.wg-gesucht.de/media/up/2022/32/669afa8fee558aa4a92ab53d99a04ffd687a439fa4bcebc957232033ae5d49c4_IMG_20220727_140354.small.jpg);\"></a>\n",
       "</div>\n",
       "<div class=\"col-sm-8 card_body\">\n",
       "<div class=\"row noprint\">\n",
       "<div class=\"col-sm-12 flex_space_between\">\n",
       "<h3 class=\"truncate_title noprint\" title=\"Shared Flat\">\n",
       "<a href=\"/en/wg-zimmer-in-Berlin-Berlin.9532998.html\">\n",
       "                            Shared Flat\n",
       "                        </a>\n",
       "</h3>\n",
       "<div class=\"asset_favourite cursor-pointer\" data-ad_id=\"9532998\" data-ad_type=\"0\" data-favourite_status=\"0\">\n",
       "<span aria-hidden=\"true\" class=\"fav-button-9532998 mdi mdi-heart-outline icon-fav-empty\" id=\"to-fav-9532998\"></span>\n",
       "</div>\n",
       "</div>\n",
       "<div class=\"col-xs-11\">\n",
       "<span>\n",
       "                        4 person apartment share  \n",
       "                         |\n",
       "\n",
       "                                                                                    Berlin\n",
       "                            \n",
       "                            Berlin |\n",
       "                        \n",
       "                        Stadtrandstr.499\n",
       "                    </span>\n",
       "<span class=\"noprint\" title=\"4er WG (0w,1m,0d)\">\n",
       "<img alt=\"Male\" class=\"vis\" height=\"17\" src=\"/img/wgm.gif\" style=\"margin-left:0px;\" width=\"10\"/><img alt=\"Searching for a flatmate of female gender\" class=\"vis\" height=\"17\" src=\"/img/wgwg.gif\" style=\"margin-left:0px;\" width=\"10\"/><img alt=\"Searching for a flatmate of female gender\" class=\"vis\" height=\"17\" src=\"/img/wgwg.gif\" style=\"margin-left:0px;\" width=\"10\"/><img alt=\"Searching for a flatmate of female gender\" class=\"vis\" height=\"17\" src=\"/img/wgwg.gif\" style=\"margin-left:0px;\" width=\"10\"/> </span>\n",
       "</div>\n",
       "</div>\n",
       "<div class=\"row noprint middle\">\n",
       "<div class=\"col-xs-3\">\n",
       "<b>200 €</b>\n",
       "</div>\n",
       "<div class=\"col-xs-5 text-center\">\n",
       "                                                                        from\n",
       "                                                01.09.2022\n",
       "                    \n",
       "                                    </div>\n",
       "<div class=\"col-xs-3 text-right\">\n",
       "<b>20 m²</b>\n",
       "</div>\n",
       "</div>\n",
       "<div class=\"row noprint bottom\">\n",
       "<div class=\"col-xs-2\">\n",
       "<img class=\"avatar\" src=\"/img/placeholder/no_profile_image_unisex.svg\"/>\n",
       "</div>\n",
       "<div class=\"col-xs-9\">\n",
       "<div class=\"row noprint\">\n",
       "<div class=\"col-sm-12 flex_space_between\">\n",
       "<span>\n",
       "</span>\n",
       "<span>\n",
       "</span>\n",
       "</div>\n",
       "</div>\n",
       "<div class=\"row noprint\">\n",
       "<div class=\"col-sm-12 flex_space_between\">\n",
       "<span class=\"ml5\">Michael</span>\n",
       "<span style=\"color: #218700;\">Online: 21 minutes</span>\n",
       "</div>\n",
       "</div>\n",
       "</div>\n",
       "<div class=\"col-xs-1 text-center p0\">\n",
       "<span class=\"mdi mdi-20px mdi-lh mdi-top2 mdi-close cursor-pointer\" onclick='fireLoginOrRegisterModalRequest(\"sign_in\");' title=\"Hide\"></span>\n",
       "</div>\n",
       "</div>\n",
       "</div>\n",
       "<div class=\"printonly\">\n",
       "<a class=\"detailansicht\" href=\"/en/wg-zimmer-in-Berlin-Berlin.9532998.html\">\n",
       "<b>Shared Flat</b>\n",
       "</a>\n",
       "<br/>\n",
       "<div>\n",
       "<b>200 € |</b>\n",
       "<b>20 m²</b>\n",
       "</div>\n",
       "<div>\n",
       "                4 person apartment share  \n",
       "                 |\n",
       "\n",
       "                                                            Berlin\n",
       "                    \n",
       "                    Berlin |\n",
       "                \n",
       "                Stadtrandstr.499\n",
       "            </div>\n",
       "<div style=\"margin-bottom:10px;\">\n",
       "<b>\n",
       "                    Available:\n",
       "                    01.09.2022\n",
       "                </b>\n",
       "</div>\n",
       "<div style=\"margin-bottom:10px;\">\n",
       "<i>To view full Offer, go to:</i> https://www.wg-gesucht.de/9532998.html\n",
       "            </div>\n",
       "<div style=\"border-top: 2px solid #ddd; margin-bottom:10px\"></div>\n",
       "</div>\n",
       "</div>\n",
       "</div>"
      ]
     },
     "execution_count": 65,
     "metadata": {},
     "output_type": "execute_result"
    }
   ],
   "source": [
    "announce_card = announce_cards[10]\n",
    "\n",
    "announce_card\n"
   ]
  },
  {
   "cell_type": "code",
   "execution_count": null,
   "metadata": {},
   "outputs": [],
   "source": []
  }
 ],
 "metadata": {
  "kernelspec": {
   "display_name": "Python 3 (ipykernel)",
   "language": "python",
   "name": "python3"
  },
  "language_info": {
   "codemirror_mode": {
    "name": "ipython",
    "version": 3
   },
   "file_extension": ".py",
   "mimetype": "text/x-python",
   "name": "python",
   "nbconvert_exporter": "python",
   "pygments_lexer": "ipython3",
   "version": "3.9.7"
  }
 },
 "nbformat": 4,
 "nbformat_minor": 4
}
