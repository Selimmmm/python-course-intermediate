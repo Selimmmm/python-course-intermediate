{
 "cells": [
  {
   "cell_type": "markdown",
   "metadata": {},
   "source": [
    "## Quelques ressources pour progresser : \n",
    "\n",
    "\n",
    "\n",
    "\n",
    "### En français\n",
    "\n",
    "\n",
    "\n",
    "\n",
    "- Site de Xavier Dupré (senior enginner chez Microsoft et enseignant) : \n",
    " - [Résumé de syntaxe](http://www.xavierdupre.fr/app/teachpyx/helpsphinx/c_resume/python_sheet.html)\n",
    " - [Bases en Python](http://www.xavierdupre.fr/app/ensae_teaching_cs/helpsphinx3/td_1a.html)\n",
    " - [Cours de Python pour la Data](http://www.xavierdupre.fr/app/ensae_teaching_cs/helpsphinx3/td_2a.html)\n",
    "\n",
    "\n",
    "- Publicis Sapient : \n",
    " - [Accueil - de nombreuses ressources en code et en tech](https://blog.engineering.publicissapient.fr/)\n",
    " - [Outils pour la Data Science](https://blog.engineering.publicissapient.fr/2015/04/29/les-outils-de-la-data-science-python-data-tools/)\n",
    "\n",
    "\n",
    "- [Cours du CNRS - bases en Python](https://calcul.math.cnrs.fr/attachments/spip/Documents/Ecoles/2010/les_bases.pdf)\n",
    "\n",
    "- [Compilation de ressources - Académie de Bordeaux](https://ent2d.ac-bordeaux.fr/disciplines/mathematiques/des-tutoriels-pour-debuter-avec-le-langage-python/)\n",
    "\n",
    "### In English\n",
    "\n",
    "\n",
    "- [W3schools - Python (MUST  DO !!! )](https://www.w3schools.com/python/)\n",
    " - Python Tutorial and Python Reference for basics Python\n",
    " - Python Matplotlib,  Python NumPy and Machine Learning for Data Science\n",
    " \n",
    " \n",
    "- [Quelques Cheat Sheets (dans le repo)](https://github.com/Selimmmm/hetic_m1_csb_public/tree/master/CheatSheets)\n",
    "\n",
    "- [DataCamp](https://www.datacamp.com/):\n",
    " - [Pandas basics](https://www.datacamp.com/community/tutorials/pandas-tutorial-dataframe-python)\n",
    " - [Sklearn basics](https://www.datacamp.com/community/tutorials/machine-learning-python)\n",
    "\n",
    "\n",
    "- [AfterHoursProgramming - Python](https://www.afterhoursprogramming.com/tutorial/python/)\n"
   ]
  },
  {
   "cell_type": "code",
   "execution_count": null,
   "metadata": {},
   "outputs": [],
   "source": []
  }
 ],
 "metadata": {
  "kernelspec": {
   "display_name": "Python 3",
   "language": "python",
   "name": "python3"
  },
  "language_info": {
   "codemirror_mode": {
    "name": "ipython",
    "version": 3
   },
   "file_extension": ".py",
   "mimetype": "text/x-python",
   "name": "python",
   "nbconvert_exporter": "python",
   "pygments_lexer": "ipython3",
   "version": "3.9.0"
  }
 },
 "nbformat": 4,
 "nbformat_minor": 4
}
